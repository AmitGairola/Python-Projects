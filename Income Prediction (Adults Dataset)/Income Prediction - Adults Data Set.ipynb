{
 "cells": [
  {
   "cell_type": "markdown",
   "metadata": {},
   "source": [
    "<h1> Adults Data Income Prediction </h1>\n",
    "<p> This dataset is sourced from University of California Irive ML Library </p>\n",
    "<p> The attributes are given below </p>\n",
    "\n",
    " \n",
    "Dependent Variable : \">50K\", ;<=50K\"\n",
    "\n",
    "<h6> Independent Variables </h6>\n",
    "age: continuous. <br>\n",
    "workclass: Private, Self-emp-not-inc, Self-emp-inc, Federal-gov, Local-gov, State-gov, Without-pay, Never-worked.<br>\n",
    "fnlwgt: continuous.<br>\n",
    "education: Bachelors, Some-college, 11th, HS-grad, Prof-school, Assoc-acdm, Assoc-voc, 9th, 7th-8th, 12th, Masters, 1st-4th, 10th, Doctorate, 5th-6th, Preschool.<br>\n",
    "education-num: continuous.<br>\n",
    "marital-status: Married-civ-spouse, Divorced, Never-married, Separated, Widowed, Married-spouse-absent, Married-AF-spouse.<br>\n",
    "occupation: Tech-support, Craft-repair, Other-service, Sales, Exec-managerial, Prof-specialty, Handlers-cleaners, Machine-op-inspct, Adm-clerical, Farming-fishing, Transport-moving, Priv-house-serv, Protective-serv, Armed-Forces.<br>\n",
    "relationship: Wife, Own-child, Husband, Not-in-family, Other-relative, Unmarried.<br>\n",
    "race: White, Asian-Pac-Islander, Amer-Indian-Eskimo, Other, Black.<br>\n",
    "sex: Female, Male.<br>\n",
    "capital-gain: continuous.<br>\n",
    "capital-loss: continuous.<br>\n",
    "hours-per-week: continuous.<br>\n",
    "native-country: United-States, Cambodia, England, Puerto-Rico, Canada, Germany, Outlying-US(Guam-USVI-etc), India, Japan, Greece, South, China, Cuba, Iran, Honduras, Philippines, Italy, Poland, Jamaica, Vietnam, Mexico, Portugal, Ireland, France, Dominican-Republic, Laos, Ecuador, Taiwan, Haiti, Columbia, Hungary, Guatemala, Nicaragua, Scotland, Thailand, Yugoslavia, El-Salvador, Trinadad&Tobago, Peru, Hong, Holand-Netherlands.<br>"
   ]
  },
  {
   "cell_type": "markdown",
   "metadata": {},
   "source": [
    "\n",
    "<h2> Import the Libraries required </h2>\n",
    "<p> We intend to apply multiple classification models and then use the best among - Logistic Regression, Decision Tree, Random Forest, Support Vector Machines, Naive Bayes and XGBoost </p>"
   ]
  },
  {
   "cell_type": "code",
   "execution_count": 1,
   "metadata": {},
   "outputs": [],
   "source": [
    "import numpy as np\n",
    "import pandas as pd\n",
    "import seaborn as sns\n",
    "import matplotlib.pyplot as plt\n",
    "from sklearn.preprocessing import OneHotEncoder,LabelEncoder\n",
    "import category_encoders as ce\n",
    "from sklearn.linear_model import LogisticRegression\n",
    "from sklearn.tree import DecisionTreeClassifier\n",
    "from sklearn.ensemble import RandomForestClassifier\n",
    "from sklearn.naive_bayes import GaussianNB\n",
    "from sklearn.svm import LinearSVC, SVC\n",
    "from sklearn.model_selection import train_test_split\n",
    "import statsmodels.api as sm\n",
    "from sklearn.metrics import mean_absolute_error,mean_squared_error, roc_auc_score,roc_curve, auc, confusion_matrix, classification_report\n",
    "import random\n",
    "import xgboost as xgb"
   ]
  },
  {
   "cell_type": "markdown",
   "metadata": {},
   "source": [
    "<h2> Read the Data set </h2>"
   ]
  },
  {
   "cell_type": "code",
   "execution_count": 3,
   "metadata": {},
   "outputs": [
    {
     "data": {
      "text/html": [
       "<div>\n",
       "<style scoped>\n",
       "    .dataframe tbody tr th:only-of-type {\n",
       "        vertical-align: middle;\n",
       "    }\n",
       "\n",
       "    .dataframe tbody tr th {\n",
       "        vertical-align: top;\n",
       "    }\n",
       "\n",
       "    .dataframe thead th {\n",
       "        text-align: right;\n",
       "    }\n",
       "</style>\n",
       "<table border=\"1\" class=\"dataframe\">\n",
       "  <thead>\n",
       "    <tr style=\"text-align: right;\">\n",
       "      <th></th>\n",
       "      <th>age</th>\n",
       "      <th>workclass</th>\n",
       "      <th>fnlwgt</th>\n",
       "      <th>education</th>\n",
       "      <th>education-num</th>\n",
       "      <th>marital-status</th>\n",
       "      <th>occupation</th>\n",
       "      <th>relationship</th>\n",
       "      <th>race</th>\n",
       "      <th>sex</th>\n",
       "      <th>capital-gain</th>\n",
       "      <th>capital-loss</th>\n",
       "      <th>hours-per-week</th>\n",
       "      <th>native-country</th>\n",
       "      <th>income</th>\n",
       "    </tr>\n",
       "  </thead>\n",
       "  <tbody>\n",
       "    <tr>\n",
       "      <th>0</th>\n",
       "      <td>39</td>\n",
       "      <td>State-gov</td>\n",
       "      <td>77516</td>\n",
       "      <td>Bachelors</td>\n",
       "      <td>13</td>\n",
       "      <td>Never-married</td>\n",
       "      <td>Adm-clerical</td>\n",
       "      <td>Not-in-family</td>\n",
       "      <td>White</td>\n",
       "      <td>Male</td>\n",
       "      <td>2174</td>\n",
       "      <td>0</td>\n",
       "      <td>40</td>\n",
       "      <td>United-States</td>\n",
       "      <td>&lt;=50K</td>\n",
       "    </tr>\n",
       "    <tr>\n",
       "      <th>1</th>\n",
       "      <td>50</td>\n",
       "      <td>Self-emp-not-inc</td>\n",
       "      <td>83311</td>\n",
       "      <td>Bachelors</td>\n",
       "      <td>13</td>\n",
       "      <td>Married-civ-spouse</td>\n",
       "      <td>Exec-managerial</td>\n",
       "      <td>Husband</td>\n",
       "      <td>White</td>\n",
       "      <td>Male</td>\n",
       "      <td>0</td>\n",
       "      <td>0</td>\n",
       "      <td>13</td>\n",
       "      <td>United-States</td>\n",
       "      <td>&lt;=50K</td>\n",
       "    </tr>\n",
       "    <tr>\n",
       "      <th>2</th>\n",
       "      <td>38</td>\n",
       "      <td>Private</td>\n",
       "      <td>215646</td>\n",
       "      <td>HS-grad</td>\n",
       "      <td>9</td>\n",
       "      <td>Divorced</td>\n",
       "      <td>Handlers-cleaners</td>\n",
       "      <td>Not-in-family</td>\n",
       "      <td>White</td>\n",
       "      <td>Male</td>\n",
       "      <td>0</td>\n",
       "      <td>0</td>\n",
       "      <td>40</td>\n",
       "      <td>United-States</td>\n",
       "      <td>&lt;=50K</td>\n",
       "    </tr>\n",
       "    <tr>\n",
       "      <th>3</th>\n",
       "      <td>53</td>\n",
       "      <td>Private</td>\n",
       "      <td>234721</td>\n",
       "      <td>11th</td>\n",
       "      <td>7</td>\n",
       "      <td>Married-civ-spouse</td>\n",
       "      <td>Handlers-cleaners</td>\n",
       "      <td>Husband</td>\n",
       "      <td>Black</td>\n",
       "      <td>Male</td>\n",
       "      <td>0</td>\n",
       "      <td>0</td>\n",
       "      <td>40</td>\n",
       "      <td>United-States</td>\n",
       "      <td>&lt;=50K</td>\n",
       "    </tr>\n",
       "    <tr>\n",
       "      <th>4</th>\n",
       "      <td>28</td>\n",
       "      <td>Private</td>\n",
       "      <td>338409</td>\n",
       "      <td>Bachelors</td>\n",
       "      <td>13</td>\n",
       "      <td>Married-civ-spouse</td>\n",
       "      <td>Prof-specialty</td>\n",
       "      <td>Wife</td>\n",
       "      <td>Black</td>\n",
       "      <td>Female</td>\n",
       "      <td>0</td>\n",
       "      <td>0</td>\n",
       "      <td>40</td>\n",
       "      <td>Cuba</td>\n",
       "      <td>&lt;=50K</td>\n",
       "    </tr>\n",
       "  </tbody>\n",
       "</table>\n",
       "</div>"
      ],
      "text/plain": [
       "   age          workclass  fnlwgt   education  education-num  \\\n",
       "0   39          State-gov   77516   Bachelors             13   \n",
       "1   50   Self-emp-not-inc   83311   Bachelors             13   \n",
       "2   38            Private  215646     HS-grad              9   \n",
       "3   53            Private  234721        11th              7   \n",
       "4   28            Private  338409   Bachelors             13   \n",
       "\n",
       "        marital-status          occupation    relationship    race      sex  \\\n",
       "0        Never-married        Adm-clerical   Not-in-family   White     Male   \n",
       "1   Married-civ-spouse     Exec-managerial         Husband   White     Male   \n",
       "2             Divorced   Handlers-cleaners   Not-in-family   White     Male   \n",
       "3   Married-civ-spouse   Handlers-cleaners         Husband   Black     Male   \n",
       "4   Married-civ-spouse      Prof-specialty            Wife   Black   Female   \n",
       "\n",
       "   capital-gain  capital-loss  hours-per-week  native-country  income  \n",
       "0          2174             0              40   United-States   <=50K  \n",
       "1             0             0              13   United-States   <=50K  \n",
       "2             0             0              40   United-States   <=50K  \n",
       "3             0             0              40   United-States   <=50K  \n",
       "4             0             0              40            Cuba   <=50K  "
      ]
     },
     "execution_count": 3,
     "metadata": {},
     "output_type": "execute_result"
    }
   ],
   "source": [
    "random.seed(100)\n",
    "np.random.seed(100)\n",
    "colnames= ['age','workclass','fnlwgt','education','education-num','marital-status','occupation','relationship','race','sex','capital-gain','capital-loss','hours-per-week','native-country','income']\n",
    "df = pd.read_csv(\"Adults/adult.data\", names=colnames)\n",
    "df.head()"
   ]
  },
  {
   "cell_type": "markdown",
   "metadata": {},
   "source": [
    "<h2> Statistical Analysis on the Data Set </h2>"
   ]
  },
  {
   "cell_type": "code",
   "execution_count": 4,
   "metadata": {},
   "outputs": [
    {
     "data": {
      "text/html": [
       "<div>\n",
       "<style scoped>\n",
       "    .dataframe tbody tr th:only-of-type {\n",
       "        vertical-align: middle;\n",
       "    }\n",
       "\n",
       "    .dataframe tbody tr th {\n",
       "        vertical-align: top;\n",
       "    }\n",
       "\n",
       "    .dataframe thead th {\n",
       "        text-align: right;\n",
       "    }\n",
       "</style>\n",
       "<table border=\"1\" class=\"dataframe\">\n",
       "  <thead>\n",
       "    <tr style=\"text-align: right;\">\n",
       "      <th></th>\n",
       "      <th>age</th>\n",
       "      <th>fnlwgt</th>\n",
       "      <th>education-num</th>\n",
       "      <th>capital-gain</th>\n",
       "      <th>capital-loss</th>\n",
       "      <th>hours-per-week</th>\n",
       "    </tr>\n",
       "  </thead>\n",
       "  <tbody>\n",
       "    <tr>\n",
       "      <th>count</th>\n",
       "      <td>32561.000000</td>\n",
       "      <td>3.256100e+04</td>\n",
       "      <td>32561.000000</td>\n",
       "      <td>32561.000000</td>\n",
       "      <td>32561.000000</td>\n",
       "      <td>32561.000000</td>\n",
       "    </tr>\n",
       "    <tr>\n",
       "      <th>mean</th>\n",
       "      <td>38.581647</td>\n",
       "      <td>1.897784e+05</td>\n",
       "      <td>10.080679</td>\n",
       "      <td>1077.648844</td>\n",
       "      <td>87.303830</td>\n",
       "      <td>40.437456</td>\n",
       "    </tr>\n",
       "    <tr>\n",
       "      <th>std</th>\n",
       "      <td>13.640433</td>\n",
       "      <td>1.055500e+05</td>\n",
       "      <td>2.572720</td>\n",
       "      <td>7385.292085</td>\n",
       "      <td>402.960219</td>\n",
       "      <td>12.347429</td>\n",
       "    </tr>\n",
       "    <tr>\n",
       "      <th>min</th>\n",
       "      <td>17.000000</td>\n",
       "      <td>1.228500e+04</td>\n",
       "      <td>1.000000</td>\n",
       "      <td>0.000000</td>\n",
       "      <td>0.000000</td>\n",
       "      <td>1.000000</td>\n",
       "    </tr>\n",
       "    <tr>\n",
       "      <th>25%</th>\n",
       "      <td>28.000000</td>\n",
       "      <td>1.178270e+05</td>\n",
       "      <td>9.000000</td>\n",
       "      <td>0.000000</td>\n",
       "      <td>0.000000</td>\n",
       "      <td>40.000000</td>\n",
       "    </tr>\n",
       "    <tr>\n",
       "      <th>50%</th>\n",
       "      <td>37.000000</td>\n",
       "      <td>1.783560e+05</td>\n",
       "      <td>10.000000</td>\n",
       "      <td>0.000000</td>\n",
       "      <td>0.000000</td>\n",
       "      <td>40.000000</td>\n",
       "    </tr>\n",
       "    <tr>\n",
       "      <th>75%</th>\n",
       "      <td>48.000000</td>\n",
       "      <td>2.370510e+05</td>\n",
       "      <td>12.000000</td>\n",
       "      <td>0.000000</td>\n",
       "      <td>0.000000</td>\n",
       "      <td>45.000000</td>\n",
       "    </tr>\n",
       "    <tr>\n",
       "      <th>max</th>\n",
       "      <td>90.000000</td>\n",
       "      <td>1.484705e+06</td>\n",
       "      <td>16.000000</td>\n",
       "      <td>99999.000000</td>\n",
       "      <td>4356.000000</td>\n",
       "      <td>99.000000</td>\n",
       "    </tr>\n",
       "  </tbody>\n",
       "</table>\n",
       "</div>"
      ],
      "text/plain": [
       "                age        fnlwgt  education-num  capital-gain  capital-loss  \\\n",
       "count  32561.000000  3.256100e+04   32561.000000  32561.000000  32561.000000   \n",
       "mean      38.581647  1.897784e+05      10.080679   1077.648844     87.303830   \n",
       "std       13.640433  1.055500e+05       2.572720   7385.292085    402.960219   \n",
       "min       17.000000  1.228500e+04       1.000000      0.000000      0.000000   \n",
       "25%       28.000000  1.178270e+05       9.000000      0.000000      0.000000   \n",
       "50%       37.000000  1.783560e+05      10.000000      0.000000      0.000000   \n",
       "75%       48.000000  2.370510e+05      12.000000      0.000000      0.000000   \n",
       "max       90.000000  1.484705e+06      16.000000  99999.000000   4356.000000   \n",
       "\n",
       "       hours-per-week  \n",
       "count    32561.000000  \n",
       "mean        40.437456  \n",
       "std         12.347429  \n",
       "min          1.000000  \n",
       "25%         40.000000  \n",
       "50%         40.000000  \n",
       "75%         45.000000  \n",
       "max         99.000000  "
      ]
     },
     "execution_count": 4,
     "metadata": {},
     "output_type": "execute_result"
    }
   ],
   "source": [
    "df.describe()"
   ]
  },
  {
   "cell_type": "code",
   "execution_count": 5,
   "metadata": {},
   "outputs": [],
   "source": [
    "# Strip white spaces in Data\n",
    "df = df.apply(lambda x: x.str.strip() if x.dtype == \"object\" else x)"
   ]
  },
  {
   "cell_type": "code",
   "execution_count": 6,
   "metadata": {},
   "outputs": [
    {
     "name": "stdout",
     "output_type": "stream",
     "text": [
      "Private             22696\n",
      "Self-emp-not-inc     2541\n",
      "Local-gov            2093\n",
      "?                    1836\n",
      "State-gov            1298\n",
      "Self-emp-inc         1116\n",
      "Federal-gov           960\n",
      "Without-pay            14\n",
      "Never-worked            7\n",
      "Name: workclass, dtype: int64\n"
     ]
    }
   ],
   "source": [
    "print(df['workclass'].value_counts())"
   ]
  },
  {
   "cell_type": "code",
   "execution_count": 7,
   "metadata": {},
   "outputs": [
    {
     "name": "stdout",
     "output_type": "stream",
     "text": [
      "HS-grad         10501\n",
      "Some-college     7291\n",
      "Bachelors        5355\n",
      "Masters          1723\n",
      "Assoc-voc        1382\n",
      "11th             1175\n",
      "Assoc-acdm       1067\n",
      "10th              933\n",
      "7th-8th           646\n",
      "Prof-school       576\n",
      "9th               514\n",
      "12th              433\n",
      "Doctorate         413\n",
      "5th-6th           333\n",
      "1st-4th           168\n",
      "Preschool          51\n",
      "Name: education, dtype: int64\n"
     ]
    }
   ],
   "source": [
    "print(df['education'].value_counts())"
   ]
  },
  {
   "cell_type": "code",
   "execution_count": 8,
   "metadata": {},
   "outputs": [
    {
     "name": "stdout",
     "output_type": "stream",
     "text": [
      "Married-civ-spouse       14976\n",
      "Never-married            10683\n",
      "Divorced                  4443\n",
      "Separated                 1025\n",
      "Widowed                    993\n",
      "Married-spouse-absent      418\n",
      "Married-AF-spouse           23\n",
      "Name: marital-status, dtype: int64\n"
     ]
    }
   ],
   "source": [
    "print(df['marital-status'].value_counts())"
   ]
  },
  {
   "cell_type": "code",
   "execution_count": 9,
   "metadata": {},
   "outputs": [
    {
     "name": "stdout",
     "output_type": "stream",
     "text": [
      "Prof-specialty       4140\n",
      "Craft-repair         4099\n",
      "Exec-managerial      4066\n",
      "Adm-clerical         3770\n",
      "Sales                3650\n",
      "Other-service        3295\n",
      "Machine-op-inspct    2002\n",
      "?                    1843\n",
      "Transport-moving     1597\n",
      "Handlers-cleaners    1370\n",
      "Farming-fishing       994\n",
      "Tech-support          928\n",
      "Protective-serv       649\n",
      "Priv-house-serv       149\n",
      "Armed-Forces            9\n",
      "Name: occupation, dtype: int64\n"
     ]
    }
   ],
   "source": [
    "print(df['occupation'].value_counts())"
   ]
  },
  {
   "cell_type": "code",
   "execution_count": 10,
   "metadata": {},
   "outputs": [
    {
     "name": "stdout",
     "output_type": "stream",
     "text": [
      "Husband           13193\n",
      "Not-in-family      8305\n",
      "Own-child          5068\n",
      "Unmarried          3446\n",
      "Wife               1568\n",
      "Other-relative      981\n",
      "Name: relationship, dtype: int64\n"
     ]
    }
   ],
   "source": [
    "print(df['relationship'].value_counts())"
   ]
  },
  {
   "cell_type": "code",
   "execution_count": 11,
   "metadata": {},
   "outputs": [
    {
     "name": "stdout",
     "output_type": "stream",
     "text": [
      "Male      21790\n",
      "Female    10771\n",
      "Name: sex, dtype: int64\n"
     ]
    }
   ],
   "source": [
    "print(df['sex'].value_counts())"
   ]
  },
  {
   "cell_type": "code",
   "execution_count": 12,
   "metadata": {},
   "outputs": [
    {
     "name": "stdout",
     "output_type": "stream",
     "text": [
      "White                 27816\n",
      "Black                  3124\n",
      "Asian-Pac-Islander     1039\n",
      "Amer-Indian-Eskimo      311\n",
      "Other                   271\n",
      "Name: race, dtype: int64\n"
     ]
    }
   ],
   "source": [
    "print(df['race'].value_counts())"
   ]
  },
  {
   "cell_type": "code",
   "execution_count": 13,
   "metadata": {},
   "outputs": [
    {
     "name": "stdout",
     "output_type": "stream",
     "text": [
      "United-States                 29170\n",
      "Mexico                          643\n",
      "?                               583\n",
      "Philippines                     198\n",
      "Germany                         137\n",
      "Canada                          121\n",
      "Puerto-Rico                     114\n",
      "El-Salvador                     106\n",
      "India                           100\n",
      "Cuba                             95\n",
      "England                          90\n",
      "Jamaica                          81\n",
      "South                            80\n",
      "China                            75\n",
      "Italy                            73\n",
      "Dominican-Republic               70\n",
      "Vietnam                          67\n",
      "Guatemala                        64\n",
      "Japan                            62\n",
      "Poland                           60\n",
      "Columbia                         59\n",
      "Taiwan                           51\n",
      "Haiti                            44\n",
      "Iran                             43\n",
      "Portugal                         37\n",
      "Nicaragua                        34\n",
      "Peru                             31\n",
      "Greece                           29\n",
      "France                           29\n",
      "Ecuador                          28\n",
      "Ireland                          24\n",
      "Hong                             20\n",
      "Cambodia                         19\n",
      "Trinadad&Tobago                  19\n",
      "Thailand                         18\n",
      "Laos                             18\n",
      "Yugoslavia                       16\n",
      "Outlying-US(Guam-USVI-etc)       14\n",
      "Honduras                         13\n",
      "Hungary                          13\n",
      "Scotland                         12\n",
      "Holand-Netherlands                1\n",
      "Name: native-country, dtype: int64\n"
     ]
    }
   ],
   "source": [
    "print(df['native-country'].value_counts())"
   ]
  },
  {
   "cell_type": "code",
   "execution_count": 14,
   "metadata": {},
   "outputs": [
    {
     "name": "stdout",
     "output_type": "stream",
     "text": [
      "<=50K    24720\n",
      ">50K      7841\n",
      "Name: income, dtype: int64\n"
     ]
    }
   ],
   "source": [
    "print(df['income'].value_counts())"
   ]
  },
  {
   "cell_type": "markdown",
   "metadata": {},
   "source": [
    "The data has missing values and they are identified by '?'. This is present in the following columns\n",
    "- workclass\n",
    "- occupation\n",
    "- native-country\n",
    "\n",
    "These are categorical variables and in the absence of any information (we can look at imputation, but it is easier to use Mode or Frequency to assume values for missing values.\n",
    "\n",
    "- workclass : We can assume that the missing values can be replaced by Private as majority of the dataset is for Private.\n",
    "- occupation: We can assume that the missing value can be replaced by 'Prof-specialty' though 'Craft-repair' is not far behind. It is a judgement call.\n",
    "- native-country: We can assume United States."
   ]
  },
  {
   "cell_type": "code",
   "execution_count": 16,
   "metadata": {},
   "outputs": [
    {
     "name": "stdout",
     "output_type": "stream",
     "text": [
      "Private             24532\n",
      "Self-emp-not-inc     2541\n",
      "Local-gov            2093\n",
      "State-gov            1298\n",
      "Self-emp-inc         1116\n",
      "Federal-gov           960\n",
      "Without-pay            14\n",
      "Never-worked            7\n",
      "Name: workclass, dtype: int64\n"
     ]
    }
   ],
   "source": [
    "df['workclass'] = df['workclass'].apply(lambda x: 'Private' if x=='?' else x)\n",
    "print(df['workclass'].value_counts())"
   ]
  },
  {
   "cell_type": "code",
   "execution_count": 17,
   "metadata": {},
   "outputs": [
    {
     "name": "stdout",
     "output_type": "stream",
     "text": [
      "Prof-specialty       5983\n",
      "Craft-repair         4099\n",
      "Exec-managerial      4066\n",
      "Adm-clerical         3770\n",
      "Sales                3650\n",
      "Other-service        3295\n",
      "Machine-op-inspct    2002\n",
      "Transport-moving     1597\n",
      "Handlers-cleaners    1370\n",
      "Farming-fishing       994\n",
      "Tech-support          928\n",
      "Protective-serv       649\n",
      "Priv-house-serv       149\n",
      "Armed-Forces            9\n",
      "Name: occupation, dtype: int64\n"
     ]
    }
   ],
   "source": [
    "df['occupation'] = df['occupation'].apply(lambda x: 'Prof-specialty' if x== '?' else x)\n",
    "print(df['occupation'].value_counts())"
   ]
  },
  {
   "cell_type": "code",
   "execution_count": 18,
   "metadata": {},
   "outputs": [
    {
     "name": "stdout",
     "output_type": "stream",
     "text": [
      "United-States                 29753\n",
      "Mexico                          643\n",
      "Philippines                     198\n",
      "Germany                         137\n",
      "Canada                          121\n",
      "Puerto-Rico                     114\n",
      "El-Salvador                     106\n",
      "India                           100\n",
      "Cuba                             95\n",
      "England                          90\n",
      "Jamaica                          81\n",
      "South                            80\n",
      "China                            75\n",
      "Italy                            73\n",
      "Dominican-Republic               70\n",
      "Vietnam                          67\n",
      "Guatemala                        64\n",
      "Japan                            62\n",
      "Poland                           60\n",
      "Columbia                         59\n",
      "Taiwan                           51\n",
      "Haiti                            44\n",
      "Iran                             43\n",
      "Portugal                         37\n",
      "Nicaragua                        34\n",
      "Peru                             31\n",
      "Greece                           29\n",
      "France                           29\n",
      "Ecuador                          28\n",
      "Ireland                          24\n",
      "Hong                             20\n",
      "Trinadad&Tobago                  19\n",
      "Cambodia                         19\n",
      "Laos                             18\n",
      "Thailand                         18\n",
      "Yugoslavia                       16\n",
      "Outlying-US(Guam-USVI-etc)       14\n",
      "Honduras                         13\n",
      "Hungary                          13\n",
      "Scotland                         12\n",
      "Holand-Netherlands                1\n",
      "Name: native-country, dtype: int64\n"
     ]
    }
   ],
   "source": [
    "#print(df['native-country'].value_counts())\n",
    "df['native-country'] = df['native-country'].apply(lambda x: 'United-States' if x== '?' else x)\n",
    "print(df['native-country'].value_counts())"
   ]
  },
  {
   "cell_type": "markdown",
   "metadata": {},
   "source": [
    "So now we have handled missing values in the dataframe, now we need to look at each variable and understand distributions. We shall use seaborn for plotting distributions.\n"
   ]
  },
  {
   "cell_type": "markdown",
   "metadata": {},
   "source": [
    "<h4> Workclass </h4>\n",
    "<p>From the value, it is clear that we have too many factors. Maybe we can combine 'Local-gov','State-gov' and 'Federal-gov' into a single category - 'Government'. For 'Self-emp-not-inc' and 'Self-emp-inc', we can use a single category 'Self-emp' and the 'Without-pay' and 'Never-worked' as 'Unemployed'. </p>"
   ]
  },
  {
   "cell_type": "code",
   "execution_count": null,
   "metadata": {},
   "outputs": [],
   "source": [
    "def fworkclass(x):\n",
    "    if x  in ['State-gov','Federal-gov','Local-gov']:\n",
    "        return 'Government'\n",
    "    elif x in ['Self-emp-not-inc','Self-emp-inc']:\n",
    "        return 'Self-emp'\n",
    "    elif x in ['Without-pay','Never-worked']:\n",
    "        return 'Unemployed'\n",
    "    else:\n",
    "        return x\n",
    "    \n",
    "df['workclass'] = df['workclass'].apply(lambda x: fworkclass(x))\n",
    "\n",
    "fig = plt.figure(figsize=(12,4))\n",
    "sns.color_palette('muted')\n",
    "sns.countplot(df['workclass'])\n",
    "print(df['workclass'].value_counts())"
   ]
  },
  {
   "cell_type": "markdown",
   "metadata": {},
   "source": [
    "<h4> Education </h4>\n",
    "\n",
    "For Education, we can combine \n",
    "- 'Preschool','1st-4th','5th-6th', '7th-8th','9th','10th','11th','12th' as 'Dropout'\n",
    "- Assoc-acdm and Assoc-voc as 'Associate'\n",
    "- HS-grad and Some-college as 'HS-grad'"
   ]
  },
  {
   "cell_type": "code",
   "execution_count": 19,
   "metadata": {},
   "outputs": [
    {
     "name": "stdout",
     "output_type": "stream",
     "text": [
      "HS-grad        17792\n",
      "Bachelors       5355\n",
      "Dropout         4253\n",
      "Associate       2449\n",
      "Masters         1723\n",
      "Prof-school      576\n",
      "Doctorate        413\n",
      "Name: education, dtype: int64\n"
     ]
    },
    {
     "data": {
      "image/png": "[encoded data removed]",
      "text/plain": [
       "<Figure size 1080x360 with 1 Axes>"
      ]
     },
     "metadata": {},
     "output_type": "display_data"
    }
   ],
   "source": [
    "def feducation(x):\n",
    "    if x=='Preschool' or x=='1st-4th' or x=='5th-6th' or x=='7th-8th' or x=='9th' or x=='10th' or x=='11th' or x=='12th':\n",
    "        return 'Dropout'\n",
    "    elif x=='Assoc-acdm' or x=='Assoc-voc':\n",
    "        return 'Associate'\n",
    "    elif x=='HS-grad' or x=='Some-college':\n",
    "        return 'HS-grad'\n",
    "    else:\n",
    "        return x\n",
    "df['education'] =df['education'].apply(lambda x: feducation(x))\n",
    "fig = plt.figure(figsize=(15,5))\n",
    "sns.color_palette('muted')\n",
    "sns.countplot(df['education'])\n",
    "print(df['education'].value_counts())"
   ]
  },
  {
   "cell_type": "markdown",
   "metadata": {},
   "source": [
    "<h4> Marital Status </h4>\n",
    "\n",
    "Here also, \n",
    "- 'Married-civ-spouse', 'Married-AF-spouse' and 'Married-spouse-absent' can be combined into 'Married'\n",
    "- 'Separated' and 'Divorced' can be combined into 'Not Married'"
   ]
  },
  {
   "cell_type": "code",
   "execution_count": 20,
   "metadata": {},
   "outputs": [
    {
     "name": "stdout",
     "output_type": "stream",
     "text": [
      "Married          15417\n",
      "Never-married    10683\n",
      "Not Married       5468\n",
      "Widowed            993\n",
      "Name: marital-status, dtype: int64\n"
     ]
    },
    {
     "data": {
      "image/png": "[encoded data removed]",
      "text/plain": [
       "<Figure size 864x288 with 1 Axes>"
      ]
     },
     "metadata": {},
     "output_type": "display_data"
    }
   ],
   "source": [
    "def fMaritalStatus(x):\n",
    "    if x=='Married-civ-spouse' or x=='Married-AF-spouse' or x=='Married-spouse-absent':\n",
    "        return 'Married'\n",
    "    elif x=='Separated' or x=='Divorced':\n",
    "        return 'Not Married'\n",
    "    else:\n",
    "        return x\n",
    "\n",
    "df['marital-status']=df['marital-status'].apply(lambda x: fMaritalStatus(x))\n",
    "\n",
    "fig = plt.figure(figsize=(12,4))\n",
    "sns.color_palette('muted')\n",
    "sns.countplot(df['marital-status'])\n",
    "print(df['marital-status'].value_counts())"
   ]
  },
  {
   "cell_type": "markdown",
   "metadata": {},
   "source": [
    "<h4> Occupation </h4>\n",
    "\n",
    "We can combine:\n",
    "- 'Craft-repair', 'Farming-fishing', 'Handlers-cleaners','Transport-moving','Machine-op-inspct' as 'Workers'\n",
    "- 'Exec-managerial' as Management\n",
    "- 'Other-service','Protective-serv', 'Priv-house-serv','Tech-support' as 'Service'\n",
    "- 'Adm-clerical' - 'Administrative'"
   ]
  },
  {
   "cell_type": "code",
   "execution_count": 21,
   "metadata": {},
   "outputs": [
    {
     "name": "stdout",
     "output_type": "stream",
     "text": [
      "Worker            10062\n",
      "Prof-specialty     5983\n",
      "Services           5021\n",
      "Management         4066\n",
      "Administrative     3770\n",
      "Sales              3650\n",
      "Armed-Forces          9\n",
      "Name: occupation, dtype: int64\n"
     ]
    },
    {
     "data": {
      "image/png": "[encoded data removed]",
      "text/plain": [
       "<Figure size 1800x432 with 1 Axes>"
      ]
     },
     "metadata": {},
     "output_type": "display_data"
    }
   ],
   "source": [
    "def fOccupation(x):\n",
    "    if x== 'Craft-repair' or x== 'Farming-fishing' or x== 'Handlers-cleaners' or x=='Transport-moving' or x=='Machine-op-inspct':\n",
    "        return 'Worker'\n",
    "    elif x=='Exec-managerial':\n",
    "        return 'Management'\n",
    "    elif x== 'Other-service' or x=='Protective-serv' or x=='Priv-house-serv' or x=='Tech-support':\n",
    "        return 'Services'\n",
    "    elif x=='Adm-clerical':\n",
    "        return 'Administrative'\n",
    "    else:\n",
    "        return x\n",
    "\n",
    "df['occupation'] = df['occupation'].apply(lambda x: fOccupation(x))\n",
    "\n",
    "fig = plt.figure(figsize=(25,6))\n",
    "sns.color_palette('muted')\n",
    "sns.countplot(df['occupation'])\n",
    "print(df['occupation'].value_counts())"
   ]
  },
  {
   "cell_type": "code",
   "execution_count": 22,
   "metadata": {},
   "outputs": [
    {
     "name": "stdout",
     "output_type": "stream",
     "text": [
      "Husband           13193\n",
      "Not-in-family      8305\n",
      "Own-child          5068\n",
      "Unmarried          3446\n",
      "Wife               1568\n",
      "Other-relative      981\n",
      "Name: relationship, dtype: int64\n"
     ]
    },
    {
     "data": {
      "image/png": "[encoded data removed]",
      "text/plain": [
       "<Figure size 1800x432 with 1 Axes>"
      ]
     },
     "metadata": {},
     "output_type": "display_data"
    }
   ],
   "source": [
    "fig = plt.figure(figsize=(25,6))\n",
    "sns.color_palette('muted')\n",
    "sns.countplot(df['relationship'])\n",
    "print(df['relationship'].value_counts())"
   ]
  },
  {
   "cell_type": "markdown",
   "metadata": {},
   "source": [
    "<h4> Native Country </h4>\n",
    "This attribute is dominated by United-States. Hence, we can look at putting up region as an additional variable.\n",
    "- United-States, Outlying-US(Guam-USVI-etc): United-States\n",
    "- Mexico, El Salvador,Nicaragua,Peru, Guatemala , Columbia, Ecuador, Honduras, Canada: Other-America\n",
    "- Puerto-Rico,  Cuba, Jamaica, Dominican-Republic, Haiti, Trinadad&Tobago: Caribbean\n",
    "- Philippines, Vietnam , Japan, China, Japan, India,Hong,Cambodia, Laos, Thailand, Taiwan, Iran : Asian\n",
    "- Germany, England, Italy, Poland, Portugal, France, Greece, Ireland, Yugoslavia,Hungary, Scotland,Holand-Netherlands: Europe "
   ]
  },
  {
   "cell_type": "code",
   "execution_count": 23,
   "metadata": {},
   "outputs": [
    {
     "name": "stdout",
     "output_type": "stream",
     "text": [
      "United-States-Canada    29888\n",
      "Other-Americas           1058\n",
      "Asia                      671\n",
      "Europe                    521\n",
      "Caribbean                 423\n",
      "Name: native-country, dtype: int64\n"
     ]
    },
    {
     "data": {
      "image/png": "[encoded data removed]",
      "text/plain": [
       "<Figure size 1800x432 with 1 Axes>"
      ]
     },
     "metadata": {},
     "output_type": "display_data"
    }
   ],
   "source": [
    "def fCountry(x):\n",
    "    if x in ['United-States','Outlying-US(Guam-USVI-etc)','Canada']:\n",
    "        return 'United-States-Canada'\n",
    "    elif x in ['Mexico', 'El-Salvador','Nicaragua','Peru', 'Guatemala' , 'Columbia', 'Ecuador', 'Honduras','South']:\n",
    "        return 'Other-Americas'\n",
    "    elif x in ['Puerto-Rico',  'Cuba', 'Jamaica', 'Dominican-Republic', 'Haiti', 'Trinadad&Tobago']:\n",
    "        return 'Caribbean'\n",
    "    elif x in ['Philippines', 'Vietnam' , 'Japan', 'China', 'Japan', 'India','Hong','Cambodia', 'Laos', 'Thailand', 'Taiwan', 'Iran']:\n",
    "        return 'Asia'\n",
    "    elif x in ['Germany', 'England', 'Italy', 'Poland', 'Portugal', 'France', 'Greece', 'Ireland', 'Yugoslavia','Hungary', 'Scotland','Holand-Netherlands']:\n",
    "        return 'Europe'\n",
    "    else:\n",
    "        return x\n",
    "df['native-country'] = df['native-country'].apply(lambda x: fCountry(x))\n",
    "fig = plt.figure(figsize=(25,6))\n",
    "sns.color_palette('muted')\n",
    "sns.countplot(df['native-country'])\n",
    "print(df['native-country'].value_counts())"
   ]
  },
  {
   "cell_type": "markdown",
   "metadata": {},
   "source": [
    "<h4> Race </h4>\n",
    "\n",
    "Here we just change to a meaningful name"
   ]
  },
  {
   "cell_type": "code",
   "execution_count": null,
   "metadata": {},
   "outputs": [],
   "source": [
    "def fRace(x):\n",
    "    if x=='Asian-Pac-Islander':\n",
    "        return 'Asian'\n",
    "    elif x=='Amer-Indian-Eskimo':\n",
    "        return 'American-Indian'\n",
    "    else:\n",
    "        return x\n",
    "df['race'] =df['race'].apply(lambda x: fRace(x))\n",
    "fig = plt.figure(figsize=(12,4))\n",
    "sns.color_palette('muted')\n",
    "sns.countplot(df['race'])\n",
    "print(df['race'].value_counts())"
   ]
  },
  {
   "cell_type": "markdown",
   "metadata": {},
   "source": [
    "<h4> Income </h4>\n",
    "\n",
    "Income has two values in string format. Converting them to 0/1 format. "
   ]
  },
  {
   "cell_type": "code",
   "execution_count": 24,
   "metadata": {},
   "outputs": [
    {
     "name": "stdout",
     "output_type": "stream",
     "text": [
      "<=50K    24720\n",
      ">50K      7841\n",
      "Name: income, dtype: int64\n",
      "0    24720\n",
      "1     7841\n",
      "Name: target-income-gt50k, dtype: int64\n"
     ]
    },
    {
     "data": {
      "image/png": "[encoded data removed]",
      "text/plain": [
       "<Figure size 1800x432 with 1 Axes>"
      ]
     },
     "metadata": {},
     "output_type": "display_data"
    }
   ],
   "source": [
    "print(df['income'].value_counts())\n",
    "df['target-income-gt50k'] = df['income'].apply(lambda x: 1 if x== '>50K' else 0)\n",
    "fig = plt.figure(figsize=(25,6))\n",
    "sns.color_palette('muted')\n",
    "sns.countplot(df['target-income-gt50k'])\n",
    "print(df['target-income-gt50k'].value_counts())"
   ]
  },
  {
   "cell_type": "code",
   "execution_count": 25,
   "metadata": {},
   "outputs": [],
   "source": [
    "df.drop(['fnlwgt','education-num','income'],axis=1, inplace=True)"
   ]
  },
  {
   "cell_type": "code",
   "execution_count": 26,
   "metadata": {},
   "outputs": [],
   "source": [
    "catenc = ce.BinaryEncoder(cols=['workclass','education','marital-status','occupation','relationship','race','sex', 'native-country'])\n",
    "df1 = catenc.fit_transform(df)"
   ]
  },
  {
   "cell_type": "code",
   "execution_count": 27,
   "metadata": {},
   "outputs": [],
   "source": [
    "X = df1.iloc[:,0:32]\n",
    "y = df1.loc[:,'target-income-gt50k']\n",
    "X_train, X_test,y_train,y_test = train_test_split(X,y,test_size=0.2)\n",
    "\n",
    "def ComputeAccuracy(m):\n",
    "    return np.round((m[0,0]+m[1,1])/m.sum(),2)*100"
   ]
  },
  {
   "cell_type": "markdown",
   "metadata": {},
   "source": [
    "<h4> !!! Now data preparation is over . Modelling begins !!! </h4>"
   ]
  },
  {
   "cell_type": "markdown",
   "metadata": {},
   "source": [
    "<h2> Logistic Regression </h2>"
   ]
  },
  {
   "cell_type": "code",
   "execution_count": 30,
   "metadata": {},
   "outputs": [
    {
     "name": "stderr",
     "output_type": "stream",
     "text": [
      "C:\\Users\\AmitG\\AppData\\Local\\conda\\conda\\envs\\PY35\\lib\\site-packages\\sklearn\\linear_model\\logistic.py:433: FutureWarning: Default solver will be changed to 'lbfgs' in 0.22. Specify a solver to silence this warning.\n",
      "  FutureWarning)\n"
     ]
    },
    {
     "name": "stdout",
     "output_type": "stream",
     "text": [
      "[0 0 0 ... 1 0 0]\n"
     ]
    }
   ],
   "source": [
    "logModel = LogisticRegression(random_state=100)\n",
    "logModel.fit(X_train, y_train)\n",
    "print(logModel.predict(X_train))"
   ]
  },
  {
   "cell_type": "code",
   "execution_count": 31,
   "metadata": {},
   "outputs": [
    {
     "name": "stdout",
     "output_type": "stream",
     "text": [
      "              precision    recall  f1-score   support\n",
      "\n",
      "           0       0.86      0.94      0.90     19812\n",
      "           1       0.72      0.52      0.60      6236\n",
      "\n",
      "   micro avg       0.84      0.84      0.84     26048\n",
      "   macro avg       0.79      0.73      0.75     26048\n",
      "weighted avg       0.83      0.84      0.83     26048\n",
      "\n",
      "Training Set Accuracy = 84.0\n"
     ]
    }
   ],
   "source": [
    "logM_confMatrix = confusion_matrix(y_pred=logModel.predict(X_train),y_true=y_train)\n",
    "print(classification_report(y_pred=logModel.predict(X_train),y_true=y_train))\n",
    "print(\"Training Set Accuracy = \"+ str(ComputeAccuracy(logM_confMatrix)))"
   ]
  },
  {
   "cell_type": "code",
   "execution_count": 32,
   "metadata": {},
   "outputs": [
    {
     "name": "stdout",
     "output_type": "stream",
     "text": [
      "              precision    recall  f1-score   support\n",
      "\n",
      "           0       0.86      0.94      0.90      4908\n",
      "           1       0.74      0.52      0.61      1605\n",
      "\n",
      "   micro avg       0.84      0.84      0.84      6513\n",
      "   macro avg       0.80      0.73      0.75      6513\n",
      "weighted avg       0.83      0.84      0.83      6513\n",
      "\n",
      "Test Set Accuracy = 84.0\n"
     ]
    }
   ],
   "source": [
    "pred = logModel.predict(X_test)\n",
    "fpr, tpr, thresholds = roc_curve(y_score =pred,y_true=y_test)\n",
    "logM_confMatrix_test = confusion_matrix(y_pred=pred,y_true=y_test)\n",
    "print(classification_report(y_pred=pred,y_true=y_test))\n",
    "print(\"Test Set Accuracy = \"+ str(ComputeAccuracy(logM_confMatrix_test)))"
   ]
  },
  {
   "cell_type": "code",
   "execution_count": 33,
   "metadata": {},
   "outputs": [],
   "source": [
    "fpr, tpr, thresholds = roc_curve(y_score = pred,y_true=y_test)"
   ]
  },
  {
   "cell_type": "code",
   "execution_count": 34,
   "metadata": {},
   "outputs": [
    {
     "data": {
      "image/png": "[encoded data removed]",
      "text/plain": [
       "<Figure size 432x288 with 1 Axes>"
      ]
     },
     "metadata": {},
     "output_type": "display_data"
    }
   ],
   "source": [
    "roc_auc = auc(fpr, tpr)\n",
    "\n",
    "# method I: plt\n",
    "plt.title('Receiver Operating Characteristic')\n",
    "plt.plot(fpr, tpr, 'b', label = 'AUC = %0.2f' % roc_auc)\n",
    "plt.legend(loc = 'lower right')\n",
    "plt.plot([0, 1], [0, 1],'r--')\n",
    "plt.xlim([0, 1])\n",
    "plt.ylim([0, 1])\n",
    "plt.ylabel('True Positive Rate')\n",
    "plt.xlabel('False Positive Rate')\n",
    "plt.show()"
   ]
  },
  {
   "cell_type": "markdown",
   "metadata": {},
   "source": [
    "<h2> Decision Tree </h2>"
   ]
  },
  {
   "cell_type": "code",
   "execution_count": 35,
   "metadata": {},
   "outputs": [
    {
     "name": "stdout",
     "output_type": "stream",
     "text": [
      "              precision    recall  f1-score   support\n",
      "\n",
      "           0       0.94      0.98      0.96     19812\n",
      "           1       0.93      0.78      0.85      6236\n",
      "\n",
      "   micro avg       0.94      0.94      0.94     26048\n",
      "   macro avg       0.94      0.88      0.91     26048\n",
      "weighted avg       0.94      0.94      0.93     26048\n",
      "\n",
      "Train Set Accuracy = 94.0\n"
     ]
    }
   ],
   "source": [
    "DecTree = DecisionTreeClassifier()\n",
    "DecTree.fit(X_train,y_train)\n",
    "confm_train = confusion_matrix(y_pred=DecTree.predict(X_train),y_true=y_train)\n",
    "print(classification_report(y_pred=DecTree.predict(X_train),y_true=y_train))\n",
    "print(\"Train Set Accuracy = \"+ str(ComputeAccuracy(confm_train)))"
   ]
  },
  {
   "cell_type": "code",
   "execution_count": 36,
   "metadata": {},
   "outputs": [
    {
     "name": "stdout",
     "output_type": "stream",
     "text": [
      "              precision    recall  f1-score   support\n",
      "\n",
      "           0       0.87      0.91      0.89      4908\n",
      "           1       0.68      0.60      0.63      1605\n",
      "\n",
      "   micro avg       0.83      0.83      0.83      6513\n",
      "   macro avg       0.77      0.75      0.76      6513\n",
      "weighted avg       0.82      0.83      0.83      6513\n",
      "\n",
      "Test Set Accuracy = 83.0\n"
     ]
    }
   ],
   "source": [
    "pred = DecTree.predict(X_test)\n",
    "fpr, tpr, thresholds = roc_curve(y_score =pred,y_true=y_test)\n",
    "confm_test = confusion_matrix(y_pred=pred,y_true=y_test)\n",
    "print(classification_report(y_pred=pred,y_true=y_test))\n",
    "print(\"Test Set Accuracy = \"+ str(ComputeAccuracy(confm_test)))"
   ]
  },
  {
   "cell_type": "code",
   "execution_count": 37,
   "metadata": {},
   "outputs": [
    {
     "data": {
      "image/png": "[encoded data removed]",
      "text/plain": [
       "<Figure size 432x288 with 1 Axes>"
      ]
     },
     "metadata": {},
     "output_type": "display_data"
    }
   ],
   "source": [
    "roc_auc = auc(fpr, tpr)\n",
    "\n",
    "# method I: plt\n",
    "plt.title('Receiver Operating Characteristic')\n",
    "plt.plot(fpr, tpr, 'b', label = 'AUC = %0.2f' % roc_auc)\n",
    "plt.legend(loc = 'lower right')\n",
    "plt.plot([0, 1], [0, 1],'r--')\n",
    "plt.xlim([0, 1])\n",
    "plt.ylim([0, 1])\n",
    "plt.ylabel('True Positive Rate')\n",
    "plt.xlabel('False Positive Rate')\n",
    "plt.show()"
   ]
  },
  {
   "cell_type": "markdown",
   "metadata": {},
   "source": [
    "<h2> Random Forest </h2>"
   ]
  },
  {
   "cell_type": "code",
   "execution_count": 38,
   "metadata": {},
   "outputs": [
    {
     "name": "stderr",
     "output_type": "stream",
     "text": [
      "C:\\Users\\AmitG\\AppData\\Local\\conda\\conda\\envs\\PY35\\lib\\site-packages\\sklearn\\ensemble\\forest.py:246: FutureWarning: The default value of n_estimators will change from 10 in version 0.20 to 100 in 0.22.\n",
      "  \"10 in version 0.20 to 100 in 0.22.\", FutureWarning)\n"
     ]
    },
    {
     "name": "stdout",
     "output_type": "stream",
     "text": [
      "              precision    recall  f1-score   support\n",
      "\n",
      "           0       0.94      0.97      0.95     19812\n",
      "           1       0.90      0.79      0.84      6236\n",
      "\n",
      "   micro avg       0.93      0.93      0.93     26048\n",
      "   macro avg       0.92      0.88      0.90     26048\n",
      "weighted avg       0.93      0.93      0.93     26048\n",
      "\n",
      "Train Set Accuracy = 93.0\n"
     ]
    }
   ],
   "source": [
    "RFModel = RandomForestClassifier()\n",
    "RFModel.fit(X_train,y_train)\n",
    "confm_train = confusion_matrix(y_pred=RFModel.predict(X_train),y_true=y_train)\n",
    "print(classification_report(y_pred=RFModel.predict(X_train),y_true=y_train))\n",
    "print(\"Train Set Accuracy = \"+ str(ComputeAccuracy(confm_train)))"
   ]
  },
  {
   "cell_type": "code",
   "execution_count": 39,
   "metadata": {},
   "outputs": [
    {
     "name": "stdout",
     "output_type": "stream",
     "text": [
      "              precision    recall  f1-score   support\n",
      "\n",
      "           0       0.88      0.92      0.90      4908\n",
      "           1       0.72      0.60      0.65      1605\n",
      "\n",
      "   micro avg       0.84      0.84      0.84      6513\n",
      "   macro avg       0.80      0.76      0.78      6513\n",
      "weighted avg       0.84      0.84      0.84      6513\n",
      "\n",
      "Test Set Accuracy = 84.0\n"
     ]
    }
   ],
   "source": [
    "pred = RFModel.predict(X_test)\n",
    "fpr, tpr, thresholds = roc_curve(y_score =pred,y_true=y_test)\n",
    "confm_test1 = confusion_matrix(y_pred=pred,y_true=y_test)\n",
    "print(classification_report(y_pred=pred,y_true=y_test))\n",
    "print(\"Test Set Accuracy = \"+ str(ComputeAccuracy(confm_test1)))"
   ]
  },
  {
   "cell_type": "code",
   "execution_count": 40,
   "metadata": {},
   "outputs": [
    {
     "data": {
      "image/png": "[encoded data removed]",
      "text/plain": [
       "<Figure size 432x288 with 1 Axes>"
      ]
     },
     "metadata": {},
     "output_type": "display_data"
    }
   ],
   "source": [
    "roc_auc = auc(fpr, tpr)\n",
    "\n",
    "# method I: plt\n",
    "plt.title('Receiver Operating Characteristic')\n",
    "plt.plot(fpr, tpr, 'b', label = 'AUC = %0.2f' % roc_auc)\n",
    "plt.legend(loc = 'lower right')\n",
    "plt.plot([0, 1], [0, 1],'r--')\n",
    "plt.xlim([0, 1])\n",
    "plt.ylim([0, 1])\n",
    "plt.ylabel('True Positive Rate')\n",
    "plt.xlabel('False Positive Rate')\n",
    "plt.show()"
   ]
  },
  {
   "cell_type": "markdown",
   "metadata": {},
   "source": [
    "<h2> Support Vector Classifier </h2>"
   ]
  },
  {
   "cell_type": "code",
   "execution_count": 41,
   "metadata": {},
   "outputs": [
    {
     "name": "stdout",
     "output_type": "stream",
     "text": [
      "              precision    recall  f1-score   support\n",
      "\n",
      "           0       0.98      0.49      0.65     19812\n",
      "           1       0.37      0.97      0.54      6236\n",
      "\n",
      "   micro avg       0.60      0.60      0.60     26048\n",
      "   macro avg       0.68      0.73      0.60     26048\n",
      "weighted avg       0.84      0.60      0.63     26048\n",
      "\n",
      "Train Set Accuracy = 60.0\n"
     ]
    },
    {
     "name": "stderr",
     "output_type": "stream",
     "text": [
      "C:\\Users\\AmitG\\AppData\\Local\\conda\\conda\\envs\\PY35\\lib\\site-packages\\sklearn\\svm\\base.py:931: ConvergenceWarning: Liblinear failed to converge, increase the number of iterations.\n",
      "  \"the number of iterations.\", ConvergenceWarning)\n"
     ]
    }
   ],
   "source": [
    "C = 1.0  # SVM regularization parameter\n",
    "SVCModel = LinearSVC(C=1,max_iter=50)\n",
    "SVCModel.fit(X_train, y_train)\n",
    "confm_train = confusion_matrix(y_pred=SVCModel.predict(X_train),y_true=y_train)\n",
    "print(classification_report(y_pred=SVCModel.predict(X_train),y_true=y_train))\n",
    "print(\"Train Set Accuracy = \"+ str(ComputeAccuracy(confm_train)))"
   ]
  },
  {
   "cell_type": "code",
   "execution_count": 42,
   "metadata": {},
   "outputs": [
    {
     "name": "stdout",
     "output_type": "stream",
     "text": [
      "              precision    recall  f1-score   support\n",
      "\n",
      "           0       0.98      0.48      0.65      4908\n",
      "           1       0.38      0.97      0.55      1605\n",
      "\n",
      "   micro avg       0.60      0.60      0.60      6513\n",
      "   macro avg       0.68      0.73      0.60      6513\n",
      "weighted avg       0.83      0.60      0.62      6513\n",
      "\n",
      "Test Set Accuracy = 60.0\n"
     ]
    }
   ],
   "source": [
    "pred = SVCModel.predict(X_test)\n",
    "fpr, tpr, thresholds = roc_curve(y_score =pred,y_true=y_test)\n",
    "confm_test1 = confusion_matrix(y_pred=pred,y_true=y_test)\n",
    "print(classification_report(y_pred=pred,y_true=y_test))\n",
    "print(\"Test Set Accuracy = \"+ str(ComputeAccuracy(confm_test1)))"
   ]
  },
  {
   "cell_type": "code",
   "execution_count": 43,
   "metadata": {},
   "outputs": [
    {
     "name": "stdout",
     "output_type": "stream",
     "text": [
      "              precision    recall  f1-score   support\n",
      "\n",
      "           0       0.92      0.97      0.95     19812\n",
      "           1       0.90      0.74      0.81      6236\n",
      "\n",
      "   micro avg       0.92      0.92      0.92     26048\n",
      "   macro avg       0.91      0.85      0.88     26048\n",
      "weighted avg       0.92      0.92      0.91     26048\n",
      "\n",
      "Train Set Accuracy = 92.0\n"
     ]
    }
   ],
   "source": [
    "SVCModel2 = SVC(kernel='rbf',C=1,gamma=0.7)\n",
    "SVCModel2.fit(X_train, y_train)\n",
    "confm_train = confusion_matrix(y_pred=SVCModel2.predict(X_train),y_true=y_train)\n",
    "print(classification_report(y_pred=SVCModel2.predict(X_train),y_true=y_train))\n",
    "print(\"Train Set Accuracy = \"+ str(ComputeAccuracy(confm_train)))"
   ]
  },
  {
   "cell_type": "code",
   "execution_count": 44,
   "metadata": {},
   "outputs": [
    {
     "name": "stdout",
     "output_type": "stream",
     "text": [
      "              precision    recall  f1-score   support\n",
      "\n",
      "           0       0.84      0.95      0.89      4908\n",
      "           1       0.75      0.43      0.55      1605\n",
      "\n",
      "   micro avg       0.82      0.82      0.82      6513\n",
      "   macro avg       0.79      0.69      0.72      6513\n",
      "weighted avg       0.81      0.82      0.81      6513\n",
      "\n",
      "Test Set Accuracy = 82.0\n"
     ]
    }
   ],
   "source": [
    "pred = SVCModel2.predict(X_test)\n",
    "fpr, tpr, thresholds = roc_curve(y_score =pred,y_true=y_test)\n",
    "confm_test1 = confusion_matrix(y_pred=pred,y_true=y_test)\n",
    "print(classification_report(y_pred=pred,y_true=y_test))\n",
    "print(\"Test Set Accuracy = \"+ str(ComputeAccuracy(confm_test1)))"
   ]
  },
  {
   "cell_type": "code",
   "execution_count": 45,
   "metadata": {},
   "outputs": [
    {
     "data": {
      "image/png": "[encoded data removed]",
      "text/plain": [
       "<Figure size 432x288 with 1 Axes>"
      ]
     },
     "metadata": {},
     "output_type": "display_data"
    }
   ],
   "source": [
    "roc_auc = auc(fpr, tpr)\n",
    "\n",
    "# method I: plt\n",
    "plt.title('Receiver Operating Characteristic')\n",
    "plt.plot(fpr, tpr, 'b', label = 'AUC = %0.2f' % roc_auc)\n",
    "plt.legend(loc = 'lower right')\n",
    "plt.plot([0, 1], [0, 1],'r--')\n",
    "plt.xlim([0, 1])\n",
    "plt.ylim([0, 1])\n",
    "plt.ylabel('True Positive Rate')\n",
    "plt.xlabel('False Positive Rate')\n",
    "plt.show()"
   ]
  },
  {
   "cell_type": "markdown",
   "metadata": {},
   "source": [
    "<h2> Naive Bayes Classifier </h2>"
   ]
  },
  {
   "cell_type": "code",
   "execution_count": 46,
   "metadata": {},
   "outputs": [
    {
     "name": "stdout",
     "output_type": "stream",
     "text": [
      "              precision    recall  f1-score   support\n",
      "\n",
      "           0       0.90      0.83      0.86     19812\n",
      "           1       0.56      0.69      0.62      6236\n",
      "\n",
      "   micro avg       0.80      0.80      0.80     26048\n",
      "   macro avg       0.73      0.76      0.74     26048\n",
      "weighted avg       0.82      0.80      0.81     26048\n",
      "\n",
      "Train Set Accuracy = 80.0\n"
     ]
    }
   ],
   "source": [
    "NBModel = GaussianNB()\n",
    "NBModel.fit(X_train, y_train)\n",
    "confm_train = confusion_matrix(y_pred=NBModel.predict(X_train),y_true=y_train)\n",
    "print(classification_report(y_pred=NBModel.predict(X_train),y_true=y_train))\n",
    "print(\"Train Set Accuracy = \"+ str(ComputeAccuracy(confm_train)))"
   ]
  },
  {
   "cell_type": "code",
   "execution_count": 47,
   "metadata": {},
   "outputs": [
    {
     "name": "stdout",
     "output_type": "stream",
     "text": [
      "              precision    recall  f1-score   support\n",
      "\n",
      "           0       0.89      0.84      0.86      4908\n",
      "           1       0.58      0.70      0.63      1605\n",
      "\n",
      "   micro avg       0.80      0.80      0.80      6513\n",
      "   macro avg       0.74      0.77      0.75      6513\n",
      "weighted avg       0.82      0.80      0.81      6513\n",
      "\n",
      "Test Set Accuracy = 80.0\n"
     ]
    }
   ],
   "source": [
    "pred = NBModel.predict(X_test)\n",
    "fpr, tpr, thresholds = roc_curve(y_score =pred,y_true=y_test)\n",
    "confm_test1 = confusion_matrix(y_pred=pred,y_true=y_test)\n",
    "print(classification_report(y_pred=pred,y_true=y_test))\n",
    "print(\"Test Set Accuracy = \"+ str(ComputeAccuracy(confm_test1)))"
   ]
  },
  {
   "cell_type": "code",
   "execution_count": 48,
   "metadata": {},
   "outputs": [
    {
     "data": {
      "image/png": "[encoded data removed]",
      "text/plain": [
       "<Figure size 432x288 with 1 Axes>"
      ]
     },
     "metadata": {},
     "output_type": "display_data"
    }
   ],
   "source": [
    "roc_auc = auc(fpr, tpr)\n",
    "\n",
    "# method I: plt\n",
    "plt.title('Receiver Operating Characteristic')\n",
    "plt.plot(fpr, tpr, 'b', label = 'AUC = %0.2f' % roc_auc)\n",
    "plt.legend(loc = 'lower right')\n",
    "plt.plot([0, 1], [0, 1],'r--')\n",
    "plt.xlim([0, 1])\n",
    "plt.ylim([0, 1])\n",
    "plt.ylabel('True Positive Rate')\n",
    "plt.xlabel('False Positive Rate')\n",
    "plt.show()"
   ]
  },
  {
   "cell_type": "markdown",
   "metadata": {},
   "source": [
    "<h2> XGBoost Classifier </h2>"
   ]
  },
  {
   "cell_type": "code",
   "execution_count": 49,
   "metadata": {},
   "outputs": [],
   "source": [
    "dtrain = xgb.DMatrix(data=X_train,label=y_train)\n",
    "\n",
    "param = {'max_depth': 5, 'eta': 1, 'silent': 1, 'objective': 'binary:logistic'}\n",
    "         #'nthread':4,'eval_metric':'auc'}\n",
    "\n",
    "num_round = 10\n",
    "bst = xgb.train(param, dtrain, num_round)"
   ]
  },
  {
   "cell_type": "code",
   "execution_count": 50,
   "metadata": {},
   "outputs": [
    {
     "name": "stdout",
     "output_type": "stream",
     "text": [
      "[0. 0. 1. ... 1. 0. 0.]\n"
     ]
    }
   ],
   "source": [
    "tr_pred = bst.predict(dtrain)\n",
    "pred = np.round(tr_pred)\n",
    "print(pred)"
   ]
  },
  {
   "cell_type": "code",
   "execution_count": 51,
   "metadata": {},
   "outputs": [
    {
     "name": "stdout",
     "output_type": "stream",
     "text": [
      "              precision    recall  f1-score   support\n",
      "\n",
      "           0       0.89      0.95      0.92     19812\n",
      "           1       0.80      0.62      0.70      6236\n",
      "\n",
      "   micro avg       0.87      0.87      0.87     26048\n",
      "   macro avg       0.84      0.78      0.81     26048\n",
      "weighted avg       0.87      0.87      0.86     26048\n",
      "\n",
      "Train Set Accuracy = 87.0\n"
     ]
    }
   ],
   "source": [
    "confm_train = confusion_matrix(y_pred=pred,y_true=y_train)\n",
    "print(classification_report(y_pred=pred,y_true=y_train))\n",
    "print(\"Train Set Accuracy = \"+ str(ComputeAccuracy(confm_train)))"
   ]
  },
  {
   "cell_type": "code",
   "execution_count": 52,
   "metadata": {},
   "outputs": [
    {
     "name": "stdout",
     "output_type": "stream",
     "text": [
      "              precision    recall  f1-score   support\n",
      "\n",
      "           0       0.88      0.95      0.92      4908\n",
      "           1       0.81      0.61      0.70      1605\n",
      "\n",
      "   micro avg       0.87      0.87      0.87      6513\n",
      "   macro avg       0.84      0.78      0.81      6513\n",
      "weighted avg       0.86      0.87      0.86      6513\n",
      "\n",
      "Test Set Accuracy = 87.0\n"
     ]
    }
   ],
   "source": [
    "test_pred = np.round(bst.predict(xgb.DMatrix(X_test)))\n",
    "fpr, tpr, thresholds = roc_curve(y_score =test_pred,y_true=y_test)\n",
    "confm_test1 = confusion_matrix(y_pred=test_pred,y_true=y_test)\n",
    "print(classification_report(y_pred=test_pred,y_true=y_test))\n",
    "print(\"Test Set Accuracy = \"+ str(ComputeAccuracy(confm_test1)))"
   ]
  },
  {
   "cell_type": "code",
   "execution_count": 53,
   "metadata": {},
   "outputs": [
    {
     "data": {
      "image/png": "[encoded data removed]",
      "text/plain": [
       "<Figure size 432x288 with 1 Axes>"
      ]
     },
     "metadata": {},
     "output_type": "display_data"
    }
   ],
   "source": [
    "roc_auc = auc(fpr, tpr)\n",
    "\n",
    "# method I: plt\n",
    "plt.title('Receiver Operating Characteristic')\n",
    "plt.plot(fpr, tpr, 'b', label = 'AUC = %0.2f' % roc_auc)\n",
    "plt.legend(loc = 'lower right')\n",
    "plt.plot([0, 1], [0, 1],'r--')\n",
    "plt.xlim([0, 1])\n",
    "plt.ylim([0, 1])\n",
    "plt.ylabel('True Positive Rate')\n",
    "plt.xlabel('False Positive Rate')\n",
    "plt.show()"
   ]
  },
  {
   "cell_type": "markdown",
   "metadata": {},
   "source": [
    "<h1> Conclusion </h1>\n",
    "\n",
    "While a number of models were tried, XGBoost turned out to be the best with the highest % accuracy on the test set. Random Forest and Decision Trees gave better accuracy on Training set, however the test set accuracies were quite low."
   ]
  },
  {
   "cell_type": "code",
   "execution_count": null,
   "metadata": {},
   "outputs": [],
   "source": []
  }
 ],
 "metadata": {
  "kernelspec": {
   "display_name": "Python 3",
   "language": "python",
   "name": "python3"
  },
  "language_info": {
   "codemirror_mode": {
    "name": "ipython",
    "version": 3
   },
   "file_extension": ".py",
   "mimetype": "text/x-python",
   "name": "python",
   "nbconvert_exporter": "python",
   "pygments_lexer": "ipython3",
   "version": "3.5.5"
  }
 },
 "nbformat": 4,
 "nbformat_minor": 2
}
