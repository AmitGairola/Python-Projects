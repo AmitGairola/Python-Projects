{
 "cells": [
  {
   "cell_type": "code",
   "execution_count": null,
   "id": "6ad6344e-7ec3-42e3-8849-8a84534ff41b",
   "metadata": {},
   "outputs": [],
   "source": [
    "#!pip install gymnasium --q"
   ]
  },
  {
   "cell_type": "code",
   "execution_count": null,
   "id": "80fbaf38-160e-48ef-b19a-87cc210d7d07",
   "metadata": {},
   "outputs": [],
   "source": [
    "import numpy as np\n",
    "\n",
    "import matplotlib.pyplot as plt\n",
    "\n",
    "import matplotlib.animation\n",
    "plt.rc('font', size=14)\n",
    "plt.rc('axes', labelsize=14, titlesize=14)\n",
    "plt.rc('legend', fontsize=14)\n",
    "plt.rc('xtick', labelsize=10)\n",
    "plt.rc('ytick', labelsize=10)\n",
    "plt.rc('animation', html='jshtml')\n",
    "\n",
    "seed = 12345\n",
    "slippery = False\n",
    "interval = 200\n",
    "\n",
    "np.random.seed(seed)"
   ]
  },
  {
   "cell_type": "code",
   "execution_count": null,
   "id": "7b7247da-918e-4077-83dd-71e551d537d8",
   "metadata": {},
   "outputs": [],
   "source": [
    "def plot_animation(frames, repeat=False, interval=interval):\n",
    "    fig = plt.figure()\n",
    "    patch = plt.imshow(frames[0])\n",
    "    plt.axis('off')\n",
    "    anim = matplotlib.animation.FuncAnimation(\n",
    "        fig, update_scene, fargs=(frames, patch),\n",
    "        frames=len(frames), repeat=repeat, interval=interval)\n",
    "    plt.close()\n",
    "    return anim\n",
    "\n",
    "def update_scene(num, frames, patch):\n",
    "    patch.set_data(frames[num])\n",
    "    return patch\n",
    "\n",
    "def render_env(e):\n",
    "    plt.imshow(e.render())\n",
    "    plt.xticks([])\n",
    "    plt.yticks([])\n",
    "    plt.show()"
   ]
  },
  {
   "cell_type": "code",
   "execution_count": null,
   "id": "d2648988-d16b-4289-9d78-b07430f15f10",
   "metadata": {},
   "outputs": [],
   "source": [
    "import gymnasium as gym"
   ]
  },
  {
   "cell_type": "code",
   "execution_count": null,
   "id": "40e2e7c5-bd63-4ea3-9389-669d6bd87804",
   "metadata": {},
   "outputs": [],
   "source": [
    "env = gym.make('FrozenLake-v1', render_mode = 'rgb_array', is_slippery = slippery)\n",
    "env.reset(seed=seed)\n",
    "plt.imshow(env.render())\n",
    "plt.xticks([])\n",
    "plt.yticks([])\n",
    "plt.show()"
   ]
  },
  {
   "cell_type": "code",
   "execution_count": null,
   "id": "7ebd8074-5d8f-4bfc-9382-dc52c4418be0",
   "metadata": {},
   "outputs": [],
   "source": [
    "num_episodes = 25000\n",
    "max_steps_per_episode = 400\n",
    "alpha = 0.1\n",
    "gamma = 0.9\n",
    "eps = 0.15"
   ]
  },
  {
   "cell_type": "code",
   "execution_count": null,
   "id": "3c43a090-bfa0-404b-a310-d987e22dbd0e",
   "metadata": {},
   "outputs": [],
   "source": [
    "def policy(e, Q, state, epsilon):\n",
    "    if np.random.random(1) < epsilon:\n",
    "        action = e.action_space.sample()\n",
    "    else:\n",
    "        action = np.argmax(Q[state])\n",
    "    return action"
   ]
  },
  {
   "cell_type": "code",
   "execution_count": null,
   "id": "b34fa101-6171-47a8-b5d0-1933294b57ff",
   "metadata": {},
   "outputs": [],
   "source": [
    "def qlearning(e, alpha, gamma, num_episodes, max_steps, epsilon, eseed = seed):\n",
    "    qtable = np.zeros((e.observation_space.n, e.action_space.n)) # Initialize the Q table to zeros\n",
    "    for episode in range(num_episodes):\n",
    "        state, _ = e.reset(seed=eseed)\n",
    "        action = policy(e, qtable, state, epsilon)\n",
    "        done, terminated = False, False\n",
    "        \n",
    "        while not done:\n",
    "            next_state, reward, terminated, done, _ = e.step(action)\n",
    "            next_action = policy(e, qtable, next_state, epsilon)\n",
    "            \n",
    "            qtable[state, action] = qtable[state, action] + alpha*(reward + gamma*np.max(qtable[next_state]) - qtable[state,action])\n",
    "            state= next_state\n",
    "            action = next_action\n",
    "    return qtable"
   ]
  },
  {
   "cell_type": "code",
   "execution_count": null,
   "id": "babb6328-effa-4dbc-886b-23adfe0b9de9",
   "metadata": {},
   "outputs": [],
   "source": [
    "Q = qlearning(e=env,\n",
    "              alpha=alpha,\n",
    "              gamma=gamma,\n",
    "              num_episodes=num_episodes,\n",
    "              epsilon = eps,\n",
    "              max_steps = max_steps_per_episode\n",
    "             )"
   ]
  },
  {
   "cell_type": "code",
   "execution_count": null,
   "id": "4a2135a8-8569-44ca-9605-ee0160e99faa",
   "metadata": {},
   "outputs": [],
   "source": [
    "def test_agent(e, qtable, eseed=seed):\n",
    "    images = [] \n",
    "    terminated = False\n",
    "    state,_ = env.reset(seed=eseed)\n",
    "    img = env.render()\n",
    "    images.append(img)\n",
    "    while True:\n",
    "        action = np.argmax(qtable[state][:])\n",
    "        next_state, reward, terminated, done, info = env.step(action)\n",
    "        img = env.render()\n",
    "        images.append(img)\n",
    "        state = next_state\n",
    "        if terminated or done:\n",
    "            break\n",
    "        \n",
    "    return images"
   ]
  },
  {
   "cell_type": "code",
   "execution_count": null,
   "id": "e391d990-c368-463d-bb91-281cd12cb9ba",
   "metadata": {},
   "outputs": [],
   "source": [
    "frames = test_agent(env, Q)"
   ]
  },
  {
   "cell_type": "code",
   "execution_count": null,
   "id": "75d0f13b-8f29-4271-a379-88132b5c35e4",
   "metadata": {},
   "outputs": [],
   "source": [
    "plot_animation(frames)"
   ]
  },
  {
   "cell_type": "code",
   "execution_count": null,
   "id": "58fbdae6-da08-4d36-947d-46b81b793659",
   "metadata": {},
   "outputs": [],
   "source": []
  },
  {
   "cell_type": "code",
   "execution_count": null,
   "id": "d54fa656-c11f-498d-a78c-af6e92a5d30b",
   "metadata": {},
   "outputs": [],
   "source": []
  }
 ],
 "metadata": {
  "kernelspec": {
   "display_name": "Python 3 (ipykernel)",
   "language": "python",
   "name": "python3"
  },
  "language_info": {
   "codemirror_mode": {
    "name": "ipython",
    "version": 3
   },
   "file_extension": ".py",
   "mimetype": "text/x-python",
   "name": "python",
   "nbconvert_exporter": "python",
   "pygments_lexer": "ipython3",
   "version": "3.9.19"
  }
 },
 "nbformat": 4,
 "nbformat_minor": 5
}
