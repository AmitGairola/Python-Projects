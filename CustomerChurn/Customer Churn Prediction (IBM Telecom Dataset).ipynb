{
 "cells": [
  {
   "cell_type": "markdown",
   "metadata": {},
   "source": [
    "<h1> Customer Churn Prediction </h1>\n",
    "<p> Most companies would like to retain their customers as customer acquisition is an expensive exercise. Hence predicting churn is important for most organizations. </p>\n",
    "\n",
    "<p> Also, churn datasets typically are imbalanced data sets. What this means is that there will be very few samples in the dataset for the case one would like to predict (whether the customer will churn or not) </p>\n",
    "\n",
    "<p> In this proof of concept, the dataset being referenced is the <a href= \"https://community.watsonanalytics.com/wp-content/uploads/2015/03/WA_Fn-UseC_-Telco-Customer-Churn.csv?cm_mc_uid=98565687174815521433546&cm_mc_sid_50200000=19288781552143354626&cm_mc_sid_52640000=19735201552143354638\">IBM Telecom Data Set </a>"
   ]
  },
  {
   "cell_type": "code",
   "execution_count": 1,
   "metadata": {},
   "outputs": [
    {
     "name": "stderr",
     "output_type": "stream",
     "text": [
      "Using TensorFlow backend.\n"
     ]
    }
   ],
   "source": [
    "import pandas as pd\n",
    "import numpy as np\n",
    "import matplotlib.pyplot as plt\n",
    "import seaborn as sns\n",
    "import warnings\n",
    "warnings.filterwarnings(\"ignore\")\n",
    "%matplotlib inline\n",
    "\n",
    "from sklearn.preprocessing import MinMaxScaler, RobustScaler\n",
    "from sklearn.model_selection import train_test_split\n",
    "from sklearn.linear_model import LogisticRegression, LogisticRegressionCV\n",
    "from sklearn.tree import DecisionTreeClassifier\n",
    "from sklearn.ensemble import RandomForestClassifier\n",
    "from sklearn.svm import SVC\n",
    "from xgboost import XGBClassifier, DMatrix\n",
    "from sklearn.ensemble import AdaBoostClassifier\n",
    "from imblearn.over_sampling import SMOTE\n",
    "from imblearn.under_sampling import NearMiss\n",
    "from sklearn.metrics import recall_score, accuracy_score, confusion_matrix, cohen_kappa_score\n",
    "\n",
    "from keras.models import Sequential\n",
    "from keras.layers import Dense\n",
    "from keras.wrappers.scikit_learn import KerasClassifier"
   ]
  },
  {
   "cell_type": "markdown",
   "metadata": {},
   "source": [
    "<h4> Read the Data Set </h4>\n",
    "<p>The first step is to read the data set and see the first five rows of the data. This ensures that the data is loaded in the Pandas dataframe </p>"
   ]
  },
  {
   "cell_type": "code",
   "execution_count": 2,
   "metadata": {},
   "outputs": [
    {
     "data": {
      "text/html": [
       "<div>\n",
       "<style scoped>\n",
       "    .dataframe tbody tr th:only-of-type {\n",
       "        vertical-align: middle;\n",
       "    }\n",
       "\n",
       "    .dataframe tbody tr th {\n",
       "        vertical-align: top;\n",
       "    }\n",
       "\n",
       "    .dataframe thead th {\n",
       "        text-align: right;\n",
       "    }\n",
       "</style>\n",
       "<table border=\"1\" class=\"dataframe\">\n",
       "  <thead>\n",
       "    <tr style=\"text-align: right;\">\n",
       "      <th></th>\n",
       "      <th>customerID</th>\n",
       "      <th>gender</th>\n",
       "      <th>SeniorCitizen</th>\n",
       "      <th>Partner</th>\n",
       "      <th>Dependents</th>\n",
       "      <th>tenure</th>\n",
       "      <th>PhoneService</th>\n",
       "      <th>MultipleLines</th>\n",
       "      <th>InternetService</th>\n",
       "      <th>OnlineSecurity</th>\n",
       "      <th>...</th>\n",
       "      <th>DeviceProtection</th>\n",
       "      <th>TechSupport</th>\n",
       "      <th>StreamingTV</th>\n",
       "      <th>StreamingMovies</th>\n",
       "      <th>Contract</th>\n",
       "      <th>PaperlessBilling</th>\n",
       "      <th>PaymentMethod</th>\n",
       "      <th>MonthlyCharges</th>\n",
       "      <th>TotalCharges</th>\n",
       "      <th>Churn</th>\n",
       "    </tr>\n",
       "  </thead>\n",
       "  <tbody>\n",
       "    <tr>\n",
       "      <th>0</th>\n",
       "      <td>7590-VHVEG</td>\n",
       "      <td>Female</td>\n",
       "      <td>0</td>\n",
       "      <td>Yes</td>\n",
       "      <td>No</td>\n",
       "      <td>1</td>\n",
       "      <td>No</td>\n",
       "      <td>No phone service</td>\n",
       "      <td>DSL</td>\n",
       "      <td>No</td>\n",
       "      <td>...</td>\n",
       "      <td>No</td>\n",
       "      <td>No</td>\n",
       "      <td>No</td>\n",
       "      <td>No</td>\n",
       "      <td>Month-to-month</td>\n",
       "      <td>Yes</td>\n",
       "      <td>Electronic check</td>\n",
       "      <td>29.85</td>\n",
       "      <td>29.85</td>\n",
       "      <td>No</td>\n",
       "    </tr>\n",
       "    <tr>\n",
       "      <th>1</th>\n",
       "      <td>5575-GNVDE</td>\n",
       "      <td>Male</td>\n",
       "      <td>0</td>\n",
       "      <td>No</td>\n",
       "      <td>No</td>\n",
       "      <td>34</td>\n",
       "      <td>Yes</td>\n",
       "      <td>No</td>\n",
       "      <td>DSL</td>\n",
       "      <td>Yes</td>\n",
       "      <td>...</td>\n",
       "      <td>Yes</td>\n",
       "      <td>No</td>\n",
       "      <td>No</td>\n",
       "      <td>No</td>\n",
       "      <td>One year</td>\n",
       "      <td>No</td>\n",
       "      <td>Mailed check</td>\n",
       "      <td>56.95</td>\n",
       "      <td>1889.5</td>\n",
       "      <td>No</td>\n",
       "    </tr>\n",
       "    <tr>\n",
       "      <th>2</th>\n",
       "      <td>3668-QPYBK</td>\n",
       "      <td>Male</td>\n",
       "      <td>0</td>\n",
       "      <td>No</td>\n",
       "      <td>No</td>\n",
       "      <td>2</td>\n",
       "      <td>Yes</td>\n",
       "      <td>No</td>\n",
       "      <td>DSL</td>\n",
       "      <td>Yes</td>\n",
       "      <td>...</td>\n",
       "      <td>No</td>\n",
       "      <td>No</td>\n",
       "      <td>No</td>\n",
       "      <td>No</td>\n",
       "      <td>Month-to-month</td>\n",
       "      <td>Yes</td>\n",
       "      <td>Mailed check</td>\n",
       "      <td>53.85</td>\n",
       "      <td>108.15</td>\n",
       "      <td>Yes</td>\n",
       "    </tr>\n",
       "    <tr>\n",
       "      <th>3</th>\n",
       "      <td>7795-CFOCW</td>\n",
       "      <td>Male</td>\n",
       "      <td>0</td>\n",
       "      <td>No</td>\n",
       "      <td>No</td>\n",
       "      <td>45</td>\n",
       "      <td>No</td>\n",
       "      <td>No phone service</td>\n",
       "      <td>DSL</td>\n",
       "      <td>Yes</td>\n",
       "      <td>...</td>\n",
       "      <td>Yes</td>\n",
       "      <td>Yes</td>\n",
       "      <td>No</td>\n",
       "      <td>No</td>\n",
       "      <td>One year</td>\n",
       "      <td>No</td>\n",
       "      <td>Bank transfer (automatic)</td>\n",
       "      <td>42.30</td>\n",
       "      <td>1840.75</td>\n",
       "      <td>No</td>\n",
       "    </tr>\n",
       "    <tr>\n",
       "      <th>4</th>\n",
       "      <td>9237-HQITU</td>\n",
       "      <td>Female</td>\n",
       "      <td>0</td>\n",
       "      <td>No</td>\n",
       "      <td>No</td>\n",
       "      <td>2</td>\n",
       "      <td>Yes</td>\n",
       "      <td>No</td>\n",
       "      <td>Fiber optic</td>\n",
       "      <td>No</td>\n",
       "      <td>...</td>\n",
       "      <td>No</td>\n",
       "      <td>No</td>\n",
       "      <td>No</td>\n",
       "      <td>No</td>\n",
       "      <td>Month-to-month</td>\n",
       "      <td>Yes</td>\n",
       "      <td>Electronic check</td>\n",
       "      <td>70.70</td>\n",
       "      <td>151.65</td>\n",
       "      <td>Yes</td>\n",
       "    </tr>\n",
       "  </tbody>\n",
       "</table>\n",
       "<p>5 rows × 21 columns</p>\n",
       "</div>"
      ],
      "text/plain": [
       "   customerID  gender  SeniorCitizen Partner Dependents  tenure PhoneService  \\\n",
       "0  7590-VHVEG  Female              0     Yes         No       1           No   \n",
       "1  5575-GNVDE    Male              0      No         No      34          Yes   \n",
       "2  3668-QPYBK    Male              0      No         No       2          Yes   \n",
       "3  7795-CFOCW    Male              0      No         No      45           No   \n",
       "4  9237-HQITU  Female              0      No         No       2          Yes   \n",
       "\n",
       "      MultipleLines InternetService OnlineSecurity  ...  DeviceProtection  \\\n",
       "0  No phone service             DSL             No  ...                No   \n",
       "1                No             DSL            Yes  ...               Yes   \n",
       "2                No             DSL            Yes  ...                No   \n",
       "3  No phone service             DSL            Yes  ...               Yes   \n",
       "4                No     Fiber optic             No  ...                No   \n",
       "\n",
       "  TechSupport StreamingTV StreamingMovies        Contract PaperlessBilling  \\\n",
       "0          No          No              No  Month-to-month              Yes   \n",
       "1          No          No              No        One year               No   \n",
       "2          No          No              No  Month-to-month              Yes   \n",
       "3         Yes          No              No        One year               No   \n",
       "4          No          No              No  Month-to-month              Yes   \n",
       "\n",
       "               PaymentMethod MonthlyCharges  TotalCharges Churn  \n",
       "0           Electronic check          29.85         29.85    No  \n",
       "1               Mailed check          56.95        1889.5    No  \n",
       "2               Mailed check          53.85        108.15   Yes  \n",
       "3  Bank transfer (automatic)          42.30       1840.75    No  \n",
       "4           Electronic check          70.70        151.65   Yes  \n",
       "\n",
       "[5 rows x 21 columns]"
      ]
     },
     "execution_count": 2,
     "metadata": {},
     "output_type": "execute_result"
    }
   ],
   "source": [
    "data = pd.read_csv(\"data/CustomerChurn.csv\")\n",
    "data.head()"
   ]
  },
  {
   "cell_type": "markdown",
   "metadata": {},
   "source": [
    "<h4> Check for Missing values </h4>\n",
    "<p>To check for missing values, we check for NaN or even blank values. Sometimes blank values are loaded as ' ' </p>"
   ]
  },
  {
   "cell_type": "code",
   "execution_count": 3,
   "metadata": {},
   "outputs": [
    {
     "name": "stdout",
     "output_type": "stream",
     "text": [
      "Checking for NA\n",
      "customerID          0\n",
      "gender              0\n",
      "SeniorCitizen       0\n",
      "Partner             0\n",
      "Dependents          0\n",
      "tenure              0\n",
      "PhoneService        0\n",
      "MultipleLines       0\n",
      "InternetService     0\n",
      "OnlineSecurity      0\n",
      "OnlineBackup        0\n",
      "DeviceProtection    0\n",
      "TechSupport         0\n",
      "StreamingTV         0\n",
      "StreamingMovies     0\n",
      "Contract            0\n",
      "PaperlessBilling    0\n",
      "PaymentMethod       0\n",
      "MonthlyCharges      0\n",
      "TotalCharges        0\n",
      "Churn               0\n",
      "dtype: int64\n",
      "#######################################################\n",
      "Checking for Blank Data\n",
      "customerID           0\n",
      "gender               0\n",
      "SeniorCitizen        0\n",
      "Partner              0\n",
      "Dependents           0\n",
      "tenure               0\n",
      "PhoneService         0\n",
      "MultipleLines        0\n",
      "InternetService      0\n",
      "OnlineSecurity       0\n",
      "OnlineBackup         0\n",
      "DeviceProtection     0\n",
      "TechSupport          0\n",
      "StreamingTV          0\n",
      "StreamingMovies      0\n",
      "Contract             0\n",
      "PaperlessBilling     0\n",
      "PaymentMethod        0\n",
      "MonthlyCharges       0\n",
      "TotalCharges        11\n",
      "Churn                0\n",
      "dtype: int64\n"
     ]
    }
   ],
   "source": [
    "print(\"Checking for NA\")\n",
    "print(data.isna().sum())\n",
    "print(\"#######################################################\")\n",
    "print(\"Checking for Blank Data\")\n",
    "print(data.isin([' ','','  ']).sum())\n"
   ]
  },
  {
   "cell_type": "markdown",
   "metadata": {},
   "source": [
    "<p> From the above analysis, 11 records have missing data for TotalCharges. However, since we have Monthly Charge and TotalCharge, we decide to keep MonthlyCharge variable </p>\n",
    "\n",
    "<p> So now we need to check unique values and count of the unique values. For this we define a local function to compute value counts </p>"
   ]
  },
  {
   "cell_type": "code",
   "execution_count": 4,
   "metadata": {},
   "outputs": [
    {
     "name": "stdout",
     "output_type": "stream",
     "text": [
      "Column :gender\n",
      "Male      50.0\n",
      "Female    50.0\n",
      "Name: gender, dtype: float64\n",
      "Column :SeniorCitizen\n",
      "0    84.0\n",
      "1    16.0\n",
      "Name: SeniorCitizen, dtype: float64\n",
      "Column :Partner\n",
      "No     52.0\n",
      "Yes    48.0\n",
      "Name: Partner, dtype: float64\n",
      "Column :Dependents\n",
      "No     70.0\n",
      "Yes    30.0\n",
      "Name: Dependents, dtype: float64\n",
      "Column :PhoneService\n",
      "Yes    90.0\n",
      "No     10.0\n",
      "Name: PhoneService, dtype: float64\n",
      "Column :MultipleLines\n",
      "No                  48.0\n",
      "Yes                 42.0\n",
      "No phone service    10.0\n",
      "Name: MultipleLines, dtype: float64\n",
      "Column :InternetService\n",
      "Fiber optic    44.0\n",
      "DSL            34.0\n",
      "No             22.0\n",
      "Name: InternetService, dtype: float64\n",
      "Column :OnlineSecurity\n",
      "No                     50.0\n",
      "Yes                    29.0\n",
      "No internet service    22.0\n",
      "Name: OnlineSecurity, dtype: float64\n",
      "Column :OnlineBackup\n",
      "No                     44.0\n",
      "Yes                    34.0\n",
      "No internet service    22.0\n",
      "Name: OnlineBackup, dtype: float64\n",
      "Column :DeviceProtection\n",
      "No                     44.0\n",
      "Yes                    34.0\n",
      "No internet service    22.0\n",
      "Name: DeviceProtection, dtype: float64\n",
      "Column :TechSupport\n",
      "No                     49.0\n",
      "Yes                    29.0\n",
      "No internet service    22.0\n",
      "Name: TechSupport, dtype: float64\n",
      "Column :StreamingTV\n",
      "No                     40.0\n",
      "Yes                    38.0\n",
      "No internet service    22.0\n",
      "Name: StreamingTV, dtype: float64\n",
      "Column :StreamingMovies\n",
      "No                     40.0\n",
      "Yes                    39.0\n",
      "No internet service    22.0\n",
      "Name: StreamingMovies, dtype: float64\n",
      "Column :Contract\n",
      "Month-to-month    55.0\n",
      "Two year          24.0\n",
      "One year          21.0\n",
      "Name: Contract, dtype: float64\n",
      "Column :PaperlessBilling\n",
      "Yes    59.0\n",
      "No     41.0\n",
      "Name: PaperlessBilling, dtype: float64\n",
      "Column :PaymentMethod\n",
      "Electronic check             34.0\n",
      "Mailed check                 23.0\n",
      "Bank transfer (automatic)    22.0\n",
      "Credit card (automatic)      22.0\n",
      "Name: PaymentMethod, dtype: float64\n",
      "Column :Churn\n",
      "No     73.0\n",
      "Yes    27.0\n",
      "Name: Churn, dtype: float64\n"
     ]
    }
   ],
   "source": [
    "## Print value Counts\n",
    "\n",
    "def value_counts(df):\n",
    "    colnms= df.columns\n",
    "    for cnm in colnms:\n",
    "        print(\"Column :\" + cnm)\n",
    "        print(str(round(df[cnm].value_counts()/len(df)*100)))\n",
    "        \n",
    "value_counts(data.drop(['MonthlyCharges','customerID','TotalCharges','tenure'],axis=1))"
   ]
  },
  {
   "cell_type": "markdown",
   "metadata": {},
   "source": [
    "<p> We see that while most categorical variables have been classified as Yes, No...senior citizens are classified as 0 and 1. So we map 0 to No and 1 to Yes </p>"
   ]
  },
  {
   "cell_type": "code",
   "execution_count": 5,
   "metadata": {},
   "outputs": [
    {
     "name": "stdout",
     "output_type": "stream",
     "text": [
      "0    83.785319\n",
      "1    16.214681\n",
      "Name: SeniorCitizen, dtype: float64\n",
      "   customerID  gender SeniorCitizen Partner Dependents  tenure PhoneService  \\\n",
      "0  7590-VHVEG  Female            No     Yes         No       1           No   \n",
      "1  5575-GNVDE    Male            No      No         No      34          Yes   \n",
      "2  3668-QPYBK    Male            No      No         No       2          Yes   \n",
      "3  7795-CFOCW    Male            No      No         No      45           No   \n",
      "4  9237-HQITU  Female            No      No         No       2          Yes   \n",
      "\n",
      "      MultipleLines InternetService OnlineSecurity  ...  DeviceProtection  \\\n",
      "0  No phone service             DSL             No  ...                No   \n",
      "1                No             DSL            Yes  ...               Yes   \n",
      "2                No             DSL            Yes  ...                No   \n",
      "3  No phone service             DSL            Yes  ...               Yes   \n",
      "4                No     Fiber optic             No  ...                No   \n",
      "\n",
      "  TechSupport StreamingTV StreamingMovies        Contract PaperlessBilling  \\\n",
      "0          No          No              No  Month-to-month              Yes   \n",
      "1          No          No              No        One year               No   \n",
      "2          No          No              No  Month-to-month              Yes   \n",
      "3         Yes          No              No        One year               No   \n",
      "4          No          No              No  Month-to-month              Yes   \n",
      "\n",
      "               PaymentMethod MonthlyCharges  TotalCharges Churn  \n",
      "0           Electronic check          29.85         29.85    No  \n",
      "1               Mailed check          56.95        1889.5    No  \n",
      "2               Mailed check          53.85        108.15   Yes  \n",
      "3  Bank transfer (automatic)          42.30       1840.75    No  \n",
      "4           Electronic check          70.70        151.65   Yes  \n",
      "\n",
      "[5 rows x 21 columns]\n"
     ]
    }
   ],
   "source": [
    "print(data['SeniorCitizen'].value_counts()/len(data)*100)\n",
    "data['SeniorCitizen']= data['SeniorCitizen'].map({0: 'No', 1: 'Yes'})\n",
    "print(data.head())"
   ]
  },
  {
   "cell_type": "code",
   "execution_count": 6,
   "metadata": {},
   "outputs": [
    {
     "name": "stdout",
     "output_type": "stream",
     "text": [
      "No                  3390\n",
      "Yes                 2971\n",
      "No phone service     682\n",
      "Name: MultipleLines, dtype: int64\n",
      "No                3390\n",
      "Yes               2971\n",
      "NoPhoneService     682\n",
      "Name: MultipleLines, dtype: int64\n"
     ]
    }
   ],
   "source": [
    "print(data['MultipleLines'].value_counts())\n",
    "data['MultipleLines'] = data['MultipleLines'].map({'No': 'No','Yes': 'Yes','No phone service': 'NoPhoneService'})\n",
    "print(data['MultipleLines'].value_counts())"
   ]
  },
  {
   "cell_type": "code",
   "execution_count": 7,
   "metadata": {},
   "outputs": [
    {
     "name": "stdout",
     "output_type": "stream",
     "text": [
      "Fiber optic    3096\n",
      "DSL            2421\n",
      "No             1526\n",
      "Name: InternetService, dtype: int64\n",
      "FiberOptic    3096\n",
      "DSL           2421\n",
      "No            1526\n",
      "Name: InternetService, dtype: int64\n"
     ]
    }
   ],
   "source": [
    "print(data['InternetService'].value_counts())\n",
    "data['InternetService'] = data['InternetService'].map({'No': 'No','DSL': 'DSL','Fiber optic': 'FiberOptic'})\n",
    "print(data['InternetService'].value_counts())"
   ]
  },
  {
   "cell_type": "code",
   "execution_count": 8,
   "metadata": {},
   "outputs": [
    {
     "name": "stdout",
     "output_type": "stream",
     "text": [
      "No                     3498\n",
      "Yes                    2019\n",
      "No internet service    1526\n",
      "Name: OnlineSecurity, dtype: int64\n",
      "No                   3498\n",
      "Yes                  2019\n",
      "NoInternetService    1526\n",
      "Name: OnlineSecurity, dtype: int64\n"
     ]
    }
   ],
   "source": [
    "print(data['OnlineSecurity'].value_counts())\n",
    "data['OnlineSecurity'] = data['OnlineSecurity'].map({'No': 'No','Yes': 'Yes','No internet service': 'NoInternetService'})\n",
    "print(data['OnlineSecurity'].value_counts())"
   ]
  },
  {
   "cell_type": "code",
   "execution_count": 9,
   "metadata": {},
   "outputs": [
    {
     "name": "stdout",
     "output_type": "stream",
     "text": [
      "No                     3088\n",
      "Yes                    2429\n",
      "No internet service    1526\n",
      "Name: OnlineBackup, dtype: int64\n",
      "No                   3088\n",
      "Yes                  2429\n",
      "NoInternetService    1526\n",
      "Name: OnlineBackup, dtype: int64\n"
     ]
    }
   ],
   "source": [
    "print(data['OnlineBackup'].value_counts())\n",
    "data['OnlineBackup'] = data['OnlineBackup'].map({'No': 'No','Yes': 'Yes','No internet service': 'NoInternetService'})\n",
    "print(data['OnlineBackup'].value_counts())"
   ]
  },
  {
   "cell_type": "code",
   "execution_count": 10,
   "metadata": {},
   "outputs": [
    {
     "name": "stdout",
     "output_type": "stream",
     "text": [
      "No                     3095\n",
      "Yes                    2422\n",
      "No internet service    1526\n",
      "Name: DeviceProtection, dtype: int64\n",
      "No                   3095\n",
      "Yes                  2422\n",
      "NoInternetService    1526\n",
      "Name: DeviceProtection, dtype: int64\n"
     ]
    }
   ],
   "source": [
    "print(data['DeviceProtection'].value_counts())\n",
    "data['DeviceProtection'] = data['DeviceProtection'].map({'No': 'No','Yes': 'Yes','No internet service': 'NoInternetService'})\n",
    "print(data['DeviceProtection'].value_counts())"
   ]
  },
  {
   "cell_type": "code",
   "execution_count": 11,
   "metadata": {},
   "outputs": [
    {
     "name": "stdout",
     "output_type": "stream",
     "text": [
      "No                     3473\n",
      "Yes                    2044\n",
      "No internet service    1526\n",
      "Name: TechSupport, dtype: int64\n",
      "No                   3473\n",
      "Yes                  2044\n",
      "NoInternetService    1526\n",
      "Name: TechSupport, dtype: int64\n"
     ]
    }
   ],
   "source": [
    "print(data['TechSupport'].value_counts())\n",
    "data['TechSupport'] = data['TechSupport'].map({'No': 'No','Yes': 'Yes','No internet service': 'NoInternetService'})\n",
    "print(data['TechSupport'].value_counts())"
   ]
  },
  {
   "cell_type": "code",
   "execution_count": 12,
   "metadata": {},
   "outputs": [
    {
     "name": "stdout",
     "output_type": "stream",
     "text": [
      "No                     2810\n",
      "Yes                    2707\n",
      "No internet service    1526\n",
      "Name: StreamingTV, dtype: int64\n",
      "No                   2810\n",
      "Yes                  2707\n",
      "NoInternetService    1526\n",
      "Name: StreamingTV, dtype: int64\n"
     ]
    }
   ],
   "source": [
    "print(data['StreamingTV'].value_counts())\n",
    "data['StreamingTV'] = data['StreamingTV'].map({'No': 'No','Yes': 'Yes','No internet service': 'NoInternetService'})\n",
    "print(data['StreamingTV'].value_counts())"
   ]
  },
  {
   "cell_type": "code",
   "execution_count": 13,
   "metadata": {},
   "outputs": [
    {
     "name": "stdout",
     "output_type": "stream",
     "text": [
      "No                     2785\n",
      "Yes                    2732\n",
      "No internet service    1526\n",
      "Name: StreamingMovies, dtype: int64\n",
      "No                   2785\n",
      "Yes                  2732\n",
      "NoInternetService    1526\n",
      "Name: StreamingMovies, dtype: int64\n"
     ]
    }
   ],
   "source": [
    "print(data['StreamingMovies'].value_counts())\n",
    "data['StreamingMovies'] = data['StreamingMovies'].map({'No': 'No','Yes': 'Yes','No internet service': 'NoInternetService'})\n",
    "print(data['StreamingMovies'].value_counts())"
   ]
  },
  {
   "cell_type": "code",
   "execution_count": 14,
   "metadata": {},
   "outputs": [
    {
     "name": "stdout",
     "output_type": "stream",
     "text": [
      "Month-to-month    3875\n",
      "Two year          1695\n",
      "One year          1473\n",
      "Name: Contract, dtype: int64\n",
      "M2M        3875\n",
      "TwoYear    1695\n",
      "OneYear    1473\n",
      "Name: Contract, dtype: int64\n"
     ]
    }
   ],
   "source": [
    "print(data['Contract'].value_counts())\n",
    "data['Contract'] = data['Contract'].map({'Month-to-month':'M2M','Two year': 'TwoYear','One year': 'OneYear'})\n",
    "print(data['Contract'].value_counts())"
   ]
  },
  {
   "cell_type": "code",
   "execution_count": 15,
   "metadata": {},
   "outputs": [
    {
     "data": {
      "text/plain": [
       "Yes    4171\n",
       "No     2872\n",
       "Name: PaperlessBilling, dtype: int64"
      ]
     },
     "execution_count": 15,
     "metadata": {},
     "output_type": "execute_result"
    }
   ],
   "source": [
    "data['PaperlessBilling'].value_counts()"
   ]
  },
  {
   "cell_type": "code",
   "execution_count": 16,
   "metadata": {},
   "outputs": [
    {
     "name": "stdout",
     "output_type": "stream",
     "text": [
      "Electronic check             2365\n",
      "Mailed check                 1612\n",
      "Bank transfer (automatic)    1544\n",
      "Credit card (automatic)      1522\n",
      "Name: PaymentMethod, dtype: int64\n",
      "ElectronicChk       2365\n",
      "MailedChk           1612\n",
      "BankTransferAuto    1544\n",
      "CreditCardAuto      1522\n",
      "Name: PaymentMethod, dtype: int64\n"
     ]
    }
   ],
   "source": [
    "print(data['PaymentMethod'].value_counts())\n",
    "data['PaymentMethod'] = data['PaymentMethod'].map({'Electronic check': 'ElectronicChk','Mailed check': 'MailedChk','Bank transfer (automatic)': 'BankTransferAuto','Credit card (automatic)': 'CreditCardAuto'})\n",
    "print(data['PaymentMethod'].value_counts())"
   ]
  },
  {
   "cell_type": "markdown",
   "metadata": {},
   "source": [
    "<h4> Additional Features Added/Dropped </h4>\n",
    "<p> We see that Payment Method has an information on Automatic Payments. This can be added as an additional variable </p>"
   ]
  },
  {
   "cell_type": "code",
   "execution_count": 17,
   "metadata": {},
   "outputs": [],
   "source": [
    "data['Automatic'] = data['PaymentMethod'].apply(lambda x: \"Yes\" if x in ['BankTransferAuto','CreditCardAuto'] else \"No\")"
   ]
  },
  {
   "cell_type": "markdown",
   "metadata": {},
   "source": [
    "<p> Tenure is a continuous variable. It is best to bin this variable. Here, we have used time period </p>"
   ]
  },
  {
   "cell_type": "code",
   "execution_count": 18,
   "metadata": {},
   "outputs": [],
   "source": [
    "def processTenure(x):\n",
    "    if x<=12:\n",
    "        return(\"LT12M\")\n",
    "    elif x>12 and x<=24:\n",
    "        return(\"BT1Y2Y\")\n",
    "    elif x>24 and x<=36:\n",
    "        return(\"BT2Y3Y\")\n",
    "    elif x>36 and x<=48:\n",
    "        return(\"BT3Y4Y\")\n",
    "    elif x>48 and x<=60:\n",
    "        return(\"BT4Y5Y\")\n",
    "    else:\n",
    "        return(\"GT5Y\")\n",
    "data['TenureBinned'] = data.tenure.apply(lambda x: processTenure(int(x)))"
   ]
  },
  {
   "cell_type": "code",
   "execution_count": 19,
   "metadata": {},
   "outputs": [],
   "source": [
    "## Scale the Monthly Charges variable using RobustScaler\n",
    "scaler = RobustScaler()\n",
    "data['MonthlyCharges'] = scaler.fit_transform(data['MonthlyCharges'].values.reshape(-1,1))"
   ]
  },
  {
   "cell_type": "markdown",
   "metadata": {},
   "source": [
    "<p> Convert the categorical variables into Dummy variables </p>"
   ]
  },
  {
   "cell_type": "code",
   "execution_count": 20,
   "metadata": {},
   "outputs": [],
   "source": [
    "data= pd.get_dummies(data=data, columns = ['gender', 'SeniorCitizen', 'Partner', 'Dependents', 'PhoneService', 'MultipleLines', 'InternetService',  'OnlineSecurity', 'OnlineBackup', 'DeviceProtection', 'TechSupport','StreamingTV', 'StreamingMovies', 'Contract', 'PaperlessBilling','PaymentMethod','Automatic','TenureBinned',  'Churn'],drop_first=True)"
   ]
  },
  {
   "cell_type": "code",
   "execution_count": 21,
   "metadata": {},
   "outputs": [
    {
     "data": {
      "text/html": [
       "<div>\n",
       "<style scoped>\n",
       "    .dataframe tbody tr th:only-of-type {\n",
       "        vertical-align: middle;\n",
       "    }\n",
       "\n",
       "    .dataframe tbody tr th {\n",
       "        vertical-align: top;\n",
       "    }\n",
       "\n",
       "    .dataframe thead th {\n",
       "        text-align: right;\n",
       "    }\n",
       "</style>\n",
       "<table border=\"1\" class=\"dataframe\">\n",
       "  <thead>\n",
       "    <tr style=\"text-align: right;\">\n",
       "      <th></th>\n",
       "      <th>MonthlyCharges</th>\n",
       "      <th>gender_Male</th>\n",
       "      <th>SeniorCitizen_Yes</th>\n",
       "      <th>Partner_Yes</th>\n",
       "      <th>Dependents_Yes</th>\n",
       "      <th>PhoneService_Yes</th>\n",
       "      <th>MultipleLines_NoPhoneService</th>\n",
       "      <th>MultipleLines_Yes</th>\n",
       "      <th>InternetService_FiberOptic</th>\n",
       "      <th>InternetService_No</th>\n",
       "      <th>...</th>\n",
       "      <th>PaymentMethod_CreditCardAuto</th>\n",
       "      <th>PaymentMethod_ElectronicChk</th>\n",
       "      <th>PaymentMethod_MailedChk</th>\n",
       "      <th>Automatic_Yes</th>\n",
       "      <th>TenureBinned_BT2Y3Y</th>\n",
       "      <th>TenureBinned_BT3Y4Y</th>\n",
       "      <th>TenureBinned_BT4Y5Y</th>\n",
       "      <th>TenureBinned_GT5Y</th>\n",
       "      <th>TenureBinned_LT12M</th>\n",
       "      <th>Churn_Yes</th>\n",
       "    </tr>\n",
       "  </thead>\n",
       "  <tbody>\n",
       "    <tr>\n",
       "      <th>0</th>\n",
       "      <td>-0.745170</td>\n",
       "      <td>0</td>\n",
       "      <td>0</td>\n",
       "      <td>1</td>\n",
       "      <td>0</td>\n",
       "      <td>0</td>\n",
       "      <td>1</td>\n",
       "      <td>0</td>\n",
       "      <td>0</td>\n",
       "      <td>0</td>\n",
       "      <td>...</td>\n",
       "      <td>0</td>\n",
       "      <td>1</td>\n",
       "      <td>0</td>\n",
       "      <td>0</td>\n",
       "      <td>0</td>\n",
       "      <td>0</td>\n",
       "      <td>0</td>\n",
       "      <td>0</td>\n",
       "      <td>1</td>\n",
       "      <td>0</td>\n",
       "    </tr>\n",
       "    <tr>\n",
       "      <th>1</th>\n",
       "      <td>-0.246550</td>\n",
       "      <td>1</td>\n",
       "      <td>0</td>\n",
       "      <td>0</td>\n",
       "      <td>0</td>\n",
       "      <td>1</td>\n",
       "      <td>0</td>\n",
       "      <td>0</td>\n",
       "      <td>0</td>\n",
       "      <td>0</td>\n",
       "      <td>...</td>\n",
       "      <td>0</td>\n",
       "      <td>0</td>\n",
       "      <td>1</td>\n",
       "      <td>0</td>\n",
       "      <td>1</td>\n",
       "      <td>0</td>\n",
       "      <td>0</td>\n",
       "      <td>0</td>\n",
       "      <td>0</td>\n",
       "      <td>0</td>\n",
       "    </tr>\n",
       "    <tr>\n",
       "      <th>2</th>\n",
       "      <td>-0.303588</td>\n",
       "      <td>1</td>\n",
       "      <td>0</td>\n",
       "      <td>0</td>\n",
       "      <td>0</td>\n",
       "      <td>1</td>\n",
       "      <td>0</td>\n",
       "      <td>0</td>\n",
       "      <td>0</td>\n",
       "      <td>0</td>\n",
       "      <td>...</td>\n",
       "      <td>0</td>\n",
       "      <td>0</td>\n",
       "      <td>1</td>\n",
       "      <td>0</td>\n",
       "      <td>0</td>\n",
       "      <td>0</td>\n",
       "      <td>0</td>\n",
       "      <td>0</td>\n",
       "      <td>1</td>\n",
       "      <td>1</td>\n",
       "    </tr>\n",
       "    <tr>\n",
       "      <th>3</th>\n",
       "      <td>-0.516099</td>\n",
       "      <td>1</td>\n",
       "      <td>0</td>\n",
       "      <td>0</td>\n",
       "      <td>0</td>\n",
       "      <td>0</td>\n",
       "      <td>1</td>\n",
       "      <td>0</td>\n",
       "      <td>0</td>\n",
       "      <td>0</td>\n",
       "      <td>...</td>\n",
       "      <td>0</td>\n",
       "      <td>0</td>\n",
       "      <td>0</td>\n",
       "      <td>1</td>\n",
       "      <td>0</td>\n",
       "      <td>1</td>\n",
       "      <td>0</td>\n",
       "      <td>0</td>\n",
       "      <td>0</td>\n",
       "      <td>0</td>\n",
       "    </tr>\n",
       "    <tr>\n",
       "      <th>4</th>\n",
       "      <td>0.006440</td>\n",
       "      <td>0</td>\n",
       "      <td>0</td>\n",
       "      <td>0</td>\n",
       "      <td>0</td>\n",
       "      <td>1</td>\n",
       "      <td>0</td>\n",
       "      <td>0</td>\n",
       "      <td>1</td>\n",
       "      <td>0</td>\n",
       "      <td>...</td>\n",
       "      <td>0</td>\n",
       "      <td>1</td>\n",
       "      <td>0</td>\n",
       "      <td>0</td>\n",
       "      <td>0</td>\n",
       "      <td>0</td>\n",
       "      <td>0</td>\n",
       "      <td>0</td>\n",
       "      <td>1</td>\n",
       "      <td>1</td>\n",
       "    </tr>\n",
       "  </tbody>\n",
       "</table>\n",
       "<p>5 rows × 35 columns</p>\n",
       "</div>"
      ],
      "text/plain": [
       "   MonthlyCharges  gender_Male  SeniorCitizen_Yes  Partner_Yes  \\\n",
       "0       -0.745170            0                  0            1   \n",
       "1       -0.246550            1                  0            0   \n",
       "2       -0.303588            1                  0            0   \n",
       "3       -0.516099            1                  0            0   \n",
       "4        0.006440            0                  0            0   \n",
       "\n",
       "   Dependents_Yes  PhoneService_Yes  MultipleLines_NoPhoneService  \\\n",
       "0               0                 0                             1   \n",
       "1               0                 1                             0   \n",
       "2               0                 1                             0   \n",
       "3               0                 0                             1   \n",
       "4               0                 1                             0   \n",
       "\n",
       "   MultipleLines_Yes  InternetService_FiberOptic  InternetService_No  \\\n",
       "0                  0                           0                   0   \n",
       "1                  0                           0                   0   \n",
       "2                  0                           0                   0   \n",
       "3                  0                           0                   0   \n",
       "4                  0                           1                   0   \n",
       "\n",
       "     ...      PaymentMethod_CreditCardAuto  PaymentMethod_ElectronicChk  \\\n",
       "0    ...                                 0                            1   \n",
       "1    ...                                 0                            0   \n",
       "2    ...                                 0                            0   \n",
       "3    ...                                 0                            0   \n",
       "4    ...                                 0                            1   \n",
       "\n",
       "   PaymentMethod_MailedChk  Automatic_Yes  TenureBinned_BT2Y3Y  \\\n",
       "0                        0              0                    0   \n",
       "1                        1              0                    1   \n",
       "2                        1              0                    0   \n",
       "3                        0              1                    0   \n",
       "4                        0              0                    0   \n",
       "\n",
       "   TenureBinned_BT3Y4Y  TenureBinned_BT4Y5Y  TenureBinned_GT5Y  \\\n",
       "0                    0                    0                  0   \n",
       "1                    0                    0                  0   \n",
       "2                    0                    0                  0   \n",
       "3                    1                    0                  0   \n",
       "4                    0                    0                  0   \n",
       "\n",
       "   TenureBinned_LT12M  Churn_Yes  \n",
       "0                   1          0  \n",
       "1                   0          0  \n",
       "2                   1          1  \n",
       "3                   0          0  \n",
       "4                   1          1  \n",
       "\n",
       "[5 rows x 35 columns]"
      ]
     },
     "execution_count": 21,
     "metadata": {},
     "output_type": "execute_result"
    }
   ],
   "source": [
    "data.drop(['customerID','TotalCharges','tenure'],axis=1, inplace=True)\n",
    "data.head()"
   ]
  },
  {
   "cell_type": "markdown",
   "metadata": {},
   "source": [
    "<h4> Splitting the Data into training and testing </h4>"
   ]
  },
  {
   "cell_type": "code",
   "execution_count": 22,
   "metadata": {},
   "outputs": [],
   "source": [
    "X = data.drop(['Churn_Yes'],axis=1).values\n",
    "y = data[['Churn_Yes']].values\n",
    "X_train, X_test,y_train, y_test = train_test_split(X,y,random_state=100, stratify=y)"
   ]
  },
  {
   "cell_type": "markdown",
   "metadata": {},
   "source": [
    "<h4> Model Development </h4>\n",
    "<p> Here we decided to create a single Function for creating models. This function takes the Training and Testing Inputs, Model Type (Logistic Regression, Decision Trees, Random Forest, Support Vector Machine, XGBoost and ADABoost). Since there is a problem of class imbalance, we use two methods for sampling - <a href=\"https://imbalanced-learn.readthedocs.io/en/stable/over_sampling.html#smote-adasyn\"> Over Sampling (SMOTE) </a> and <a href=\"https://imbalanced-learn.readthedocs.io/en/stable/under_sampling.html\"> Under Sampling (NEARMISS)</a></p>\n",
    "\n",
    "<p> This function returns Accuracy, Recall, Confusion Matrix and Cohen's Kappa Score </p>"
   ]
  },
  {
   "cell_type": "code",
   "execution_count": 23,
   "metadata": {},
   "outputs": [],
   "source": [
    "def predictionF(X_tr,y_tr,X_tt,y_tt,model_type, imb_method='SMOTE'):\n",
    "    if imb_method == 'SMOTE':\n",
    "        sm = SMOTE()\n",
    "        X_train,y_train = sm.fit_sample(X=X_tr,y=y_tr)\n",
    "    elif imb_method == 'NEARMISS':\n",
    "        nm = NearMiss()\n",
    "        X_train,y_train = nm.fit_sample(X_tr,y_tr)\n",
    "    \n",
    "    if model_type == 'LOGREG':\n",
    "        model = LogisticRegression()\n",
    "    elif model_type == 'DECISIONTREE':\n",
    "        model = DecisionTreeClassifier()\n",
    "    elif model_type == 'RANDOMFOREST':\n",
    "        model = RandomForestClassifier()\n",
    "    elif model_type == 'SVM':\n",
    "        model = SVC()\n",
    "    elif model_type == 'XGBOOST':\n",
    "        model = XGBClassifier()\n",
    "    elif model_type == 'ADABOOST':\n",
    "        model = AdaBoostClassifier()\n",
    "    elif model_type == 'NEURALNET':\n",
    "        model=Sequential()\n",
    "        model.add(Dense(60, input_dim=X_train.shape[1], kernel_initializer='normal', activation='relu'))\n",
    "        model.add(Dense(30, kernel_initializer='normal', activation='relu'))\n",
    "        model.add(Dense(10, kernel_initializer='normal', activation='tanh'))\n",
    "        model.add(Dense(10, kernel_initializer='normal', activation='tanh'))\n",
    "        model.add(Dense(1, kernel_initializer='normal', activation='sigmoid'))\n",
    "        model.compile(loss='binary_crossentropy', optimizer='adam', metrics=['accuracy'])\n",
    "    else:\n",
    "        print(\"Invalid Model Type\")\n",
    "        return()\n",
    "    \n",
    "    if model_type == 'NEURALNET':\n",
    "        results = model.fit(X_train, y_train, epochs= 50, batch_size = 500, validation_data = (X_tt, y_tt),verbose=False)\n",
    "        ypred = model.predict(X_tt)[:,0]\n",
    "        ypred = np.round(ypred)\n",
    "    else:        \n",
    "        model.fit(X_train,y_train)        \n",
    "        ypred = model.predict(X_tt)\n",
    "        \n",
    "    accuracy = accuracy_score(y_pred=ypred, y_true=y_tt)\n",
    "    recall   = recall_score(y_pred=ypred, y_true=y_tt)\n",
    "    conf_matrix = confusion_matrix(y_pred=ypred, y_true=y_tt)\n",
    "    coh_kappa= cohen_kappa_score(y1=ypred, y2=y_tt)   \n",
    "    \n",
    "    return(accuracy, recall, conf_matrix,coh_kappa)"
   ]
  },
  {
   "cell_type": "code",
   "execution_count": 24,
   "metadata": {},
   "outputs": [],
   "source": [
    "## Run Logistic Regression\n",
    "acc_lm_sm, recall_lm_sm, confm_lm_sm, coh_lm_sm = predictionF(X_tr=X_train,y_tr=y_train, X_tt=X_test, y_tt=y_test, imb_method='SMOTE',model_type='LOGREG')\n",
    "acc_lm_nm, recall_lm_nm, confm_lm_nm, coh_lm_nm = predictionF(X_tr=X_train,y_tr=y_train, X_tt=X_test, y_tt=y_test, imb_method='NEARMISS',model_type='LOGREG')"
   ]
  },
  {
   "cell_type": "code",
   "execution_count": 25,
   "metadata": {},
   "outputs": [],
   "source": [
    "## Run Decision Trees\n",
    "acc_dt_sm, recall_dt_sm, confm_dt_sm, coh_dt_sm = predictionF(X_tr=X_train,y_tr=y_train, X_tt=X_test, y_tt=y_test, imb_method='SMOTE',model_type='DECISIONTREE')\n",
    "acc_dt_nm, recall_dt_nm, confm_dt_nm, coh_dt_nm = predictionF(X_tr=X_train,y_tr=y_train, X_tt=X_test, y_tt=y_test, imb_method='NEARMISS',model_type='DECISIONTREE')"
   ]
  },
  {
   "cell_type": "code",
   "execution_count": 26,
   "metadata": {},
   "outputs": [],
   "source": [
    "acc_rf_sm, recall_rf_sm, confm_rf_sm, coh_rf_sm = predictionF(X_tr=X_train,y_tr=y_train, X_tt=X_test, y_tt=y_test, imb_method='SMOTE',model_type='RANDOMFOREST')\n",
    "acc_rf_nm, recall_rf_nm, confm_rf_nm, coh_rf_nm = predictionF(X_tr=X_train,y_tr=y_train, X_tt=X_test, y_tt=y_test, imb_method='NEARMISS',model_type='RANDOMFOREST')"
   ]
  },
  {
   "cell_type": "code",
   "execution_count": 27,
   "metadata": {},
   "outputs": [],
   "source": [
    "acc_sv_sm, recall_sv_sm, confm_sv_sm, coh_sv_sm = predictionF(X_tr=X_train,y_tr=y_train, X_tt=X_test, y_tt=y_test, imb_method='SMOTE',model_type='SVM')\n",
    "acc_sv_nm, recall_sv_nm, confm_sv_nm, coh_sv_nm = predictionF(X_tr=X_train,y_tr=y_train, X_tt=X_test, y_tt=y_test, imb_method='NEARMISS',model_type='SVM')"
   ]
  },
  {
   "cell_type": "code",
   "execution_count": 28,
   "metadata": {},
   "outputs": [],
   "source": [
    "acc_xg_sm, recall_xg_sm, confm_xg_sm, coh_xg_sm = predictionF(X_tr=X_train,y_tr=y_train, X_tt=X_test, y_tt=y_test, imb_method='SMOTE',model_type='XGBOOST')\n",
    "acc_xg_nm, recall_xg_nm, confm_xg_nm, coh_xg_nm = predictionF(X_tr=X_train,y_tr=y_train, X_tt=X_test, y_tt=y_test, imb_method='NEARMISS',model_type='XGBOOST')"
   ]
  },
  {
   "cell_type": "code",
   "execution_count": 29,
   "metadata": {},
   "outputs": [],
   "source": [
    "acc_ad_sm, recall_ad_sm, confm_ad_sm, coh_ad_sm = predictionF(X_tr=X_train,y_tr=y_train, X_tt=X_test, y_tt=y_test, imb_method='SMOTE',model_type='ADABOOST')\n",
    "acc_ad_nm, recall_ad_nm, confm_ad_nm, coh_ad_nm = predictionF(X_tr=X_train,y_tr=y_train, X_tt=X_test, y_tt=y_test, imb_method='NEARMISS',model_type='ADABOOST')"
   ]
  },
  {
   "cell_type": "code",
   "execution_count": 30,
   "metadata": {},
   "outputs": [],
   "source": [
    "acc_nn_sm, recall_nn_sm, confm_nn_sm, coh_nn_sm = predictionF(X_tr=X_train,y_tr=y_train, X_tt=X_test, y_tt=y_test, imb_method='SMOTE',model_type='NEURALNET')\n",
    "acc_nn_nm, recall_nn_nm, confm_nn_nm, coh_nn_nm = predictionF(X_tr=X_train,y_tr=y_train, X_tt=X_test, y_tt=y_test, imb_method='SMOTE',model_type='NEURALNET')"
   ]
  },
  {
   "cell_type": "code",
   "execution_count": 31,
   "metadata": {},
   "outputs": [],
   "source": [
    "comparisondf = pd.DataFrame(data= [[acc_lm_sm, acc_lm_nm, recall_lm_sm, recall_lm_nm, coh_lm_sm, coh_lm_nm],\n",
    "                                   [acc_dt_sm,acc_dt_nm, recall_dt_sm, recall_dt_nm, coh_dt_sm, coh_dt_nm],\n",
    "                                   [acc_rf_sm,acc_rf_nm, recall_rf_sm, recall_rf_nm, coh_rf_sm, coh_rf_nm],\n",
    "                                   [acc_sv_sm,acc_sv_nm, recall_sv_sm, recall_sv_nm, coh_sv_sm, coh_sv_nm],\n",
    "                                   [acc_xg_sm,acc_xg_nm, recall_xg_sm, recall_xg_nm, coh_xg_sm, coh_xg_nm],\n",
    "                                   [acc_ad_sm,acc_ad_nm, recall_ad_sm, recall_ad_nm, coh_ad_sm, coh_ad_nm],\n",
    "                                   [acc_nn_sm,acc_nn_nm, recall_nn_sm, recall_nn_nm, coh_nn_sm, coh_nn_nm]], columns=['ACCURACY_SMOTE','ACCURACY_NEARMISS', 'RECALL_SMOTE','RECALL_NEARMISS','COHEN_KAPPA_SMOTE','COHEN_KAPPA_NEARMISS'], index=['LOGREG','DECISIONTREE','RANDOMFOREST','SVC','XGBOOST','ADABOOST','NEURALNET'])"
   ]
  },
  {
   "cell_type": "code",
   "execution_count": 32,
   "metadata": {},
   "outputs": [
    {
     "name": "stdout",
     "output_type": "stream",
     "text": [
      "0.7410562180579217\n",
      "0.6598523566155593\n",
      "0.7837259100642399\n",
      "0.7794432548179872\n"
     ]
    }
   ],
   "source": [
    "print(acc_lm_sm)\n",
    "print(acc_lm_nm)\n",
    "print(recall_lm_sm)\n",
    "print(recall_lm_nm)"
   ]
  },
  {
   "cell_type": "code",
   "execution_count": 33,
   "metadata": {},
   "outputs": [
    {
     "data": {
      "text/html": [
       "<div>\n",
       "<style scoped>\n",
       "    .dataframe tbody tr th:only-of-type {\n",
       "        vertical-align: middle;\n",
       "    }\n",
       "\n",
       "    .dataframe tbody tr th {\n",
       "        vertical-align: top;\n",
       "    }\n",
       "\n",
       "    .dataframe thead th {\n",
       "        text-align: right;\n",
       "    }\n",
       "</style>\n",
       "<table border=\"1\" class=\"dataframe\">\n",
       "  <thead>\n",
       "    <tr style=\"text-align: right;\">\n",
       "      <th></th>\n",
       "      <th>ACCURACY_SMOTE</th>\n",
       "      <th>ACCURACY_NEARMISS</th>\n",
       "      <th>RECALL_SMOTE</th>\n",
       "      <th>RECALL_NEARMISS</th>\n",
       "    </tr>\n",
       "  </thead>\n",
       "  <tbody>\n",
       "    <tr>\n",
       "      <th>LOGREG</th>\n",
       "      <td>74.0</td>\n",
       "      <td>66.0</td>\n",
       "      <td>78.0</td>\n",
       "      <td>78.0</td>\n",
       "    </tr>\n",
       "    <tr>\n",
       "      <th>DECISIONTREE</th>\n",
       "      <td>70.0</td>\n",
       "      <td>51.0</td>\n",
       "      <td>48.0</td>\n",
       "      <td>60.0</td>\n",
       "    </tr>\n",
       "    <tr>\n",
       "      <th>RANDOMFOREST</th>\n",
       "      <td>76.0</td>\n",
       "      <td>55.0</td>\n",
       "      <td>47.0</td>\n",
       "      <td>61.0</td>\n",
       "    </tr>\n",
       "    <tr>\n",
       "      <th>SVC</th>\n",
       "      <td>74.0</td>\n",
       "      <td>60.0</td>\n",
       "      <td>81.0</td>\n",
       "      <td>78.0</td>\n",
       "    </tr>\n",
       "    <tr>\n",
       "      <th>XGBOOST</th>\n",
       "      <td>77.0</td>\n",
       "      <td>51.0</td>\n",
       "      <td>67.0</td>\n",
       "      <td>78.0</td>\n",
       "    </tr>\n",
       "    <tr>\n",
       "      <th>ADABOOST</th>\n",
       "      <td>77.0</td>\n",
       "      <td>61.0</td>\n",
       "      <td>73.0</td>\n",
       "      <td>79.0</td>\n",
       "    </tr>\n",
       "    <tr>\n",
       "      <th>NEURALNET</th>\n",
       "      <td>73.0</td>\n",
       "      <td>73.0</td>\n",
       "      <td>77.0</td>\n",
       "      <td>75.0</td>\n",
       "    </tr>\n",
       "  </tbody>\n",
       "</table>\n",
       "</div>"
      ],
      "text/plain": [
       "              ACCURACY_SMOTE  ACCURACY_NEARMISS  RECALL_SMOTE  RECALL_NEARMISS\n",
       "LOGREG                  74.0               66.0          78.0             78.0\n",
       "DECISIONTREE            70.0               51.0          48.0             60.0\n",
       "RANDOMFOREST            76.0               55.0          47.0             61.0\n",
       "SVC                     74.0               60.0          81.0             78.0\n",
       "XGBOOST                 77.0               51.0          67.0             78.0\n",
       "ADABOOST                77.0               61.0          73.0             79.0\n",
       "NEURALNET               73.0               73.0          77.0             75.0"
      ]
     },
     "execution_count": 33,
     "metadata": {},
     "output_type": "execute_result"
    }
   ],
   "source": [
    "round(comparisondf.iloc[:,0:4]*100)"
   ]
  },
  {
   "cell_type": "markdown",
   "metadata": {},
   "source": [
    "## "
   ]
  }
 ],
 "metadata": {
  "kernelspec": {
   "display_name": "Python 3",
   "language": "python",
   "name": "python3"
  },
  "language_info": {
   "codemirror_mode": {
    "name": "ipython",
    "version": 3
   },
   "file_extension": ".py",
   "mimetype": "text/x-python",
   "name": "python",
   "nbconvert_exporter": "python",
   "pygments_lexer": "ipython3",
   "version": "3.5.5"
  }
 },
 "nbformat": 4,
 "nbformat_minor": 2
}
