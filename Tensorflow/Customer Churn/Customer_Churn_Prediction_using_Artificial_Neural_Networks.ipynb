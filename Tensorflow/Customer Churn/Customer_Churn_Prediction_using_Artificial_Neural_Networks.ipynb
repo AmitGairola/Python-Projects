{
  "nbformat": 4,
  "nbformat_minor": 0,
  "metadata": {
    "colab": {
      "name": "Customer Churn Prediction using Artificial Neural Networks.ipynb",
      "provenance": [],
      "collapsed_sections": []
    },
    "kernelspec": {
      "name": "python3",
      "display_name": "Python 3"
    },
    "language_info": {
      "name": "python"
    },
    "accelerator": "GPU"
  },
  "cells": [
    {
      "cell_type": "markdown",
      "metadata": {
        "id": "LZjyo_q4-J0V"
      },
      "source": [
        "<h1>Predict Customer Churn using Artificial Neural Networks</h1>\n",
        "<p class='lead'>This demonstration is part of the tutorial for Neural Networks lesson. Here we are going to predict customer churn for a Telecom operator. <b>Customer Churn</b> is defined as the likelihood of a customer moving over to competition. </p> \n",
        "\n",
        "<p>Using Deep Learning for a Supervised Learning problem, we will design a neural network that we predict if the customer is likely to churn. </p>"
      ]
    },
    {
      "cell_type": "code",
      "metadata": {
        "id": "zWON6FYbfQbC",
        "colab": {
          "base_uri": "https://localhost:8080/"
        },
        "outputId": "b18534ab-0009-4cc0-f3b9-7d62ee901800"
      },
      "source": [
        "# First let us mount our google drive so that we can access the training and test set from google drive\n",
        "from google.colab import drive\n",
        "drive.mount('/content/gdrive')"
      ],
      "execution_count": 1,
      "outputs": [
        {
          "output_type": "stream",
          "text": [
            "Drive already mounted at /content/gdrive; to attempt to forcibly remount, call drive.mount(\"/content/gdrive\", force_remount=True).\n"
          ],
          "name": "stdout"
        }
      ]
    },
    {
      "cell_type": "code",
      "metadata": {
        "id": "E8qZIjMR_rfk"
      },
      "source": [
        "# We will import the libraries that are needed to read and manipulate the datasets\n",
        "import pandas as pd\n",
        "import numpy as np"
      ],
      "execution_count": 2,
      "outputs": []
    },
    {
      "cell_type": "code",
      "metadata": {
        "colab": {
          "base_uri": "https://localhost:8080/",
          "height": 224
        },
        "id": "SjicNiJHCWDo",
        "outputId": "9d33d6f2-c2e4-49ad-d2cd-8743856ddb7f"
      },
      "source": [
        "# We read the training dataset and look at the first five rows of the dataset.\n",
        "train_df = pd.read_csv('/content/gdrive/MyDrive/datasets/Customer Churn/TrainingData.csv')\n",
        "train_df.head()"
      ],
      "execution_count": 3,
      "outputs": [
        {
          "output_type": "execute_result",
          "data": {
            "text/html": [
              "<div>\n",
              "<style scoped>\n",
              "    .dataframe tbody tr th:only-of-type {\n",
              "        vertical-align: middle;\n",
              "    }\n",
              "\n",
              "    .dataframe tbody tr th {\n",
              "        vertical-align: top;\n",
              "    }\n",
              "\n",
              "    .dataframe thead th {\n",
              "        text-align: right;\n",
              "    }\n",
              "</style>\n",
              "<table border=\"1\" class=\"dataframe\">\n",
              "  <thead>\n",
              "    <tr style=\"text-align: right;\">\n",
              "      <th></th>\n",
              "      <th>Id</th>\n",
              "      <th>state</th>\n",
              "      <th>account_length</th>\n",
              "      <th>area_code</th>\n",
              "      <th>international_plan</th>\n",
              "      <th>voice_mail_plan</th>\n",
              "      <th>number_vmail_messages</th>\n",
              "      <th>total_day_minutes</th>\n",
              "      <th>total_day_calls</th>\n",
              "      <th>total_day_charge</th>\n",
              "      <th>total_eve_minutes</th>\n",
              "      <th>total_eve_calls</th>\n",
              "      <th>total_eve_charge</th>\n",
              "      <th>total_night_minutes</th>\n",
              "      <th>total_night_calls</th>\n",
              "      <th>total_night_charge</th>\n",
              "      <th>total_intl_minutes</th>\n",
              "      <th>total_intl_calls</th>\n",
              "      <th>total_intl_charge</th>\n",
              "      <th>number_customer_service_calls</th>\n",
              "      <th>churn</th>\n",
              "    </tr>\n",
              "  </thead>\n",
              "  <tbody>\n",
              "    <tr>\n",
              "      <th>0</th>\n",
              "      <td>C00000</td>\n",
              "      <td>OH</td>\n",
              "      <td>107</td>\n",
              "      <td>area_code_415</td>\n",
              "      <td>no</td>\n",
              "      <td>yes</td>\n",
              "      <td>26</td>\n",
              "      <td>161.6</td>\n",
              "      <td>123</td>\n",
              "      <td>27.47</td>\n",
              "      <td>195.5</td>\n",
              "      <td>103</td>\n",
              "      <td>16.62</td>\n",
              "      <td>254.4</td>\n",
              "      <td>103</td>\n",
              "      <td>11.45</td>\n",
              "      <td>13.7</td>\n",
              "      <td>3</td>\n",
              "      <td>3.70</td>\n",
              "      <td>1</td>\n",
              "      <td>no</td>\n",
              "    </tr>\n",
              "    <tr>\n",
              "      <th>1</th>\n",
              "      <td>C00001</td>\n",
              "      <td>NJ</td>\n",
              "      <td>137</td>\n",
              "      <td>area_code_415</td>\n",
              "      <td>no</td>\n",
              "      <td>no</td>\n",
              "      <td>0</td>\n",
              "      <td>243.4</td>\n",
              "      <td>114</td>\n",
              "      <td>41.38</td>\n",
              "      <td>121.2</td>\n",
              "      <td>110</td>\n",
              "      <td>10.30</td>\n",
              "      <td>162.6</td>\n",
              "      <td>104</td>\n",
              "      <td>7.32</td>\n",
              "      <td>12.2</td>\n",
              "      <td>5</td>\n",
              "      <td>3.29</td>\n",
              "      <td>0</td>\n",
              "      <td>no</td>\n",
              "    </tr>\n",
              "    <tr>\n",
              "      <th>2</th>\n",
              "      <td>C00002</td>\n",
              "      <td>OH</td>\n",
              "      <td>84</td>\n",
              "      <td>area_code_408</td>\n",
              "      <td>yes</td>\n",
              "      <td>no</td>\n",
              "      <td>0</td>\n",
              "      <td>299.4</td>\n",
              "      <td>71</td>\n",
              "      <td>50.90</td>\n",
              "      <td>61.9</td>\n",
              "      <td>88</td>\n",
              "      <td>5.26</td>\n",
              "      <td>196.9</td>\n",
              "      <td>89</td>\n",
              "      <td>8.86</td>\n",
              "      <td>6.6</td>\n",
              "      <td>7</td>\n",
              "      <td>1.78</td>\n",
              "      <td>2</td>\n",
              "      <td>no</td>\n",
              "    </tr>\n",
              "    <tr>\n",
              "      <th>3</th>\n",
              "      <td>C00003</td>\n",
              "      <td>OK</td>\n",
              "      <td>75</td>\n",
              "      <td>area_code_415</td>\n",
              "      <td>yes</td>\n",
              "      <td>no</td>\n",
              "      <td>0</td>\n",
              "      <td>166.7</td>\n",
              "      <td>113</td>\n",
              "      <td>28.34</td>\n",
              "      <td>148.3</td>\n",
              "      <td>122</td>\n",
              "      <td>12.61</td>\n",
              "      <td>186.9</td>\n",
              "      <td>121</td>\n",
              "      <td>8.41</td>\n",
              "      <td>10.1</td>\n",
              "      <td>3</td>\n",
              "      <td>2.73</td>\n",
              "      <td>3</td>\n",
              "      <td>no</td>\n",
              "    </tr>\n",
              "    <tr>\n",
              "      <th>4</th>\n",
              "      <td>C00004</td>\n",
              "      <td>MA</td>\n",
              "      <td>121</td>\n",
              "      <td>area_code_510</td>\n",
              "      <td>no</td>\n",
              "      <td>yes</td>\n",
              "      <td>24</td>\n",
              "      <td>218.2</td>\n",
              "      <td>88</td>\n",
              "      <td>37.09</td>\n",
              "      <td>348.5</td>\n",
              "      <td>108</td>\n",
              "      <td>29.62</td>\n",
              "      <td>212.6</td>\n",
              "      <td>118</td>\n",
              "      <td>9.57</td>\n",
              "      <td>7.5</td>\n",
              "      <td>7</td>\n",
              "      <td>2.03</td>\n",
              "      <td>3</td>\n",
              "      <td>no</td>\n",
              "    </tr>\n",
              "  </tbody>\n",
              "</table>\n",
              "</div>"
            ],
            "text/plain": [
              "       Id state  ...  number_customer_service_calls churn\n",
              "0  C00000    OH  ...                              1    no\n",
              "1  C00001    NJ  ...                              0    no\n",
              "2  C00002    OH  ...                              2    no\n",
              "3  C00003    OK  ...                              3    no\n",
              "4  C00004    MA  ...                              3    no\n",
              "\n",
              "[5 rows x 21 columns]"
            ]
          },
          "metadata": {},
          "execution_count": 3
        }
      ]
    },
    {
      "cell_type": "code",
      "metadata": {
        "colab": {
          "base_uri": "https://localhost:8080/",
          "height": 224
        },
        "id": "nWRAh4TFCrbU",
        "outputId": "e8044a29-4d64-48a5-bc17-da5a5aa31a2c"
      },
      "source": [
        "# We do the same for the testing dataset\n",
        "test_df = pd.read_csv('/content/gdrive/MyDrive/datasets/Customer Churn/TestingData.csv')\n",
        "test_df.head()"
      ],
      "execution_count": 4,
      "outputs": [
        {
          "output_type": "execute_result",
          "data": {
            "text/html": [
              "<div>\n",
              "<style scoped>\n",
              "    .dataframe tbody tr th:only-of-type {\n",
              "        vertical-align: middle;\n",
              "    }\n",
              "\n",
              "    .dataframe tbody tr th {\n",
              "        vertical-align: top;\n",
              "    }\n",
              "\n",
              "    .dataframe thead th {\n",
              "        text-align: right;\n",
              "    }\n",
              "</style>\n",
              "<table border=\"1\" class=\"dataframe\">\n",
              "  <thead>\n",
              "    <tr style=\"text-align: right;\">\n",
              "      <th></th>\n",
              "      <th>Id</th>\n",
              "      <th>state</th>\n",
              "      <th>account_length</th>\n",
              "      <th>area_code</th>\n",
              "      <th>international_plan</th>\n",
              "      <th>voice_mail_plan</th>\n",
              "      <th>number_vmail_messages</th>\n",
              "      <th>total_day_minutes</th>\n",
              "      <th>total_day_calls</th>\n",
              "      <th>total_day_charge</th>\n",
              "      <th>total_eve_minutes</th>\n",
              "      <th>total_eve_calls</th>\n",
              "      <th>total_eve_charge</th>\n",
              "      <th>total_night_minutes</th>\n",
              "      <th>total_night_calls</th>\n",
              "      <th>total_night_charge</th>\n",
              "      <th>total_intl_minutes</th>\n",
              "      <th>total_intl_calls</th>\n",
              "      <th>total_intl_charge</th>\n",
              "      <th>number_customer_service_calls</th>\n",
              "      <th>churn</th>\n",
              "    </tr>\n",
              "  </thead>\n",
              "  <tbody>\n",
              "    <tr>\n",
              "      <th>0</th>\n",
              "      <td>C000015</td>\n",
              "      <td>TX</td>\n",
              "      <td>73</td>\n",
              "      <td>area_code_415</td>\n",
              "      <td>no</td>\n",
              "      <td>no</td>\n",
              "      <td>0</td>\n",
              "      <td>224.4</td>\n",
              "      <td>90</td>\n",
              "      <td>38.15</td>\n",
              "      <td>159.5</td>\n",
              "      <td>88</td>\n",
              "      <td>13.56</td>\n",
              "      <td>192.8</td>\n",
              "      <td>74</td>\n",
              "      <td>8.68</td>\n",
              "      <td>13.0</td>\n",
              "      <td>2</td>\n",
              "      <td>3.51</td>\n",
              "      <td>1</td>\n",
              "      <td>no</td>\n",
              "    </tr>\n",
              "    <tr>\n",
              "      <th>1</th>\n",
              "      <td>C000016</td>\n",
              "      <td>FL</td>\n",
              "      <td>147</td>\n",
              "      <td>area_code_415</td>\n",
              "      <td>no</td>\n",
              "      <td>no</td>\n",
              "      <td>0</td>\n",
              "      <td>155.1</td>\n",
              "      <td>117</td>\n",
              "      <td>26.37</td>\n",
              "      <td>239.7</td>\n",
              "      <td>93</td>\n",
              "      <td>20.37</td>\n",
              "      <td>208.8</td>\n",
              "      <td>133</td>\n",
              "      <td>9.40</td>\n",
              "      <td>10.6</td>\n",
              "      <td>4</td>\n",
              "      <td>2.86</td>\n",
              "      <td>0</td>\n",
              "      <td>no</td>\n",
              "    </tr>\n",
              "    <tr>\n",
              "      <th>2</th>\n",
              "      <td>C000017</td>\n",
              "      <td>CO</td>\n",
              "      <td>77</td>\n",
              "      <td>area_code_408</td>\n",
              "      <td>no</td>\n",
              "      <td>no</td>\n",
              "      <td>0</td>\n",
              "      <td>62.4</td>\n",
              "      <td>89</td>\n",
              "      <td>10.61</td>\n",
              "      <td>169.9</td>\n",
              "      <td>121</td>\n",
              "      <td>14.44</td>\n",
              "      <td>209.6</td>\n",
              "      <td>64</td>\n",
              "      <td>9.43</td>\n",
              "      <td>5.7</td>\n",
              "      <td>6</td>\n",
              "      <td>1.54</td>\n",
              "      <td>5</td>\n",
              "      <td>yes</td>\n",
              "    </tr>\n",
              "    <tr>\n",
              "      <th>3</th>\n",
              "      <td>C000018</td>\n",
              "      <td>AZ</td>\n",
              "      <td>130</td>\n",
              "      <td>area_code_415</td>\n",
              "      <td>no</td>\n",
              "      <td>no</td>\n",
              "      <td>0</td>\n",
              "      <td>183.0</td>\n",
              "      <td>112</td>\n",
              "      <td>31.11</td>\n",
              "      <td>72.9</td>\n",
              "      <td>99</td>\n",
              "      <td>6.20</td>\n",
              "      <td>181.8</td>\n",
              "      <td>78</td>\n",
              "      <td>8.18</td>\n",
              "      <td>9.5</td>\n",
              "      <td>19</td>\n",
              "      <td>2.57</td>\n",
              "      <td>0</td>\n",
              "      <td>no</td>\n",
              "    </tr>\n",
              "    <tr>\n",
              "      <th>4</th>\n",
              "      <td>C000030</td>\n",
              "      <td>AK</td>\n",
              "      <td>136</td>\n",
              "      <td>area_code_415</td>\n",
              "      <td>yes</td>\n",
              "      <td>yes</td>\n",
              "      <td>33</td>\n",
              "      <td>203.9</td>\n",
              "      <td>106</td>\n",
              "      <td>34.66</td>\n",
              "      <td>187.6</td>\n",
              "      <td>99</td>\n",
              "      <td>15.95</td>\n",
              "      <td>101.7</td>\n",
              "      <td>107</td>\n",
              "      <td>4.58</td>\n",
              "      <td>10.5</td>\n",
              "      <td>6</td>\n",
              "      <td>2.84</td>\n",
              "      <td>3</td>\n",
              "      <td>no</td>\n",
              "    </tr>\n",
              "  </tbody>\n",
              "</table>\n",
              "</div>"
            ],
            "text/plain": [
              "        Id state  ...  number_customer_service_calls churn\n",
              "0  C000015    TX  ...                              1    no\n",
              "1  C000016    FL  ...                              0    no\n",
              "2  C000017    CO  ...                              5   yes\n",
              "3  C000018    AZ  ...                              0    no\n",
              "4  C000030    AK  ...                              3    no\n",
              "\n",
              "[5 rows x 21 columns]"
            ]
          },
          "metadata": {},
          "execution_count": 4
        }
      ]
    },
    {
      "cell_type": "code",
      "metadata": {
        "colab": {
          "base_uri": "https://localhost:8080/"
        },
        "id": "rqH-iH1LRA4T",
        "outputId": "faa4e5fe-2c68-4f67-bf7e-32c48cd75a77"
      },
      "source": [
        "train_df.isna().sum()"
      ],
      "execution_count": 5,
      "outputs": [
        {
          "output_type": "execute_result",
          "data": {
            "text/plain": [
              "Id                               0\n",
              "state                            0\n",
              "account_length                   0\n",
              "area_code                        0\n",
              "international_plan               0\n",
              "voice_mail_plan                  0\n",
              "number_vmail_messages            0\n",
              "total_day_minutes                0\n",
              "total_day_calls                  0\n",
              "total_day_charge                 0\n",
              "total_eve_minutes                0\n",
              "total_eve_calls                  0\n",
              "total_eve_charge                 0\n",
              "total_night_minutes              0\n",
              "total_night_calls                0\n",
              "total_night_charge               0\n",
              "total_intl_minutes               0\n",
              "total_intl_calls                 0\n",
              "total_intl_charge                0\n",
              "number_customer_service_calls    0\n",
              "churn                            0\n",
              "dtype: int64"
            ]
          },
          "metadata": {},
          "execution_count": 5
        }
      ]
    },
    {
      "cell_type": "code",
      "metadata": {
        "colab": {
          "base_uri": "https://localhost:8080/"
        },
        "id": "aWcbTg7TRGeF",
        "outputId": "cc472535-5886-4bff-efce-466e070ef1e8"
      },
      "source": [
        "test_df.isna().sum()"
      ],
      "execution_count": 6,
      "outputs": [
        {
          "output_type": "execute_result",
          "data": {
            "text/plain": [
              "Id                               0\n",
              "state                            0\n",
              "account_length                   0\n",
              "area_code                        0\n",
              "international_plan               0\n",
              "voice_mail_plan                  0\n",
              "number_vmail_messages            0\n",
              "total_day_minutes                0\n",
              "total_day_calls                  0\n",
              "total_day_charge                 0\n",
              "total_eve_minutes                0\n",
              "total_eve_calls                  0\n",
              "total_eve_charge                 0\n",
              "total_night_minutes              0\n",
              "total_night_calls                0\n",
              "total_night_charge               0\n",
              "total_intl_minutes               0\n",
              "total_intl_calls                 0\n",
              "total_intl_charge                0\n",
              "number_customer_service_calls    0\n",
              "churn                            0\n",
              "dtype: int64"
            ]
          },
          "metadata": {},
          "execution_count": 6
        }
      ]
    },
    {
      "cell_type": "code",
      "metadata": {
        "id": "RQ-68z7vDR7E"
      },
      "source": [
        "# This is the first step of feature engineering where we use existing columns and create new features for average length of a call\n",
        "# during the day time, evenings, night time and international calls.\n",
        "train_df['total_day_calls'] = train_df['total_day_calls'].apply(lambda x: x if x>0 else x+1)\n",
        "train_df['total_eve_calls'] = train_df['total_eve_calls'].apply(lambda x: x if x>0 else x+1)\n",
        "train_df['total_night_calls'] = train_df['total_night_calls'].apply(lambda x: x if x>0 else x+1)\n",
        "train_df['total_intl_calls'] = train_df['total_intl_calls'].apply(lambda x: x if x>0 else x+1)\n",
        "train_df['AvgDayCallLength'] = train_df['total_day_minutes']/train_df['total_day_calls'] # Number of minutes per day call\n",
        "train_df['AvgEveCallLength'] = train_df['total_eve_minutes']/train_df['total_eve_calls'] # Number of minutes per eve call\n",
        "train_df['AvgNightCallLength'] = train_df['total_night_minutes']/train_df['total_night_calls'] # Number of minutes per night call\n",
        "train_df['AvgIntlCallLength'] = train_df['total_intl_minutes']/train_df['total_intl_calls'] # Number of minutes per intl call"
      ],
      "execution_count": 7,
      "outputs": []
    },
    {
      "cell_type": "code",
      "metadata": {
        "id": "91goc52mDeh7"
      },
      "source": [
        "# We also compute the average charge in $ per call\n",
        "train_df['total_day_minutes'] = train_df['total_day_minutes'].apply(lambda x: x if x>0 else x+1) \n",
        "train_df['total_eve_minutes'] = train_df['total_eve_minutes'].apply(lambda x: x if x>0 else x+1) \n",
        "train_df['total_night_minutes'] = train_df['total_night_minutes'].apply(lambda x: x if x>0 else x+1) \n",
        "train_df['total_intl_minutes'] = train_df['total_intl_minutes'].apply(lambda x: x if x>0 else x+1) \n",
        "train_df['AvgDayCallChargePerMin'] = train_df['total_day_charge']/train_df['total_day_minutes'] # Average Charge per min\n",
        "train_df['AvgEveCallChargePerMin'] = train_df['total_eve_charge']/train_df['total_eve_minutes'] # Average Charge per min\n",
        "train_df['AvgNightCallChargePerMin'] = train_df['total_night_charge']/train_df['total_night_minutes'] # Average Charge per min\n",
        "train_df['AvgIntlCallChargePerMin'] = train_df['total_intl_charge']/train_df['total_intl_minutes'] # Average Charge per min\n"
      ],
      "execution_count": 8,
      "outputs": []
    },
    {
      "cell_type": "code",
      "metadata": {
        "id": "7Dj7KSLGDwnW"
      },
      "source": [
        "# We do the same for each record in the test set\n",
        "test_df['total_day_calls'] = test_df['total_day_calls'].apply(lambda x: x if x>0 else x+1)\n",
        "test_df['total_eve_calls'] = test_df['total_eve_calls'].apply(lambda x: x if x>0 else x+1)\n",
        "test_df['total_night_calls'] = test_df['total_night_calls'].apply(lambda x: x if x>0 else x+1)\n",
        "test_df['total_intl_calls'] = test_df['total_intl_calls'].apply(lambda x: x if x>0 else x+1)\n",
        "test_df['AvgDayCallLength'] = test_df['total_day_minutes']/test_df['total_day_calls'] # Number of minutes per day call\n",
        "test_df['AvgEveCallLength'] = test_df['total_eve_minutes']/test_df['total_eve_calls'] # Number of minutes per eve call\n",
        "test_df['AvgNightCallLength'] = test_df['total_night_minutes']/test_df['total_night_calls'] # Number of minutes per night call\n",
        "test_df['AvgIntlCallLength'] = test_df['total_intl_minutes']/test_df['total_intl_calls'] # Number of minutes per intl call\n",
        "test_df['total_day_minutes'] = test_df['total_day_minutes'].apply(lambda x: x if x>0 else x+1) \n",
        "test_df['total_eve_minutes'] = test_df['total_eve_minutes'].apply(lambda x: x if x>0 else x+1) \n",
        "test_df['total_night_minutes'] = test_df['total_night_minutes'].apply(lambda x: x if x>0 else x+1) \n",
        "test_df['total_intl_minutes'] = test_df['total_intl_minutes'].apply(lambda x: x if x>0 else x+1) \n",
        "test_df['AvgDayCallChargePerMin'] = test_df['total_day_charge']/test_df['total_day_minutes'] # Average Charge per min\n",
        "test_df['AvgEveCallChargePerMin'] = test_df['total_eve_charge']/test_df['total_eve_minutes'] # Average Charge per min\n",
        "test_df['AvgNightCallChargePerMin'] = test_df['total_night_charge']/test_df['total_night_minutes'] # Average Charge per min\n",
        "test_df['AvgIntlCallChargePerMin'] = test_df['total_intl_charge']/test_df['total_intl_minutes'] # Average Charge per min"
      ],
      "execution_count": 9,
      "outputs": []
    },
    {
      "cell_type": "code",
      "metadata": {
        "id": "FcsvjlA7EfpE"
      },
      "source": [
        "# once we have created our features, we drop the columns so that there is no multicollinearity since the feature columns\n",
        "# are created from the base columns. We also remove the area and state columns as they dont have any significance statistically and\n",
        "# will add to un-necessary complexity\n",
        "train_df.drop(['Id','state', \n",
        "               'area_code', \n",
        "               'total_day_minutes', \n",
        "               'total_day_calls', \n",
        "               'total_day_charge', \n",
        "               'total_eve_minutes', \n",
        "               'total_eve_calls', \n",
        "               'total_eve_charge', \n",
        "               'total_night_minutes', \n",
        "               'total_night_calls', \n",
        "               'total_night_charge', \n",
        "               'total_intl_minutes', \n",
        "               'total_intl_calls', \n",
        "               'total_intl_charge'], axis=1, inplace=True)\n",
        "\n",
        "\n",
        "test_df.drop(['Id','state', \n",
        "               'area_code', \n",
        "               'total_day_minutes', \n",
        "               'total_day_calls', \n",
        "               'total_day_charge', \n",
        "               'total_eve_minutes', \n",
        "               'total_eve_calls', \n",
        "               'total_eve_charge', \n",
        "               'total_night_minutes', \n",
        "               'total_night_calls', \n",
        "               'total_night_charge', \n",
        "               'total_intl_minutes', \n",
        "               'total_intl_calls', \n",
        "               'total_intl_charge'], axis=1, inplace=True)"
      ],
      "execution_count": 10,
      "outputs": []
    },
    {
      "cell_type": "code",
      "metadata": {
        "colab": {
          "base_uri": "https://localhost:8080/",
          "height": 224
        },
        "id": "0ocfZe4qSC5o",
        "outputId": "b84ef14a-5eda-4784-d0b5-7e92c1eafee6"
      },
      "source": [
        "train_df.head()"
      ],
      "execution_count": 11,
      "outputs": [
        {
          "output_type": "execute_result",
          "data": {
            "text/html": [
              "<div>\n",
              "<style scoped>\n",
              "    .dataframe tbody tr th:only-of-type {\n",
              "        vertical-align: middle;\n",
              "    }\n",
              "\n",
              "    .dataframe tbody tr th {\n",
              "        vertical-align: top;\n",
              "    }\n",
              "\n",
              "    .dataframe thead th {\n",
              "        text-align: right;\n",
              "    }\n",
              "</style>\n",
              "<table border=\"1\" class=\"dataframe\">\n",
              "  <thead>\n",
              "    <tr style=\"text-align: right;\">\n",
              "      <th></th>\n",
              "      <th>account_length</th>\n",
              "      <th>international_plan</th>\n",
              "      <th>voice_mail_plan</th>\n",
              "      <th>number_vmail_messages</th>\n",
              "      <th>number_customer_service_calls</th>\n",
              "      <th>churn</th>\n",
              "      <th>AvgDayCallLength</th>\n",
              "      <th>AvgEveCallLength</th>\n",
              "      <th>AvgNightCallLength</th>\n",
              "      <th>AvgIntlCallLength</th>\n",
              "      <th>AvgDayCallChargePerMin</th>\n",
              "      <th>AvgEveCallChargePerMin</th>\n",
              "      <th>AvgNightCallChargePerMin</th>\n",
              "      <th>AvgIntlCallChargePerMin</th>\n",
              "    </tr>\n",
              "  </thead>\n",
              "  <tbody>\n",
              "    <tr>\n",
              "      <th>0</th>\n",
              "      <td>107</td>\n",
              "      <td>no</td>\n",
              "      <td>yes</td>\n",
              "      <td>26</td>\n",
              "      <td>1</td>\n",
              "      <td>no</td>\n",
              "      <td>1.313821</td>\n",
              "      <td>1.898058</td>\n",
              "      <td>2.469903</td>\n",
              "      <td>4.566667</td>\n",
              "      <td>0.169988</td>\n",
              "      <td>0.085013</td>\n",
              "      <td>0.045008</td>\n",
              "      <td>0.270073</td>\n",
              "    </tr>\n",
              "    <tr>\n",
              "      <th>1</th>\n",
              "      <td>137</td>\n",
              "      <td>no</td>\n",
              "      <td>no</td>\n",
              "      <td>0</td>\n",
              "      <td>0</td>\n",
              "      <td>no</td>\n",
              "      <td>2.135088</td>\n",
              "      <td>1.101818</td>\n",
              "      <td>1.563462</td>\n",
              "      <td>2.440000</td>\n",
              "      <td>0.170008</td>\n",
              "      <td>0.084983</td>\n",
              "      <td>0.045018</td>\n",
              "      <td>0.269672</td>\n",
              "    </tr>\n",
              "    <tr>\n",
              "      <th>2</th>\n",
              "      <td>84</td>\n",
              "      <td>yes</td>\n",
              "      <td>no</td>\n",
              "      <td>0</td>\n",
              "      <td>2</td>\n",
              "      <td>no</td>\n",
              "      <td>4.216901</td>\n",
              "      <td>0.703409</td>\n",
              "      <td>2.212360</td>\n",
              "      <td>0.942857</td>\n",
              "      <td>0.170007</td>\n",
              "      <td>0.084976</td>\n",
              "      <td>0.044997</td>\n",
              "      <td>0.269697</td>\n",
              "    </tr>\n",
              "    <tr>\n",
              "      <th>3</th>\n",
              "      <td>75</td>\n",
              "      <td>yes</td>\n",
              "      <td>no</td>\n",
              "      <td>0</td>\n",
              "      <td>3</td>\n",
              "      <td>no</td>\n",
              "      <td>1.475221</td>\n",
              "      <td>1.215574</td>\n",
              "      <td>1.544628</td>\n",
              "      <td>3.366667</td>\n",
              "      <td>0.170006</td>\n",
              "      <td>0.085030</td>\n",
              "      <td>0.044997</td>\n",
              "      <td>0.270297</td>\n",
              "    </tr>\n",
              "    <tr>\n",
              "      <th>4</th>\n",
              "      <td>121</td>\n",
              "      <td>no</td>\n",
              "      <td>yes</td>\n",
              "      <td>24</td>\n",
              "      <td>3</td>\n",
              "      <td>no</td>\n",
              "      <td>2.479545</td>\n",
              "      <td>3.226852</td>\n",
              "      <td>1.801695</td>\n",
              "      <td>1.071429</td>\n",
              "      <td>0.169982</td>\n",
              "      <td>0.084993</td>\n",
              "      <td>0.045014</td>\n",
              "      <td>0.270667</td>\n",
              "    </tr>\n",
              "  </tbody>\n",
              "</table>\n",
              "</div>"
            ],
            "text/plain": [
              "   account_length  ... AvgIntlCallChargePerMin\n",
              "0             107  ...                0.270073\n",
              "1             137  ...                0.269672\n",
              "2              84  ...                0.269697\n",
              "3              75  ...                0.270297\n",
              "4             121  ...                0.270667\n",
              "\n",
              "[5 rows x 14 columns]"
            ]
          },
          "metadata": {},
          "execution_count": 11
        }
      ]
    },
    {
      "cell_type": "code",
      "metadata": {
        "id": "RHo07VPxBqWx"
      },
      "source": [
        "# Now we do one hot encoding for the categorical variables and the target variable since it is yes/no and we need to have it in 1/0 format.\n",
        "train_df = pd.get_dummies( data=train_df, columns = ['international_plan','voice_mail_plan'],drop_first=True)\n",
        "train_df['churn'] = train_df['churn'].apply(lambda x: 0 if x=='no' else 1)\n",
        "test_df = pd.get_dummies( data=test_df, columns = ['international_plan','voice_mail_plan'],drop_first=True)\n",
        "test_df['churn'] = test_df['churn'].apply(lambda x: 0 if x=='no' else 1)"
      ],
      "execution_count": 12,
      "outputs": []
    },
    {
      "cell_type": "code",
      "metadata": {
        "colab": {
          "base_uri": "https://localhost:8080/",
          "height": 224
        },
        "id": "2fSmNYJRBxDy",
        "outputId": "9262ed5c-ce71-4e6d-dc3a-0a0ce6992340"
      },
      "source": [
        "# Now lets examine our new datasets after feature engineering\n",
        "train_df.head()"
      ],
      "execution_count": 13,
      "outputs": [
        {
          "output_type": "execute_result",
          "data": {
            "text/html": [
              "<div>\n",
              "<style scoped>\n",
              "    .dataframe tbody tr th:only-of-type {\n",
              "        vertical-align: middle;\n",
              "    }\n",
              "\n",
              "    .dataframe tbody tr th {\n",
              "        vertical-align: top;\n",
              "    }\n",
              "\n",
              "    .dataframe thead th {\n",
              "        text-align: right;\n",
              "    }\n",
              "</style>\n",
              "<table border=\"1\" class=\"dataframe\">\n",
              "  <thead>\n",
              "    <tr style=\"text-align: right;\">\n",
              "      <th></th>\n",
              "      <th>account_length</th>\n",
              "      <th>number_vmail_messages</th>\n",
              "      <th>number_customer_service_calls</th>\n",
              "      <th>churn</th>\n",
              "      <th>AvgDayCallLength</th>\n",
              "      <th>AvgEveCallLength</th>\n",
              "      <th>AvgNightCallLength</th>\n",
              "      <th>AvgIntlCallLength</th>\n",
              "      <th>AvgDayCallChargePerMin</th>\n",
              "      <th>AvgEveCallChargePerMin</th>\n",
              "      <th>AvgNightCallChargePerMin</th>\n",
              "      <th>AvgIntlCallChargePerMin</th>\n",
              "      <th>international_plan_yes</th>\n",
              "      <th>voice_mail_plan_yes</th>\n",
              "    </tr>\n",
              "  </thead>\n",
              "  <tbody>\n",
              "    <tr>\n",
              "      <th>0</th>\n",
              "      <td>107</td>\n",
              "      <td>26</td>\n",
              "      <td>1</td>\n",
              "      <td>0</td>\n",
              "      <td>1.313821</td>\n",
              "      <td>1.898058</td>\n",
              "      <td>2.469903</td>\n",
              "      <td>4.566667</td>\n",
              "      <td>0.169988</td>\n",
              "      <td>0.085013</td>\n",
              "      <td>0.045008</td>\n",
              "      <td>0.270073</td>\n",
              "      <td>0</td>\n",
              "      <td>1</td>\n",
              "    </tr>\n",
              "    <tr>\n",
              "      <th>1</th>\n",
              "      <td>137</td>\n",
              "      <td>0</td>\n",
              "      <td>0</td>\n",
              "      <td>0</td>\n",
              "      <td>2.135088</td>\n",
              "      <td>1.101818</td>\n",
              "      <td>1.563462</td>\n",
              "      <td>2.440000</td>\n",
              "      <td>0.170008</td>\n",
              "      <td>0.084983</td>\n",
              "      <td>0.045018</td>\n",
              "      <td>0.269672</td>\n",
              "      <td>0</td>\n",
              "      <td>0</td>\n",
              "    </tr>\n",
              "    <tr>\n",
              "      <th>2</th>\n",
              "      <td>84</td>\n",
              "      <td>0</td>\n",
              "      <td>2</td>\n",
              "      <td>0</td>\n",
              "      <td>4.216901</td>\n",
              "      <td>0.703409</td>\n",
              "      <td>2.212360</td>\n",
              "      <td>0.942857</td>\n",
              "      <td>0.170007</td>\n",
              "      <td>0.084976</td>\n",
              "      <td>0.044997</td>\n",
              "      <td>0.269697</td>\n",
              "      <td>1</td>\n",
              "      <td>0</td>\n",
              "    </tr>\n",
              "    <tr>\n",
              "      <th>3</th>\n",
              "      <td>75</td>\n",
              "      <td>0</td>\n",
              "      <td>3</td>\n",
              "      <td>0</td>\n",
              "      <td>1.475221</td>\n",
              "      <td>1.215574</td>\n",
              "      <td>1.544628</td>\n",
              "      <td>3.366667</td>\n",
              "      <td>0.170006</td>\n",
              "      <td>0.085030</td>\n",
              "      <td>0.044997</td>\n",
              "      <td>0.270297</td>\n",
              "      <td>1</td>\n",
              "      <td>0</td>\n",
              "    </tr>\n",
              "    <tr>\n",
              "      <th>4</th>\n",
              "      <td>121</td>\n",
              "      <td>24</td>\n",
              "      <td>3</td>\n",
              "      <td>0</td>\n",
              "      <td>2.479545</td>\n",
              "      <td>3.226852</td>\n",
              "      <td>1.801695</td>\n",
              "      <td>1.071429</td>\n",
              "      <td>0.169982</td>\n",
              "      <td>0.084993</td>\n",
              "      <td>0.045014</td>\n",
              "      <td>0.270667</td>\n",
              "      <td>0</td>\n",
              "      <td>1</td>\n",
              "    </tr>\n",
              "  </tbody>\n",
              "</table>\n",
              "</div>"
            ],
            "text/plain": [
              "   account_length  ...  voice_mail_plan_yes\n",
              "0             107  ...                    1\n",
              "1             137  ...                    0\n",
              "2              84  ...                    0\n",
              "3              75  ...                    0\n",
              "4             121  ...                    1\n",
              "\n",
              "[5 rows x 14 columns]"
            ]
          },
          "metadata": {},
          "execution_count": 13
        }
      ]
    },
    {
      "cell_type": "code",
      "metadata": {
        "colab": {
          "base_uri": "https://localhost:8080/",
          "height": 224
        },
        "id": "nhe73oLoB-B2",
        "outputId": "ebb35496-4007-46a1-d12d-f252e0c0c71f"
      },
      "source": [
        "test_df.head()"
      ],
      "execution_count": 14,
      "outputs": [
        {
          "output_type": "execute_result",
          "data": {
            "text/html": [
              "<div>\n",
              "<style scoped>\n",
              "    .dataframe tbody tr th:only-of-type {\n",
              "        vertical-align: middle;\n",
              "    }\n",
              "\n",
              "    .dataframe tbody tr th {\n",
              "        vertical-align: top;\n",
              "    }\n",
              "\n",
              "    .dataframe thead th {\n",
              "        text-align: right;\n",
              "    }\n",
              "</style>\n",
              "<table border=\"1\" class=\"dataframe\">\n",
              "  <thead>\n",
              "    <tr style=\"text-align: right;\">\n",
              "      <th></th>\n",
              "      <th>account_length</th>\n",
              "      <th>number_vmail_messages</th>\n",
              "      <th>number_customer_service_calls</th>\n",
              "      <th>churn</th>\n",
              "      <th>AvgDayCallLength</th>\n",
              "      <th>AvgEveCallLength</th>\n",
              "      <th>AvgNightCallLength</th>\n",
              "      <th>AvgIntlCallLength</th>\n",
              "      <th>AvgDayCallChargePerMin</th>\n",
              "      <th>AvgEveCallChargePerMin</th>\n",
              "      <th>AvgNightCallChargePerMin</th>\n",
              "      <th>AvgIntlCallChargePerMin</th>\n",
              "      <th>international_plan_yes</th>\n",
              "      <th>voice_mail_plan_yes</th>\n",
              "    </tr>\n",
              "  </thead>\n",
              "  <tbody>\n",
              "    <tr>\n",
              "      <th>0</th>\n",
              "      <td>73</td>\n",
              "      <td>0</td>\n",
              "      <td>1</td>\n",
              "      <td>0</td>\n",
              "      <td>2.493333</td>\n",
              "      <td>1.812500</td>\n",
              "      <td>2.605405</td>\n",
              "      <td>6.50</td>\n",
              "      <td>0.170009</td>\n",
              "      <td>0.085016</td>\n",
              "      <td>0.045021</td>\n",
              "      <td>0.270000</td>\n",
              "      <td>0</td>\n",
              "      <td>0</td>\n",
              "    </tr>\n",
              "    <tr>\n",
              "      <th>1</th>\n",
              "      <td>147</td>\n",
              "      <td>0</td>\n",
              "      <td>0</td>\n",
              "      <td>0</td>\n",
              "      <td>1.325641</td>\n",
              "      <td>2.577419</td>\n",
              "      <td>1.569925</td>\n",
              "      <td>2.65</td>\n",
              "      <td>0.170019</td>\n",
              "      <td>0.084981</td>\n",
              "      <td>0.045019</td>\n",
              "      <td>0.269811</td>\n",
              "      <td>0</td>\n",
              "      <td>0</td>\n",
              "    </tr>\n",
              "    <tr>\n",
              "      <th>2</th>\n",
              "      <td>77</td>\n",
              "      <td>0</td>\n",
              "      <td>5</td>\n",
              "      <td>1</td>\n",
              "      <td>0.701124</td>\n",
              "      <td>1.404132</td>\n",
              "      <td>3.275000</td>\n",
              "      <td>0.95</td>\n",
              "      <td>0.170032</td>\n",
              "      <td>0.084991</td>\n",
              "      <td>0.044990</td>\n",
              "      <td>0.270175</td>\n",
              "      <td>0</td>\n",
              "      <td>0</td>\n",
              "    </tr>\n",
              "    <tr>\n",
              "      <th>3</th>\n",
              "      <td>130</td>\n",
              "      <td>0</td>\n",
              "      <td>0</td>\n",
              "      <td>0</td>\n",
              "      <td>1.633929</td>\n",
              "      <td>0.736364</td>\n",
              "      <td>2.330769</td>\n",
              "      <td>0.50</td>\n",
              "      <td>0.170000</td>\n",
              "      <td>0.085048</td>\n",
              "      <td>0.044994</td>\n",
              "      <td>0.270526</td>\n",
              "      <td>0</td>\n",
              "      <td>0</td>\n",
              "    </tr>\n",
              "    <tr>\n",
              "      <th>4</th>\n",
              "      <td>136</td>\n",
              "      <td>33</td>\n",
              "      <td>3</td>\n",
              "      <td>0</td>\n",
              "      <td>1.923585</td>\n",
              "      <td>1.894949</td>\n",
              "      <td>0.950467</td>\n",
              "      <td>1.75</td>\n",
              "      <td>0.169985</td>\n",
              "      <td>0.085021</td>\n",
              "      <td>0.045034</td>\n",
              "      <td>0.270476</td>\n",
              "      <td>1</td>\n",
              "      <td>1</td>\n",
              "    </tr>\n",
              "  </tbody>\n",
              "</table>\n",
              "</div>"
            ],
            "text/plain": [
              "   account_length  ...  voice_mail_plan_yes\n",
              "0              73  ...                    0\n",
              "1             147  ...                    0\n",
              "2              77  ...                    0\n",
              "3             130  ...                    0\n",
              "4             136  ...                    1\n",
              "\n",
              "[5 rows x 14 columns]"
            ]
          },
          "metadata": {},
          "execution_count": 14
        }
      ]
    },
    {
      "cell_type": "code",
      "metadata": {
        "id": "Bg1vN0EaB_4c"
      },
      "source": [
        "# We now create our variables for training \n",
        "X_train = train_df.drop(['churn'],axis=1)\n",
        "y_train = train_df[['churn']]\n",
        "X_test =  test_df.drop(['churn'],axis=1)\n",
        "y_test = test_df[['churn']]"
      ],
      "execution_count": 15,
      "outputs": []
    },
    {
      "cell_type": "code",
      "metadata": {
        "id": "0XUWj99HCH9j"
      },
      "source": [
        "# Before we build a model, we need to scaler the input data as Neural Networks are highly sensitive to scale of the variables\n",
        "# We use the standard scaler which computes the z-values for each variable in the dataset. We will use the sklearn library for the standard\n",
        "# scaler function\n",
        "from sklearn.preprocessing import StandardScaler\n",
        "scaler = StandardScaler()\n",
        "X_train_sc = scaler.fit_transform(X_train)\n",
        "X_test_sc = scaler.transform(X_test)\n"
      ],
      "execution_count": 16,
      "outputs": []
    },
    {
      "cell_type": "code",
      "metadata": {
        "id": "JV8ZM0zGCeF5"
      },
      "source": [
        "# Now comes the most interesting part, which is designing the Neural Network\n",
        "# We use the Sequential Model from the Tensorflow library. If you remember, our model is sequential - Input layer followed by Hidden Layers and then Output Layer\n",
        "from tensorflow.keras.models import Sequential\n",
        "model = Sequential()"
      ],
      "execution_count": 49,
      "outputs": []
    },
    {
      "cell_type": "code",
      "metadata": {
        "id": "Qvc6oyqJCyQi"
      },
      "source": [
        "# Now we add the first Hidden Layer. In Tensorflow, it is not necessary to define the input layer. The library is intelligent enough.\n",
        "# The Hidden layer is also called Dense Layer in Tensorflow as every neuron in the layer is connected to every neuron in the preceeding layer\n",
        "# Our first hidden layer has 512 neurons, uses Activation function as RELU, initializes the weights using the orthogonal method and we \n",
        "# have to provide the number of features of the dataset (basically number of neurons in the Input layer) as Input Dim parameter\n",
        "from tensorflow.keras.layers import Dense, Dropout\n",
        "model.add(Dense(units=512, activation='relu', input_dim=X_train_sc.shape[1],kernel_initializer='orthogonal', bias_initializer='zeros'))\n"
      ],
      "execution_count": 50,
      "outputs": []
    },
    {
      "cell_type": "code",
      "metadata": {
        "id": "RjE6utDdDcsj"
      },
      "source": [
        "# We will add subsequent layers \n",
        "# We just have to define the number of neurons in each layer and the activation function. Tensorflow is intelligent enough \n",
        "# to get the neurons in the prior layer\n",
        "model.add(Dense(units=256, activation='relu'))\n",
        "model.add(Dense(units=256, activation='relu'))\n",
        "model.add(Dense(units=128, activation='relu'))\n",
        "model.add(Dense(units=64, activation='relu'))\n",
        "model.add(Dense(units=32, activation='relu'))\n",
        "model.add(Dense(units=8, activation='relu'))"
      ],
      "execution_count": 51,
      "outputs": []
    },
    {
      "cell_type": "code",
      "metadata": {
        "id": "m8zKRWqVEAW_"
      },
      "source": [
        "# Finally we add the Output layer. Remember that this is a Binary problem (predict 0 or 1). \n",
        "# So the number of neurons is 1 and the activation is Sigmoid.\n",
        "model.add(Dense(units=1, activation='sigmoid'))"
      ],
      "execution_count": 52,
      "outputs": []
    },
    {
      "cell_type": "code",
      "metadata": {
        "colab": {
          "base_uri": "https://localhost:8080/"
        },
        "id": "OC-JcNlOUUfn",
        "outputId": "cae07a67-6531-4de1-cb2c-834092061446"
      },
      "source": [
        "model.summary()"
      ],
      "execution_count": 53,
      "outputs": [
        {
          "output_type": "stream",
          "text": [
            "Model: \"sequential_4\"\n",
            "_________________________________________________________________\n",
            "Layer (type)                 Output Shape              Param #   \n",
            "=================================================================\n",
            "dense_39 (Dense)             (None, 512)               7168      \n",
            "_________________________________________________________________\n",
            "dense_40 (Dense)             (None, 256)               131328    \n",
            "_________________________________________________________________\n",
            "dense_41 (Dense)             (None, 256)               65792     \n",
            "_________________________________________________________________\n",
            "dense_42 (Dense)             (None, 128)               32896     \n",
            "_________________________________________________________________\n",
            "dense_43 (Dense)             (None, 64)                8256      \n",
            "_________________________________________________________________\n",
            "dense_44 (Dense)             (None, 32)                2080      \n",
            "_________________________________________________________________\n",
            "dense_45 (Dense)             (None, 8)                 264       \n",
            "_________________________________________________________________\n",
            "dense_46 (Dense)             (None, 1)                 9         \n",
            "=================================================================\n",
            "Total params: 247,793\n",
            "Trainable params: 247,793\n",
            "Non-trainable params: 0\n",
            "_________________________________________________________________\n"
          ],
          "name": "stdout"
        }
      ]
    },
    {
      "cell_type": "code",
      "metadata": {
        "id": "GhsrZdM2EJ0n"
      },
      "source": [
        "# We now define the optimization function, loss function and the metrics to monitor performance of the neural network.\n",
        "# I am using rmsprop as it gives the best accuracy. We define the learning rate which is default 0.01, loss function as binary cross entropy\n",
        "# remember the cost function from the lesson and we will use accuracy to monitor performance\n",
        "from tensorflow.keras.optimizers import RMSprop\n",
        "model.compile(optimizer=RMSprop(learning_rate=0.01), loss='binary_crossentropy', metrics='accuracy')"
      ],
      "execution_count": 54,
      "outputs": []
    },
    {
      "cell_type": "code",
      "metadata": {
        "colab": {
          "base_uri": "https://localhost:8080/"
        },
        "id": "uuYUK9p_Eg2c",
        "outputId": "d89bc188-89d2-452f-ce58-9225862853ef"
      },
      "source": [
        "# Now as with any other model, we fit it to the dataset.\n",
        "# We define the X, y variables, we define the batch_size, number of epochs and what the model should validate against, which is the test set\n",
        "model.fit(X_train_sc, y_train, batch_size=32, epochs=100, validation_data = (X_test_sc, y_test))"
      ],
      "execution_count": 55,
      "outputs": [
        {
          "output_type": "stream",
          "text": [
            "Epoch 1/100\n",
            "125/125 [==============================] - 1s 4ms/step - loss: 0.5264 - accuracy: 0.8708 - val_loss: 0.3697 - val_accuracy: 0.8670\n",
            "Epoch 2/100\n",
            "125/125 [==============================] - 0s 3ms/step - loss: 0.3535 - accuracy: 0.8770 - val_loss: 0.3686 - val_accuracy: 0.8740\n",
            "Epoch 3/100\n",
            "125/125 [==============================] - 0s 3ms/step - loss: 0.3096 - accuracy: 0.8838 - val_loss: 0.3514 - val_accuracy: 0.8670\n",
            "Epoch 4/100\n",
            "125/125 [==============================] - 0s 3ms/step - loss: 0.3073 - accuracy: 0.8938 - val_loss: 0.3567 - val_accuracy: 0.8780\n",
            "Epoch 5/100\n",
            "125/125 [==============================] - 0s 3ms/step - loss: 0.2949 - accuracy: 0.8972 - val_loss: 0.3063 - val_accuracy: 0.8950\n",
            "Epoch 6/100\n",
            "125/125 [==============================] - 0s 3ms/step - loss: 0.2820 - accuracy: 0.9010 - val_loss: 0.3717 - val_accuracy: 0.8960\n",
            "Epoch 7/100\n",
            "125/125 [==============================] - 0s 3ms/step - loss: 0.3057 - accuracy: 0.8982 - val_loss: 0.3199 - val_accuracy: 0.8920\n",
            "Epoch 8/100\n",
            "125/125 [==============================] - 0s 3ms/step - loss: 0.2812 - accuracy: 0.9003 - val_loss: 0.3364 - val_accuracy: 0.8880\n",
            "Epoch 9/100\n",
            "125/125 [==============================] - 0s 3ms/step - loss: 0.2716 - accuracy: 0.9060 - val_loss: 0.6366 - val_accuracy: 0.8790\n",
            "Epoch 10/100\n",
            "125/125 [==============================] - 0s 3ms/step - loss: 0.2719 - accuracy: 0.9025 - val_loss: 0.8883 - val_accuracy: 0.8920\n",
            "Epoch 11/100\n",
            "125/125 [==============================] - 0s 3ms/step - loss: 0.2729 - accuracy: 0.9055 - val_loss: 0.3222 - val_accuracy: 0.8930\n",
            "Epoch 12/100\n",
            "125/125 [==============================] - 0s 3ms/step - loss: 0.2646 - accuracy: 0.9112 - val_loss: 0.3647 - val_accuracy: 0.8870\n",
            "Epoch 13/100\n",
            "125/125 [==============================] - 0s 3ms/step - loss: 0.2665 - accuracy: 0.9093 - val_loss: 0.3446 - val_accuracy: 0.8910\n",
            "Epoch 14/100\n",
            "125/125 [==============================] - 0s 3ms/step - loss: 0.2579 - accuracy: 0.9110 - val_loss: 0.7286 - val_accuracy: 0.8850\n",
            "Epoch 15/100\n",
            "125/125 [==============================] - 0s 3ms/step - loss: 0.3442 - accuracy: 0.8895 - val_loss: 0.5525 - val_accuracy: 0.8940\n",
            "Epoch 16/100\n",
            "125/125 [==============================] - 0s 3ms/step - loss: 0.2558 - accuracy: 0.9093 - val_loss: 0.8580 - val_accuracy: 0.8870\n",
            "Epoch 17/100\n",
            "125/125 [==============================] - 0s 3ms/step - loss: 0.3187 - accuracy: 0.9133 - val_loss: 0.5981 - val_accuracy: 0.8900\n",
            "Epoch 18/100\n",
            "125/125 [==============================] - 0s 3ms/step - loss: 0.2986 - accuracy: 0.8813 - val_loss: 0.6556 - val_accuracy: 0.8670\n",
            "Epoch 19/100\n",
            "125/125 [==============================] - 0s 3ms/step - loss: 0.3117 - accuracy: 0.8733 - val_loss: 0.4255 - val_accuracy: 0.8670\n",
            "Epoch 20/100\n",
            "125/125 [==============================] - 0s 3ms/step - loss: 0.2974 - accuracy: 0.8733 - val_loss: 0.5680 - val_accuracy: 0.8670\n",
            "Epoch 21/100\n",
            "125/125 [==============================] - 0s 3ms/step - loss: 0.2970 - accuracy: 0.8820 - val_loss: 0.5937 - val_accuracy: 0.8900\n",
            "Epoch 22/100\n",
            "125/125 [==============================] - 0s 3ms/step - loss: 0.3273 - accuracy: 0.8990 - val_loss: 0.4709 - val_accuracy: 0.8990\n",
            "Epoch 23/100\n",
            "125/125 [==============================] - 0s 3ms/step - loss: 0.2647 - accuracy: 0.9100 - val_loss: 0.4301 - val_accuracy: 0.8910\n",
            "Epoch 24/100\n",
            "125/125 [==============================] - 0s 3ms/step - loss: 0.2671 - accuracy: 0.9087 - val_loss: 0.4074 - val_accuracy: 0.8910\n",
            "Epoch 25/100\n",
            "125/125 [==============================] - 0s 3ms/step - loss: 0.3178 - accuracy: 0.9047 - val_loss: 0.7455 - val_accuracy: 0.8920\n",
            "Epoch 26/100\n",
            "125/125 [==============================] - 0s 3ms/step - loss: 0.2588 - accuracy: 0.9097 - val_loss: 0.4654 - val_accuracy: 0.9000\n",
            "Epoch 27/100\n",
            "125/125 [==============================] - 0s 3ms/step - loss: 0.2483 - accuracy: 0.9120 - val_loss: 0.5904 - val_accuracy: 0.8920\n",
            "Epoch 28/100\n",
            "125/125 [==============================] - 0s 3ms/step - loss: 0.2560 - accuracy: 0.9105 - val_loss: 0.3434 - val_accuracy: 0.8970\n",
            "Epoch 29/100\n",
            "125/125 [==============================] - 0s 3ms/step - loss: 0.2535 - accuracy: 0.9112 - val_loss: 0.8159 - val_accuracy: 0.9010\n",
            "Epoch 30/100\n",
            "125/125 [==============================] - 0s 3ms/step - loss: 0.2838 - accuracy: 0.9013 - val_loss: 0.4452 - val_accuracy: 0.8940\n",
            "Epoch 31/100\n",
            "125/125 [==============================] - 0s 3ms/step - loss: 0.2662 - accuracy: 0.9078 - val_loss: 1.2117 - val_accuracy: 0.9010\n",
            "Epoch 32/100\n",
            "125/125 [==============================] - 0s 3ms/step - loss: 0.3349 - accuracy: 0.9105 - val_loss: 0.3626 - val_accuracy: 0.8990\n",
            "Epoch 33/100\n",
            "125/125 [==============================] - 0s 3ms/step - loss: 0.2484 - accuracy: 0.9107 - val_loss: 0.6118 - val_accuracy: 0.9000\n",
            "Epoch 34/100\n",
            "125/125 [==============================] - 0s 3ms/step - loss: 0.2645 - accuracy: 0.9105 - val_loss: 1.1490 - val_accuracy: 0.8920\n",
            "Epoch 35/100\n",
            "125/125 [==============================] - 0s 3ms/step - loss: 0.4870 - accuracy: 0.9032 - val_loss: 0.4737 - val_accuracy: 0.8820\n",
            "Epoch 36/100\n",
            "125/125 [==============================] - 0s 3ms/step - loss: 0.2736 - accuracy: 0.9093 - val_loss: 0.7765 - val_accuracy: 0.8930\n",
            "Epoch 37/100\n",
            "125/125 [==============================] - 0s 3ms/step - loss: 0.2626 - accuracy: 0.9090 - val_loss: 0.4508 - val_accuracy: 0.9050\n",
            "Epoch 38/100\n",
            "125/125 [==============================] - 0s 3ms/step - loss: 0.2555 - accuracy: 0.9110 - val_loss: 0.4810 - val_accuracy: 0.8980\n",
            "Epoch 39/100\n",
            "125/125 [==============================] - 0s 3ms/step - loss: 0.2479 - accuracy: 0.9143 - val_loss: 1.1841 - val_accuracy: 0.8940\n",
            "Epoch 40/100\n",
            "125/125 [==============================] - 0s 3ms/step - loss: 0.2524 - accuracy: 0.9172 - val_loss: 0.7198 - val_accuracy: 0.8900\n",
            "Epoch 41/100\n",
            "125/125 [==============================] - 0s 3ms/step - loss: 0.2475 - accuracy: 0.9128 - val_loss: 0.3913 - val_accuracy: 0.8790\n",
            "Epoch 42/100\n",
            "125/125 [==============================] - 0s 3ms/step - loss: 0.2907 - accuracy: 0.9075 - val_loss: 0.4677 - val_accuracy: 0.8940\n",
            "Epoch 43/100\n",
            "125/125 [==============================] - 0s 3ms/step - loss: 0.3009 - accuracy: 0.9082 - val_loss: 0.3354 - val_accuracy: 0.8980\n",
            "Epoch 44/100\n",
            "125/125 [==============================] - 0s 3ms/step - loss: 0.2609 - accuracy: 0.9130 - val_loss: 0.5173 - val_accuracy: 0.8950\n",
            "Epoch 45/100\n",
            "125/125 [==============================] - 0s 3ms/step - loss: 0.3244 - accuracy: 0.9100 - val_loss: 0.3123 - val_accuracy: 0.8970\n",
            "Epoch 46/100\n",
            "125/125 [==============================] - 0s 3ms/step - loss: 0.2871 - accuracy: 0.9170 - val_loss: 3.2191 - val_accuracy: 0.8930\n",
            "Epoch 47/100\n",
            "125/125 [==============================] - 0s 3ms/step - loss: 0.3331 - accuracy: 0.9165 - val_loss: 0.3136 - val_accuracy: 0.8960\n",
            "Epoch 48/100\n",
            "125/125 [==============================] - 0s 3ms/step - loss: 0.2753 - accuracy: 0.9140 - val_loss: 0.3612 - val_accuracy: 0.8910\n",
            "Epoch 49/100\n",
            "125/125 [==============================] - 0s 3ms/step - loss: 0.2828 - accuracy: 0.9097 - val_loss: 0.3251 - val_accuracy: 0.8940\n",
            "Epoch 50/100\n",
            "125/125 [==============================] - 0s 3ms/step - loss: 0.2818 - accuracy: 0.9135 - val_loss: 0.3452 - val_accuracy: 0.8970\n",
            "Epoch 51/100\n",
            "125/125 [==============================] - 0s 3ms/step - loss: 0.3413 - accuracy: 0.8975 - val_loss: 2.0116 - val_accuracy: 0.8670\n",
            "Epoch 52/100\n",
            "125/125 [==============================] - 0s 3ms/step - loss: 0.3689 - accuracy: 0.8888 - val_loss: 0.3551 - val_accuracy: 0.8900\n",
            "Epoch 53/100\n",
            "125/125 [==============================] - 0s 3ms/step - loss: 0.2720 - accuracy: 0.9168 - val_loss: 0.3339 - val_accuracy: 0.8940\n",
            "Epoch 54/100\n",
            "125/125 [==============================] - 0s 3ms/step - loss: 0.2768 - accuracy: 0.9175 - val_loss: 0.3403 - val_accuracy: 0.8720\n",
            "Epoch 55/100\n",
            "125/125 [==============================] - 0s 3ms/step - loss: 0.3273 - accuracy: 0.9038 - val_loss: 0.3033 - val_accuracy: 0.8950\n",
            "Epoch 56/100\n",
            "125/125 [==============================] - 0s 3ms/step - loss: 0.2763 - accuracy: 0.9133 - val_loss: 0.4545 - val_accuracy: 0.8900\n",
            "Epoch 57/100\n",
            "125/125 [==============================] - 0s 3ms/step - loss: 0.2901 - accuracy: 0.9095 - val_loss: 0.3252 - val_accuracy: 0.9010\n",
            "Epoch 58/100\n",
            "125/125 [==============================] - 0s 3ms/step - loss: 0.3832 - accuracy: 0.8798 - val_loss: 0.3470 - val_accuracy: 0.8670\n",
            "Epoch 59/100\n",
            "125/125 [==============================] - 0s 3ms/step - loss: 0.3054 - accuracy: 0.8923 - val_loss: 0.3449 - val_accuracy: 0.8590\n",
            "Epoch 60/100\n",
            "125/125 [==============================] - 0s 3ms/step - loss: 0.3151 - accuracy: 0.9050 - val_loss: 0.3364 - val_accuracy: 0.8820\n",
            "Epoch 61/100\n",
            "125/125 [==============================] - 0s 3ms/step - loss: 0.3013 - accuracy: 0.9112 - val_loss: 0.3452 - val_accuracy: 0.8840\n",
            "Epoch 62/100\n",
            "125/125 [==============================] - 0s 3ms/step - loss: 0.3061 - accuracy: 0.9078 - val_loss: 0.3396 - val_accuracy: 0.8930\n",
            "Epoch 63/100\n",
            "125/125 [==============================] - 0s 3ms/step - loss: 0.3382 - accuracy: 0.8900 - val_loss: 2.2912 - val_accuracy: 0.8790\n",
            "Epoch 64/100\n",
            "125/125 [==============================] - 0s 3ms/step - loss: 0.3878 - accuracy: 0.9095 - val_loss: 1.0401 - val_accuracy: 0.8910\n",
            "Epoch 65/100\n",
            "125/125 [==============================] - 0s 3ms/step - loss: 0.3538 - accuracy: 0.9112 - val_loss: 0.3516 - val_accuracy: 0.8860\n",
            "Epoch 66/100\n",
            "125/125 [==============================] - 0s 3ms/step - loss: 0.2752 - accuracy: 0.9155 - val_loss: 1.2161 - val_accuracy: 0.8860\n",
            "Epoch 67/100\n",
            "125/125 [==============================] - 0s 3ms/step - loss: 0.2776 - accuracy: 0.9187 - val_loss: 1.0052 - val_accuracy: 0.8960\n",
            "Epoch 68/100\n",
            "125/125 [==============================] - 0s 3ms/step - loss: 0.2471 - accuracy: 0.9180 - val_loss: 2.0874 - val_accuracy: 0.8870\n",
            "Epoch 69/100\n",
            "125/125 [==============================] - 0s 3ms/step - loss: 0.2520 - accuracy: 0.9185 - val_loss: 1.6370 - val_accuracy: 0.8990\n",
            "Epoch 70/100\n",
            "125/125 [==============================] - 0s 3ms/step - loss: 0.2479 - accuracy: 0.9183 - val_loss: 2.8106 - val_accuracy: 0.8960\n",
            "Epoch 71/100\n",
            "125/125 [==============================] - 0s 3ms/step - loss: 0.2462 - accuracy: 0.9170 - val_loss: 3.7543 - val_accuracy: 0.8940\n",
            "Epoch 72/100\n",
            "125/125 [==============================] - 0s 3ms/step - loss: 0.2413 - accuracy: 0.9143 - val_loss: 4.3737 - val_accuracy: 0.8930\n",
            "Epoch 73/100\n",
            "125/125 [==============================] - 0s 3ms/step - loss: 0.4698 - accuracy: 0.9118 - val_loss: 1.0272 - val_accuracy: 0.8870\n",
            "Epoch 74/100\n",
            "125/125 [==============================] - 0s 3ms/step - loss: 0.2409 - accuracy: 0.9082 - val_loss: 1.3731 - val_accuracy: 0.8890\n",
            "Epoch 75/100\n",
            "125/125 [==============================] - 0s 3ms/step - loss: 0.3285 - accuracy: 0.9090 - val_loss: 2.6125 - val_accuracy: 0.8750\n",
            "Epoch 76/100\n",
            "125/125 [==============================] - 0s 3ms/step - loss: 0.2336 - accuracy: 0.9210 - val_loss: 3.4227 - val_accuracy: 0.8860\n",
            "Epoch 77/100\n",
            "125/125 [==============================] - 0s 3ms/step - loss: 0.2354 - accuracy: 0.9122 - val_loss: 1.9839 - val_accuracy: 0.8720\n",
            "Epoch 78/100\n",
            "125/125 [==============================] - 0s 3ms/step - loss: 0.2399 - accuracy: 0.9205 - val_loss: 2.8001 - val_accuracy: 0.8830\n",
            "Epoch 79/100\n",
            "125/125 [==============================] - 0s 3ms/step - loss: 0.2227 - accuracy: 0.9183 - val_loss: 8.4676 - val_accuracy: 0.8820\n",
            "Epoch 80/100\n",
            "125/125 [==============================] - 0s 3ms/step - loss: 0.2434 - accuracy: 0.9125 - val_loss: 4.2589 - val_accuracy: 0.8850\n",
            "Epoch 81/100\n",
            "125/125 [==============================] - 0s 3ms/step - loss: 0.2312 - accuracy: 0.9195 - val_loss: 10.2424 - val_accuracy: 0.8930\n",
            "Epoch 82/100\n",
            "125/125 [==============================] - 0s 3ms/step - loss: 0.3912 - accuracy: 0.8972 - val_loss: 16.0146 - val_accuracy: 0.8790\n",
            "Epoch 83/100\n",
            "125/125 [==============================] - 0s 3ms/step - loss: 0.8744 - accuracy: 0.9100 - val_loss: 27.9853 - val_accuracy: 0.8860\n",
            "Epoch 84/100\n",
            "125/125 [==============================] - 0s 3ms/step - loss: 0.2543 - accuracy: 0.9147 - val_loss: 5.4918 - val_accuracy: 0.8330\n",
            "Epoch 85/100\n",
            "125/125 [==============================] - 0s 3ms/step - loss: 0.2384 - accuracy: 0.9137 - val_loss: 6.6033 - val_accuracy: 0.8810\n",
            "Epoch 86/100\n",
            "125/125 [==============================] - 0s 3ms/step - loss: 0.2447 - accuracy: 0.9103 - val_loss: 15.8426 - val_accuracy: 0.8720\n",
            "Epoch 87/100\n",
            "125/125 [==============================] - 0s 3ms/step - loss: 0.2290 - accuracy: 0.9100 - val_loss: 32.8486 - val_accuracy: 0.8910\n",
            "Epoch 88/100\n",
            "125/125 [==============================] - 0s 3ms/step - loss: 0.2405 - accuracy: 0.9057 - val_loss: 41.2991 - val_accuracy: 0.8880\n",
            "Epoch 89/100\n",
            "125/125 [==============================] - 0s 3ms/step - loss: 0.2417 - accuracy: 0.9130 - val_loss: 44.7021 - val_accuracy: 0.8870\n",
            "Epoch 90/100\n",
            "125/125 [==============================] - 0s 3ms/step - loss: 0.3679 - accuracy: 0.9070 - val_loss: 20.0971 - val_accuracy: 0.8630\n",
            "Epoch 91/100\n",
            "125/125 [==============================] - 0s 3ms/step - loss: 0.3110 - accuracy: 0.9122 - val_loss: 0.3387 - val_accuracy: 0.8740\n",
            "Epoch 92/100\n",
            "125/125 [==============================] - 0s 3ms/step - loss: 0.2848 - accuracy: 0.9103 - val_loss: 0.3448 - val_accuracy: 0.8870\n",
            "Epoch 93/100\n",
            "125/125 [==============================] - 0s 3ms/step - loss: 0.3167 - accuracy: 0.9070 - val_loss: 0.3414 - val_accuracy: 0.8840\n",
            "Epoch 94/100\n",
            "125/125 [==============================] - 0s 3ms/step - loss: 0.2982 - accuracy: 0.9095 - val_loss: 0.3555 - val_accuracy: 0.8840\n",
            "Epoch 95/100\n",
            "125/125 [==============================] - 0s 3ms/step - loss: 0.2994 - accuracy: 0.9095 - val_loss: 0.3424 - val_accuracy: 0.8840\n",
            "Epoch 96/100\n",
            "125/125 [==============================] - 0s 3ms/step - loss: 0.2996 - accuracy: 0.9095 - val_loss: 0.3427 - val_accuracy: 0.8840\n",
            "Epoch 97/100\n",
            "125/125 [==============================] - 0s 3ms/step - loss: 0.2993 - accuracy: 0.9095 - val_loss: 0.3438 - val_accuracy: 0.8840\n",
            "Epoch 98/100\n",
            "125/125 [==============================] - 0s 3ms/step - loss: 0.2997 - accuracy: 0.9095 - val_loss: 0.3440 - val_accuracy: 0.8840\n",
            "Epoch 99/100\n",
            "125/125 [==============================] - 0s 3ms/step - loss: 0.2993 - accuracy: 0.9095 - val_loss: 0.3440 - val_accuracy: 0.8840\n",
            "Epoch 100/100\n",
            "125/125 [==============================] - 0s 3ms/step - loss: 0.2989 - accuracy: 0.9095 - val_loss: 0.3442 - val_accuracy: 0.8840\n"
          ],
          "name": "stdout"
        },
        {
          "output_type": "execute_result",
          "data": {
            "text/plain": [
              "<keras.callbacks.History at 0x7f14aecbd450>"
            ]
          },
          "metadata": {},
          "execution_count": 55
        }
      ]
    },
    {
      "cell_type": "code",
      "metadata": {
        "id": "t3UFMtH_E-dK"
      },
      "source": [
        "# So our model is ready and has trained on the data set available. We now have to do the predictions\n",
        "train_pred = model.predict(X_train_sc)\n",
        "test_pred = model.predict(X_test_sc)"
      ],
      "execution_count": 56,
      "outputs": []
    },
    {
      "cell_type": "code",
      "metadata": {
        "id": "WbvxFdEkFY_m"
      },
      "source": [
        "# We will use the Scikit Learn's Accuracy and Confusion Matrix functions to evaluate the model.\n",
        "from sklearn.metrics import confusion_matrix, accuracy_score"
      ],
      "execution_count": 57,
      "outputs": []
    },
    {
      "cell_type": "code",
      "metadata": {
        "colab": {
          "base_uri": "https://localhost:8080/"
        },
        "id": "19PfAppeFmeb",
        "outputId": "1338347f-6c75-4f5f-c613-df19894b7053"
      },
      "source": [
        "# Remember that the predictions are probabilities, so when we measure accuracy, we have to convert to binary value using threshold as 0.5\n",
        "train_acc = accuracy_score(y_pred = train_pred>0.5, y_true=y_train)*100\n",
        "print(f'Training Set Accuracy : {train_acc} %')"
      ],
      "execution_count": 58,
      "outputs": [
        {
          "output_type": "stream",
          "text": [
            "Training Set Accuracy : 90.95 %\n"
          ],
          "name": "stdout"
        }
      ]
    },
    {
      "cell_type": "code",
      "metadata": {
        "colab": {
          "base_uri": "https://localhost:8080/"
        },
        "id": "A7y2Nmx-F5ru",
        "outputId": "dcf8fa71-8e88-4df3-b7f0-cc916afa2f07"
      },
      "source": [
        "print(confusion_matrix(y_pred = train_pred>0.5, y_true=y_train))"
      ],
      "execution_count": 59,
      "outputs": [
        {
          "output_type": "stream",
          "text": [
            "[[3428   65]\n",
            " [ 297  210]]\n"
          ],
          "name": "stdout"
        }
      ]
    },
    {
      "cell_type": "code",
      "metadata": {
        "colab": {
          "base_uri": "https://localhost:8080/"
        },
        "id": "GXt4B6rmGFO9",
        "outputId": "f5df5461-a63f-4737-e902-cc76bb980d19"
      },
      "source": [
        "# We do the same for test set\n",
        "test_acc = accuracy_score(y_pred = test_pred>0.5, y_true=y_test)*100\n",
        "print(f'Test Set Accuracy : {test_acc} %')"
      ],
      "execution_count": 60,
      "outputs": [
        {
          "output_type": "stream",
          "text": [
            "Test Set Accuracy : 88.4 %\n"
          ],
          "name": "stdout"
        }
      ]
    },
    {
      "cell_type": "code",
      "metadata": {
        "colab": {
          "base_uri": "https://localhost:8080/"
        },
        "id": "jZHNMGv8GMrR",
        "outputId": "5e405e40-6a53-4d8d-f12e-ca1c446f5fd8"
      },
      "source": [
        "print(confusion_matrix(y_pred = test_pred>0.5, y_true=y_test))"
      ],
      "execution_count": 61,
      "outputs": [
        {
          "output_type": "stream",
          "text": [
            "[[840  27]\n",
            " [ 89  44]]\n"
          ],
          "name": "stdout"
        }
      ]
    },
    {
      "cell_type": "markdown",
      "metadata": {
        "id": "numgNmf9G8jd"
      },
      "source": [
        "<h1> Conclusion </h1>\n",
        "<p class='lead' align='justified'>We have seen that our basic Neural Network with a few layers and training across multiple epochs is able to achieve an accuracy of 91% on training set and 88% on the test set, which is not bad given that we have not tuned any hyperparameters. Keras provides <b> Keras Tuner </b> which can be used to tune the hyperparameters, but that is a topic for discussion for another tutorial. </p>\n",
        "<p class='lead' justify> It is possible that regular algorithms such as Logistic Regression, Decision Trees might give a better accuracy with this given dataset but if the data set is huge (millions of customers with millions of records), then a Neural Network is likely to give a better outcome</p>\n",
        "\n",
        "<p class='lead'> With this we come to the end of the demonstration. This demo was aimed to reinforce the concepts taught in the class through the video. </p>"
      ]
    },
    {
      "cell_type": "code",
      "metadata": {
        "id": "p37P5PVBZfjc"
      },
      "source": [
        ""
      ],
      "execution_count": null,
      "outputs": []
    }
  ]
}