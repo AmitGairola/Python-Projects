{
 "cells": [
  {
   "cell_type": "markdown",
   "id": "60b8bb76-970d-4c26-8ac3-5b6053b6f97e",
   "metadata": {},
   "source": [
    "# Word Tokenization"
   ]
  },
  {
   "cell_type": "code",
   "execution_count": 1,
   "id": "7dbbcf81-f54c-4265-8979-5d5add53214c",
   "metadata": {},
   "outputs": [],
   "source": [
    "import tensorflow as tf\n",
    "from tensorflow import keras\n",
    "\n",
    "from tensorflow.keras.preprocessing.text import Tokenizer"
   ]
  },
  {
   "cell_type": "code",
   "execution_count": 2,
   "id": "592aa44a-0105-4884-8ba0-3fd498e4790a",
   "metadata": {},
   "outputs": [],
   "source": [
    "sentences = ['I love my cat','I love my dog','I love my dog!', 'I have too many dogs','I','anticipate']"
   ]
  },
  {
   "cell_type": "markdown",
   "id": "5869e11a-bf80-4646-8074-e405f136b660",
   "metadata": {},
   "source": [
    "We saw \"Teddy Roosevelt was a great President\"\n",
    "\n",
    "We saw \"Teddy bears were at a discount\""
   ]
  },
  {
   "cell_type": "code",
   "execution_count": 3,
   "id": "3f4af04e-219f-4dc8-b8b6-3912c30f4f6b",
   "metadata": {},
   "outputs": [],
   "source": [
    "tokenizer = Tokenizer(num_words = 10, oov_token='<UKW>')"
   ]
  },
  {
   "cell_type": "code",
   "execution_count": 4,
   "id": "eb52667f-1e62-4350-81e1-c78f74e97e14",
   "metadata": {},
   "outputs": [],
   "source": [
    "tokenizer.fit_on_texts(sentences)"
   ]
  },
  {
   "cell_type": "code",
   "execution_count": 5,
   "id": "7d6c83a3-e82a-4185-b8bd-328c8292e6f1",
   "metadata": {},
   "outputs": [
    {
     "name": "stdout",
     "output_type": "stream",
     "text": [
      "{'<UKW>': 1, 'i': 2, 'love': 3, 'my': 4, 'dog': 5, 'cat': 6, 'have': 7, 'too': 8, 'many': 9, 'dogs': 10, 'anticipate': 11}\n"
     ]
    }
   ],
   "source": [
    "print(tokenizer.word_index)"
   ]
  },
  {
   "cell_type": "code",
   "execution_count": 6,
   "id": "a60b0778-e819-430d-bccc-b5a9dcc5a71d",
   "metadata": {},
   "outputs": [],
   "source": [
    "sequences = tokenizer.texts_to_sequences(sentences)"
   ]
  },
  {
   "cell_type": "code",
   "execution_count": 7,
   "id": "8b568415-c1e1-4da3-8103-ba7399c954ba",
   "metadata": {},
   "outputs": [
    {
     "data": {
      "text/plain": [
       "[[2, 3, 4, 6], [2, 3, 4, 5], [2, 3, 4, 5], [2, 7, 8, 9, 1], [2], [1]]"
      ]
     },
     "execution_count": 7,
     "metadata": {},
     "output_type": "execute_result"
    }
   ],
   "source": [
    "sequences"
   ]
  },
  {
   "cell_type": "code",
   "execution_count": 8,
   "id": "6684cefe-6cb6-4e0f-927d-c0b8001e0d37",
   "metadata": {},
   "outputs": [],
   "source": [
    "from tensorflow.keras.preprocessing.sequence import pad_sequences"
   ]
  },
  {
   "cell_type": "code",
   "execution_count": 9,
   "id": "019a4804-b0ec-4bb6-ab83-2db814b7e570",
   "metadata": {},
   "outputs": [],
   "source": [
    "sequences = pad_sequences(sequences, padding='post', truncating='post')"
   ]
  },
  {
   "cell_type": "code",
   "execution_count": 10,
   "id": "019c89e4-8993-4ed8-8825-b61348aaab18",
   "metadata": {},
   "outputs": [
    {
     "data": {
      "text/plain": [
       "array([[2, 3, 4, 6, 0],\n",
       "       [2, 3, 4, 5, 0],\n",
       "       [2, 3, 4, 5, 0],\n",
       "       [2, 7, 8, 9, 1],\n",
       "       [2, 0, 0, 0, 0],\n",
       "       [1, 0, 0, 0, 0]], dtype=int32)"
      ]
     },
     "execution_count": 10,
     "metadata": {},
     "output_type": "execute_result"
    }
   ],
   "source": [
    "sequences"
   ]
  },
  {
   "cell_type": "markdown",
   "id": "0c874c17-9e6b-4ee0-85da-6f3f70873f47",
   "metadata": {},
   "source": [
    "# Sentiment Analyzer"
   ]
  },
  {
   "cell_type": "code",
   "execution_count": null,
   "id": "129373f4-28d8-4a4c-bdd0-23ebaca23ee4",
   "metadata": {},
   "outputs": [],
   "source": [
    "import pandas as pd\n",
    "import numpy as np"
   ]
  },
  {
   "cell_type": "code",
   "execution_count": null,
   "id": "7c3bebda-d8d1-4e50-9035-c7660d707641",
   "metadata": {},
   "outputs": [],
   "source": [
    "import tensorflow as tf\n",
    "tf.compat.v1.logging.set_verbosity(tf.compat.v1.logging.ERROR)"
   ]
  },
  {
   "cell_type": "code",
   "execution_count": null,
   "id": "9e02b233-d1ca-4328-b403-ee98106f89c9",
   "metadata": {},
   "outputs": [],
   "source": [
    "data = pd.read_csv('IMDB Dataset.csv')"
   ]
  },
  {
   "cell_type": "code",
   "execution_count": null,
   "id": "fe7a2e02-be8b-4ea9-a2fa-f4a83d264c5b",
   "metadata": {},
   "outputs": [],
   "source": [
    "data.head()"
   ]
  },
  {
   "cell_type": "code",
   "execution_count": null,
   "id": "cdf256f8-48df-4979-87d8-dbe3d7d4acb8",
   "metadata": {},
   "outputs": [],
   "source": [
    "data['sentiment'].unique()"
   ]
  },
  {
   "cell_type": "code",
   "execution_count": null,
   "id": "af472979-73fa-4715-939d-d244548f3d18",
   "metadata": {},
   "outputs": [],
   "source": [
    "from nltk.corpus import stopwords"
   ]
  },
  {
   "cell_type": "code",
   "execution_count": null,
   "id": "abdfe698-fffb-4964-962a-4e7059dc7adb",
   "metadata": {},
   "outputs": [],
   "source": [
    "english_stops = set(stopwords.words('english'))"
   ]
  },
  {
   "cell_type": "code",
   "execution_count": null,
   "id": "f84a29d1-bdf1-4b5a-bebe-3f3a52d85946",
   "metadata": {},
   "outputs": [],
   "source": [
    "#print(english_stops)"
   ]
  },
  {
   "cell_type": "code",
   "execution_count": null,
   "id": "510259e2-d843-4e48-a255-6def6f4459ba",
   "metadata": {},
   "outputs": [],
   "source": [
    "X_data = data['review']\n",
    "y_data = data['sentiment']"
   ]
  },
  {
   "cell_type": "code",
   "execution_count": null,
   "id": "f679f08f-0207-46a7-a095-74d586c4974d",
   "metadata": {},
   "outputs": [],
   "source": [
    "X_data = X_data.replace({'<.*?>': ''}, regex = True) # remove html tag"
   ]
  },
  {
   "cell_type": "code",
   "execution_count": null,
   "id": "d70b8d6e-aecb-4803-919a-a6f214183f5d",
   "metadata": {},
   "outputs": [],
   "source": [
    "X_data = X_data.replace({'[^A-Za-z]': ' '}, regex = True) # remove non alphabetical characters"
   ]
  },
  {
   "cell_type": "code",
   "execution_count": null,
   "id": "7139c1b8-e550-4d5a-9aed-a0b96590d015",
   "metadata": {},
   "outputs": [],
   "source": [
    "X_data = X_data.apply(lambda review: [w for w in review.split() if w not in english_stops]) # Stopwords"
   ]
  },
  {
   "cell_type": "code",
   "execution_count": null,
   "id": "0c762766-30cf-4c93-aee7-3be32fe68fe4",
   "metadata": {},
   "outputs": [],
   "source": [
    "X_data = X_data.apply(lambda review: [w.lower() for w in review]) # Convert to lowercase"
   ]
  },
  {
   "cell_type": "code",
   "execution_count": null,
   "id": "20176e8a-b076-4168-adc9-733e3640a19c",
   "metadata": {},
   "outputs": [],
   "source": [
    "y_data = y_data.replace('positive', 1)\n",
    "y_data = y_data.replace('negative', 0)"
   ]
  },
  {
   "cell_type": "code",
   "execution_count": null,
   "id": "136fc9b6-edc7-48a2-97c7-bf87a858a10b",
   "metadata": {},
   "outputs": [],
   "source": [
    "#X_data[0:5]"
   ]
  },
  {
   "cell_type": "code",
   "execution_count": null,
   "id": "16568ad8-28e5-41c3-82e5-584acf3c3874",
   "metadata": {},
   "outputs": [],
   "source": [
    "from sklearn.model_selection import train_test_split"
   ]
  },
  {
   "cell_type": "code",
   "execution_count": null,
   "id": "fb93c1a9-bb68-4d7c-a0b8-0aec63d9c5de",
   "metadata": {},
   "outputs": [],
   "source": [
    "X_train, X_test, y_train, y_test = train_test_split(X_data, \n",
    "                                                    y_data, \n",
    "                                                    test_size = 0.2, \n",
    "                                                    random_state=12345)"
   ]
  },
  {
   "cell_type": "code",
   "execution_count": null,
   "id": "83b60173-2b20-4e2b-acb4-23ff6f63ba8a",
   "metadata": {},
   "outputs": [],
   "source": [
    "print(X_train.shape)\n",
    "print(X_test.shape)"
   ]
  },
  {
   "cell_type": "code",
   "execution_count": null,
   "id": "33bfd10f-a62f-4f81-8e43-21fc419735b4",
   "metadata": {},
   "outputs": [],
   "source": [
    "def get_max_length():\n",
    "    review_length = []\n",
    "    for review in X_train:\n",
    "        review_length.append(len(review))\n",
    "\n",
    "    return int(np.ceil(np.mean(review_length)))"
   ]
  },
  {
   "cell_type": "code",
   "execution_count": null,
   "id": "674b5304-da20-4540-a532-7f44975c1b10",
   "metadata": {},
   "outputs": [],
   "source": [
    "# to encode text to int\n",
    "from tensorflow.keras.preprocessing.text import Tokenizer\n",
    "from tensorflow.keras.preprocessing.sequence import pad_sequences"
   ]
  },
  {
   "cell_type": "code",
   "execution_count": null,
   "id": "f7aa3482-bbd2-4b11-8895-a923ea8479a0",
   "metadata": {},
   "outputs": [],
   "source": [
    "token = Tokenizer(lower=False)"
   ]
  },
  {
   "cell_type": "code",
   "execution_count": null,
   "id": "59058441-29dd-4b68-b3f0-25afe0357d76",
   "metadata": {},
   "outputs": [],
   "source": [
    "token.fit_on_texts(X_train)"
   ]
  },
  {
   "cell_type": "code",
   "execution_count": null,
   "id": "4daf3052-56e4-4dd0-b330-ef04e0b7c92c",
   "metadata": {},
   "outputs": [],
   "source": [
    "X_train = token.texts_to_sequences(X_train)\n",
    "X_test = token.texts_to_sequences(X_test)"
   ]
  },
  {
   "cell_type": "code",
   "execution_count": null,
   "id": "39707a36-8d49-4d96-9acd-d7bba5c3eb17",
   "metadata": {},
   "outputs": [],
   "source": [
    "max_length = get_max_length()"
   ]
  },
  {
   "cell_type": "code",
   "execution_count": null,
   "id": "bdd0eafa-8e07-43ac-a0fa-749422607666",
   "metadata": {},
   "outputs": [],
   "source": [
    "max_length"
   ]
  },
  {
   "cell_type": "code",
   "execution_count": null,
   "id": "d77ae73e-2805-4d6a-90d0-13d0ef1138fa",
   "metadata": {},
   "outputs": [],
   "source": [
    "X_train = pad_sequences(X_train, \n",
    "                        maxlen=max_length, \n",
    "                        padding='post', \n",
    "                        truncating='post')"
   ]
  },
  {
   "cell_type": "code",
   "execution_count": null,
   "id": "e7382421-b006-4fd3-8255-4f0447a7d55f",
   "metadata": {},
   "outputs": [],
   "source": [
    "X_test = pad_sequences(X_test, \n",
    "                       maxlen=max_length, \n",
    "                       padding='post', \n",
    "                       truncating='post')"
   ]
  },
  {
   "cell_type": "code",
   "execution_count": null,
   "id": "51cc54ee-1b7c-4a41-a962-4abad162b428",
   "metadata": {},
   "outputs": [],
   "source": [
    "total_words = len(token.word_index) + 1   # add 1 because of 0 padding\n",
    "\n",
    "print('Encoded X Train\\n', X_train, '\\n')\n",
    "print('Encoded X Test\\n', X_test, '\\n')\n",
    "print('Maximum review length: ', max_length)"
   ]
  },
  {
   "cell_type": "code",
   "execution_count": null,
   "id": "a7d9a9f8-f956-41a7-aae2-c440e83b7859",
   "metadata": {},
   "outputs": [],
   "source": [
    "from tensorflow.keras.models import Sequential\n",
    "from tensorflow.keras.layers import Embedding, LSTM, Dense"
   ]
  },
  {
   "cell_type": "code",
   "execution_count": null,
   "id": "fa2e65d7-bab3-4cea-941e-4cf9912980b2",
   "metadata": {},
   "outputs": [],
   "source": [
    "model = Sequential()"
   ]
  },
  {
   "cell_type": "code",
   "execution_count": null,
   "id": "3af07b03-4961-420c-a06c-787ad87539b0",
   "metadata": {},
   "outputs": [],
   "source": [
    "model.add(Embedding(total_words, \n",
    "                    32, \n",
    "                    input_length = max_length))"
   ]
  },
  {
   "cell_type": "code",
   "execution_count": null,
   "id": "54752ebd-aa19-4dab-90c9-57025c707313",
   "metadata": {},
   "outputs": [],
   "source": [
    "model.add(LSTM(256, \n",
    "               return_sequences=True))\n",
    "model.add(LSTM(256,return_sequences=False))\n",
    "model.add(Dense(1, activation='sigmoid'))"
   ]
  },
  {
   "cell_type": "code",
   "execution_count": null,
   "id": "808c624a-4070-4310-8dc4-550601d90c7e",
   "metadata": {},
   "outputs": [],
   "source": [
    "model.compile(optimizer = 'adam', \n",
    "              loss = 'binary_crossentropy', \n",
    "              metrics = ['accuracy'])\n",
    "print(model.summary())"
   ]
  },
  {
   "cell_type": "code",
   "execution_count": null,
   "id": "ad3099ee-c603-4ee8-a8af-fee625579368",
   "metadata": {},
   "outputs": [],
   "source": [
    "model.fit(X_train, \n",
    "          y_train,\n",
    "          validation_data=(X_test,y_test), \n",
    "          epochs = 5)"
   ]
  },
  {
   "cell_type": "code",
   "execution_count": null,
   "id": "c5b863a9-124c-4bbe-8be0-c00e331005ff",
   "metadata": {},
   "outputs": [],
   "source": [
    "y_test_pred = model.predict(X_test)"
   ]
  },
  {
   "cell_type": "code",
   "execution_count": null,
   "id": "460018b1-9402-4639-a86e-b8d67f27e2f0",
   "metadata": {},
   "outputs": [],
   "source": [
    "y_test_pred = y_test_pred >= 0.5"
   ]
  },
  {
   "cell_type": "code",
   "execution_count": null,
   "id": "80e3ddd7-300f-471b-b06f-39f303fd3f45",
   "metadata": {},
   "outputs": [],
   "source": [
    "from sklearn.metrics import accuracy_score, confusion_matrix"
   ]
  },
  {
   "cell_type": "code",
   "execution_count": null,
   "id": "60252779-7d34-4fa8-90f5-0ff94c0a100e",
   "metadata": {},
   "outputs": [],
   "source": [
    "confusion_matrix(y_pred = y_test_pred, y_true = y_test)"
   ]
  },
  {
   "cell_type": "code",
   "execution_count": null,
   "id": "e4e40511-69e5-4c3c-9be1-b92c73585fdc",
   "metadata": {},
   "outputs": [],
   "source": [
    "accuracy_score(y_pred = y_test_pred, y_true = y_test)"
   ]
  },
  {
   "cell_type": "code",
   "execution_count": null,
   "id": "a29059ba-9196-4c01-bf51-268a2d3a73b1",
   "metadata": {},
   "outputs": [],
   "source": []
  }
 ],
 "metadata": {
  "kernelspec": {
   "display_name": "Python 3",
   "language": "python",
   "name": "python3"
  },
  "language_info": {
   "codemirror_mode": {
    "name": "ipython",
    "version": 3
   },
   "file_extension": ".py",
   "mimetype": "text/x-python",
   "name": "python",
   "nbconvert_exporter": "python",
   "pygments_lexer": "ipython3",
   "version": "3.7.6"
  }
 },
 "nbformat": 4,
 "nbformat_minor": 5
}
