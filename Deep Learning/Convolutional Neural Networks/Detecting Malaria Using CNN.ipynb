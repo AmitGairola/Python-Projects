{
 "cells": [
  {
   "cell_type": "code",
   "execution_count": 1,
   "metadata": {
    "_cell_guid": "b1076dfc-b9ad-4769-8c92-a6c4dae69d19",
    "_uuid": "8f2839f25d086af736a60e9eeb907d3b93b6e0e5",
    "execution": {
     "iopub.execute_input": "2022-07-02T06:33:32.948984Z",
     "iopub.status.busy": "2022-07-02T06:33:32.948694Z",
     "iopub.status.idle": "2022-07-02T06:33:32.973769Z",
     "shell.execute_reply": "2022-07-02T06:33:32.972967Z",
     "shell.execute_reply.started": "2022-07-02T06:33:32.948919Z"
    }
   },
   "outputs": [],
   "source": [
    "# This Python 3 environment comes with many helpful analytics libraries installed\n",
    "# It is defined by the kaggle/python Docker image: https://github.com/kaggle/docker-python\n",
    "# For example, here's several helpful packages to load\n",
    "\n",
    "import numpy as np # linear algebra\n",
    "import pandas as pd # data processing, CSV file I/O (e.g. pd.read_csv)\n",
    "\n",
    "# Input data files are available in the read-only \"../input/\" directory\n",
    "# For example, running this (by clicking run or pressing Shift+Enter) will list all files under the input directory\n",
    "\n",
    "import os\n",
    "#for dirname, _, filenames in os.walk('/kaggle/input'):\n",
    "    #for filename in filenames:\n",
    "        #print(os.path.join(dirname, filename))\n",
    "\n",
    "# You can write up to 20GB to the current directory (/kaggle/working/) that gets preserved as output when you create a version using \"Save & Run All\" \n",
    "# You can also write temporary files to /kaggle/temp/, but they won't be saved outside of the current session"
   ]
  },
  {
   "cell_type": "code",
   "execution_count": 2,
   "metadata": {
    "execution": {
     "iopub.execute_input": "2022-07-02T06:36:16.108337Z",
     "iopub.status.busy": "2022-07-02T06:36:16.107977Z",
     "iopub.status.idle": "2022-07-02T06:36:16.123729Z",
     "shell.execute_reply": "2022-07-02T06:36:16.122841Z",
     "shell.execute_reply.started": "2022-07-02T06:36:16.108305Z"
    }
   },
   "outputs": [],
   "source": [
    "# Directory where the images are stored\n",
    "dir_name = '/kaggle/input/cell-images-for-detecting-malaria/cell_images/cell_images'\n",
    "os.listdir(dir_name)"
   ]
  },
  {
   "cell_type": "code",
   "execution_count": 35,
   "metadata": {
    "execution": {
     "iopub.execute_input": "2022-07-02T07:36:51.579245Z",
     "iopub.status.busy": "2022-07-02T07:36:51.578913Z",
     "iopub.status.idle": "2022-07-02T07:36:51.587589Z",
     "shell.execute_reply": "2022-07-02T07:36:51.586533Z",
     "shell.execute_reply.started": "2022-07-02T07:36:51.579218Z"
    }
   },
   "outputs": [],
   "source": [
    "os.listdir('/kaggle/input/cell-images-for-detecting-malaria/cell_images')"
   ]
  },
  {
   "cell_type": "code",
   "execution_count": 4,
   "metadata": {
    "execution": {
     "iopub.execute_input": "2022-07-02T06:41:01.264927Z",
     "iopub.status.busy": "2022-07-02T06:41:01.264532Z",
     "iopub.status.idle": "2022-07-02T06:41:05.523363Z",
     "shell.execute_reply": "2022-07-02T06:41:05.522319Z",
     "shell.execute_reply.started": "2022-07-02T06:41:01.264894Z"
    }
   },
   "outputs": [],
   "source": [
    "import tensorflow as tf"
   ]
  },
  {
   "cell_type": "code",
   "execution_count": 5,
   "metadata": {
    "execution": {
     "iopub.execute_input": "2022-07-02T06:41:15.613751Z",
     "iopub.status.busy": "2022-07-02T06:41:15.613179Z",
     "iopub.status.idle": "2022-07-02T06:41:15.619636Z",
     "shell.execute_reply": "2022-07-02T06:41:15.618262Z",
     "shell.execute_reply.started": "2022-07-02T06:41:15.613718Z"
    }
   },
   "outputs": [],
   "source": [
    "print(tf.__version__)"
   ]
  },
  {
   "cell_type": "code",
   "execution_count": 6,
   "metadata": {
    "execution": {
     "iopub.execute_input": "2022-07-02T06:43:02.410384Z",
     "iopub.status.busy": "2022-07-02T06:43:02.409706Z",
     "iopub.status.idle": "2022-07-02T06:43:03.307678Z",
     "shell.execute_reply": "2022-07-02T06:43:03.306716Z",
     "shell.execute_reply.started": "2022-07-02T06:43:02.410347Z"
    }
   },
   "outputs": [],
   "source": [
    "# ImageDataGenerator class provides the abilities to process image data efficiently\n",
    "from tensorflow.keras.preprocessing.image import ImageDataGenerator"
   ]
  },
  {
   "cell_type": "code",
   "execution_count": 7,
   "metadata": {
    "execution": {
     "iopub.execute_input": "2022-07-02T06:48:01.849353Z",
     "iopub.status.busy": "2022-07-02T06:48:01.849003Z",
     "iopub.status.idle": "2022-07-02T06:48:01.854669Z",
     "shell.execute_reply": "2022-07-02T06:48:01.853459Z",
     "shell.execute_reply.started": "2022-07-02T06:48:01.849323Z"
    }
   },
   "outputs": [],
   "source": [
    "# Define the Dataset Generator. We will use this to read files. Validation split\n",
    "# determines the split into training and testing\n",
    "train_datagen = ImageDataGenerator(rescale = 1./255,\n",
    "                                   shear_range = 0.2,\n",
    "                                   zoom_range = 0.2,\n",
    "                                   validation_split = 0.2,\n",
    "                                   horizontal_flip = True)"
   ]
  },
  {
   "cell_type": "code",
   "execution_count": 8,
   "metadata": {
    "execution": {
     "iopub.execute_input": "2022-07-02T06:50:09.780144Z",
     "iopub.status.busy": "2022-07-02T06:50:09.779546Z",
     "iopub.status.idle": "2022-07-02T06:50:29.730256Z",
     "shell.execute_reply": "2022-07-02T06:50:29.729285Z",
     "shell.execute_reply.started": "2022-07-02T06:50:09.780106Z"
    }
   },
   "outputs": [],
   "source": [
    "# Read the training set\n",
    "training_set = train_datagen.flow_from_directory(dir_name,\n",
    "                                                 target_size = (224, 224),\n",
    "                                                 batch_size = 32,\n",
    "                                                 subset='training',\n",
    "                                                 class_mode = 'binary')"
   ]
  },
  {
   "cell_type": "code",
   "execution_count": 9,
   "metadata": {
    "execution": {
     "iopub.execute_input": "2022-07-02T06:50:57.946005Z",
     "iopub.status.busy": "2022-07-02T06:50:57.945572Z",
     "iopub.status.idle": "2022-07-02T06:51:01.906817Z",
     "shell.execute_reply": "2022-07-02T06:51:01.905013Z",
     "shell.execute_reply.started": "2022-07-02T06:50:57.945966Z"
    }
   },
   "outputs": [],
   "source": [
    "validation_set = train_datagen.flow_from_directory(dir_name,\n",
    "                                                 target_size = (224, 224),\n",
    "                                                 batch_size = 32,\n",
    "                                                 subset='validation',\n",
    "                                                 class_mode = 'binary')"
   ]
  },
  {
   "cell_type": "code",
   "execution_count": 10,
   "metadata": {
    "execution": {
     "iopub.execute_input": "2022-07-02T06:55:47.486211Z",
     "iopub.status.busy": "2022-07-02T06:55:47.485550Z",
     "iopub.status.idle": "2022-07-02T06:55:47.492839Z",
     "shell.execute_reply": "2022-07-02T06:55:47.491781Z",
     "shell.execute_reply.started": "2022-07-02T06:55:47.486170Z"
    }
   },
   "outputs": [],
   "source": [
    "training_set.class_indices"
   ]
  },
  {
   "cell_type": "code",
   "execution_count": 11,
   "metadata": {
    "execution": {
     "iopub.execute_input": "2022-07-02T06:56:05.278750Z",
     "iopub.status.busy": "2022-07-02T06:56:05.278407Z",
     "iopub.status.idle": "2022-07-02T06:56:05.285166Z",
     "shell.execute_reply": "2022-07-02T06:56:05.284048Z",
     "shell.execute_reply.started": "2022-07-02T06:56:05.278720Z"
    }
   },
   "outputs": [],
   "source": [
    "validation_set.class_indices"
   ]
  },
  {
   "cell_type": "code",
   "execution_count": 12,
   "metadata": {
    "execution": {
     "iopub.execute_input": "2022-07-02T06:56:55.606986Z",
     "iopub.status.busy": "2022-07-02T06:56:55.606363Z",
     "iopub.status.idle": "2022-07-02T06:56:55.612950Z",
     "shell.execute_reply": "2022-07-02T06:56:55.611951Z",
     "shell.execute_reply.started": "2022-07-02T06:56:55.606951Z"
    }
   },
   "outputs": [],
   "source": [
    "from tensorflow.keras.models import Sequential\n",
    "from tensorflow.keras.layers import Conv2D, MaxPool2D,Flatten, Dense"
   ]
  },
  {
   "cell_type": "code",
   "execution_count": 13,
   "metadata": {
    "execution": {
     "iopub.execute_input": "2022-07-02T06:57:01.639297Z",
     "iopub.status.busy": "2022-07-02T06:57:01.638727Z",
     "iopub.status.idle": "2022-07-02T06:57:04.286578Z",
     "shell.execute_reply": "2022-07-02T06:57:04.285614Z",
     "shell.execute_reply.started": "2022-07-02T06:57:01.639260Z"
    }
   },
   "outputs": [],
   "source": [
    "model = Sequential() # Create a blank model"
   ]
  },
  {
   "cell_type": "code",
   "execution_count": 14,
   "metadata": {
    "execution": {
     "iopub.execute_input": "2022-07-02T06:59:04.307456Z",
     "iopub.status.busy": "2022-07-02T06:59:04.307094Z",
     "iopub.status.idle": "2022-07-02T06:59:04.358055Z",
     "shell.execute_reply": "2022-07-02T06:59:04.357149Z",
     "shell.execute_reply.started": "2022-07-02T06:59:04.307423Z"
    }
   },
   "outputs": [],
   "source": [
    "# Add the first Convolution Layer and Max Pool layer\n",
    "model.add(Conv2D(name='cnv_layer',\n",
    "                 filters=32, \n",
    "                 kernel_size=3, \n",
    "                 activation='relu', \n",
    "                 padding='valid',\n",
    "                 input_shape=[224, 224, 3]))\n",
    "model.add(MaxPool2D(pool_size = 2))"
   ]
  },
  {
   "cell_type": "code",
   "execution_count": 15,
   "metadata": {
    "execution": {
     "iopub.execute_input": "2022-07-02T07:00:47.495505Z",
     "iopub.status.busy": "2022-07-02T07:00:47.495048Z",
     "iopub.status.idle": "2022-07-02T07:00:47.509264Z",
     "shell.execute_reply": "2022-07-02T07:00:47.507988Z",
     "shell.execute_reply.started": "2022-07-02T07:00:47.495463Z"
    }
   },
   "outputs": [],
   "source": [
    "model.add(Flatten(name='flatten')) # Add the flatten layer"
   ]
  },
  {
   "cell_type": "code",
   "execution_count": 16,
   "metadata": {
    "execution": {
     "iopub.execute_input": "2022-07-02T07:00:51.793250Z",
     "iopub.status.busy": "2022-07-02T07:00:51.792908Z",
     "iopub.status.idle": "2022-07-02T07:00:51.808729Z",
     "shell.execute_reply": "2022-07-02T07:00:51.807834Z",
     "shell.execute_reply.started": "2022-07-02T07:00:51.793222Z"
    }
   },
   "outputs": [],
   "source": [
    "model.add(Dense(units = 256, name='dense', activation = 'relu')) #Add the dense layer"
   ]
  },
  {
   "cell_type": "code",
   "execution_count": 17,
   "metadata": {
    "execution": {
     "iopub.execute_input": "2022-07-02T07:00:53.980231Z",
     "iopub.status.busy": "2022-07-02T07:00:53.979890Z",
     "iopub.status.idle": "2022-07-02T07:00:53.995383Z",
     "shell.execute_reply": "2022-07-02T07:00:53.994518Z",
     "shell.execute_reply.started": "2022-07-02T07:00:53.980201Z"
    }
   },
   "outputs": [],
   "source": [
    "model.add(Dense(name='output', units=1, activation = 'sigmoid')) # Final Output layer"
   ]
  },
  {
   "cell_type": "code",
   "execution_count": 18,
   "metadata": {
    "execution": {
     "iopub.execute_input": "2022-07-02T07:02:34.831975Z",
     "iopub.status.busy": "2022-07-02T07:02:34.831298Z",
     "iopub.status.idle": "2022-07-02T07:02:34.838060Z",
     "shell.execute_reply": "2022-07-02T07:02:34.837031Z",
     "shell.execute_reply.started": "2022-07-02T07:02:34.831938Z"
    }
   },
   "outputs": [],
   "source": [
    "model.summary()"
   ]
  },
  {
   "cell_type": "code",
   "execution_count": 19,
   "metadata": {
    "execution": {
     "iopub.execute_input": "2022-07-02T07:05:41.809920Z",
     "iopub.status.busy": "2022-07-02T07:05:41.809471Z",
     "iopub.status.idle": "2022-07-02T07:05:41.817007Z",
     "shell.execute_reply": "2022-07-02T07:05:41.816094Z",
     "shell.execute_reply.started": "2022-07-02T07:05:41.809882Z"
    }
   },
   "outputs": [],
   "source": [
    "(27+1)*32"
   ]
  },
  {
   "cell_type": "code",
   "execution_count": 20,
   "metadata": {
    "execution": {
     "iopub.execute_input": "2022-07-02T07:07:45.426739Z",
     "iopub.status.busy": "2022-07-02T07:07:45.426288Z",
     "iopub.status.idle": "2022-07-02T07:07:45.653451Z",
     "shell.execute_reply": "2022-07-02T07:07:45.652489Z",
     "shell.execute_reply.started": "2022-07-02T07:07:45.426698Z"
    }
   },
   "outputs": [],
   "source": [
    "# Compile the model\n",
    "model.compile(optimizer='adam',\n",
    "             loss = 'binary_crossentropy',\n",
    "             metrics = ['accuracy'])"
   ]
  },
  {
   "cell_type": "code",
   "execution_count": null,
   "metadata": {
    "execution": {
     "iopub.execute_input": "2022-07-01T21:57:22.949479Z",
     "iopub.status.busy": "2022-07-01T21:57:22.949116Z",
     "iopub.status.idle": "2022-07-01T22:25:06.769144Z",
     "shell.execute_reply": "2022-07-01T22:25:06.767999Z",
     "shell.execute_reply.started": "2022-07-01T21:57:22.949449Z"
    }
   },
   "outputs": [],
   "source": [
    "model.fit(training_set, \n",
    "          validation_data = validation_set, \n",
    "          epochs=5) # Train the model for 5 epochs"
   ]
  },
  {
   "cell_type": "markdown",
   "metadata": {},
   "source": [
    "# Transfer Learning"
   ]
  },
  {
   "cell_type": "code",
   "execution_count": 21,
   "metadata": {
    "execution": {
     "iopub.execute_input": "2022-07-02T07:12:56.302989Z",
     "iopub.status.busy": "2022-07-02T07:12:56.302637Z",
     "iopub.status.idle": "2022-07-02T07:12:56.308923Z",
     "shell.execute_reply": "2022-07-02T07:12:56.307973Z",
     "shell.execute_reply.started": "2022-07-02T07:12:56.302961Z"
    }
   },
   "outputs": [],
   "source": [
    "from tensorflow.keras.applications import MobileNetV2"
   ]
  },
  {
   "cell_type": "code",
   "execution_count": 22,
   "metadata": {
    "execution": {
     "iopub.execute_input": "2022-07-02T07:14:24.869027Z",
     "iopub.status.busy": "2022-07-02T07:14:24.868351Z",
     "iopub.status.idle": "2022-07-02T07:14:26.122203Z",
     "shell.execute_reply": "2022-07-02T07:14:26.121143Z",
     "shell.execute_reply.started": "2022-07-02T07:14:24.868992Z"
    }
   },
   "outputs": [],
   "source": [
    "mobile_net = MobileNetV2(input_shape=(224, 224, 3), include_top=False)\n",
    "mobile_net.trainable = False"
   ]
  },
  {
   "cell_type": "code",
   "execution_count": 24,
   "metadata": {
    "execution": {
     "iopub.execute_input": "2022-07-02T07:16:14.897368Z",
     "iopub.status.busy": "2022-07-02T07:16:14.896795Z",
     "iopub.status.idle": "2022-07-02T07:16:14.905720Z",
     "shell.execute_reply": "2022-07-02T07:16:14.904451Z",
     "shell.execute_reply.started": "2022-07-02T07:16:14.897331Z"
    }
   },
   "outputs": [],
   "source": [
    "trf_model = Sequential()"
   ]
  },
  {
   "cell_type": "code",
   "execution_count": 25,
   "metadata": {
    "execution": {
     "iopub.execute_input": "2022-07-02T07:16:19.022492Z",
     "iopub.status.busy": "2022-07-02T07:16:19.021566Z",
     "iopub.status.idle": "2022-07-02T07:16:19.315688Z",
     "shell.execute_reply": "2022-07-02T07:16:19.314730Z",
     "shell.execute_reply.started": "2022-07-02T07:16:19.022441Z"
    }
   },
   "outputs": [],
   "source": [
    "trf_model.add(mobile_net)"
   ]
  },
  {
   "cell_type": "code",
   "execution_count": 26,
   "metadata": {
    "execution": {
     "iopub.execute_input": "2022-07-02T07:16:23.587350Z",
     "iopub.status.busy": "2022-07-02T07:16:23.586943Z",
     "iopub.status.idle": "2022-07-02T07:16:23.607037Z",
     "shell.execute_reply": "2022-07-02T07:16:23.606161Z",
     "shell.execute_reply.started": "2022-07-02T07:16:23.587319Z"
    }
   },
   "outputs": [],
   "source": [
    "trf_model.add(Flatten())\n",
    "trf_model.add(Dense(256, activation = 'relu'))"
   ]
  },
  {
   "cell_type": "code",
   "execution_count": 27,
   "metadata": {
    "execution": {
     "iopub.execute_input": "2022-07-02T07:16:27.206084Z",
     "iopub.status.busy": "2022-07-02T07:16:27.205643Z",
     "iopub.status.idle": "2022-07-02T07:16:27.228087Z",
     "shell.execute_reply": "2022-07-02T07:16:27.227228Z",
     "shell.execute_reply.started": "2022-07-02T07:16:27.206041Z"
    }
   },
   "outputs": [],
   "source": [
    "trf_model.add(Dense(1, activation = 'sigmoid'))"
   ]
  },
  {
   "cell_type": "code",
   "execution_count": 28,
   "metadata": {
    "execution": {
     "iopub.execute_input": "2022-07-02T07:17:32.399131Z",
     "iopub.status.busy": "2022-07-02T07:17:32.398785Z",
     "iopub.status.idle": "2022-07-02T07:17:32.413386Z",
     "shell.execute_reply": "2022-07-02T07:17:32.412408Z",
     "shell.execute_reply.started": "2022-07-02T07:17:32.399103Z"
    }
   },
   "outputs": [],
   "source": [
    "trf_model.summary()"
   ]
  },
  {
   "cell_type": "code",
   "execution_count": 31,
   "metadata": {
    "execution": {
     "iopub.execute_input": "2022-07-02T07:19:32.032625Z",
     "iopub.status.busy": "2022-07-02T07:19:32.031630Z",
     "iopub.status.idle": "2022-07-02T07:19:32.046296Z",
     "shell.execute_reply": "2022-07-02T07:19:32.045420Z",
     "shell.execute_reply.started": "2022-07-02T07:19:32.032576Z"
    }
   },
   "outputs": [],
   "source": [
    "# Compile the model\n",
    "trf_model.compile(optimizer='adam',\n",
    "             loss = 'binary_crossentropy',\n",
    "             metrics = ['accuracy'])"
   ]
  },
  {
   "cell_type": "code",
   "execution_count": null,
   "metadata": {
    "execution": {
     "iopub.execute_input": "2022-07-02T07:38:09.087017Z",
     "iopub.status.busy": "2022-07-02T07:38:09.086650Z"
    }
   },
   "outputs": [],
   "source": [
    "trf_model.fit(training_set, validation_data = validation_set, epochs = 5)"
   ]
  },
  {
   "cell_type": "code",
   "execution_count": null,
   "metadata": {},
   "outputs": [],
   "source": []
  }
 ],
 "metadata": {
  "kernelspec": {
   "display_name": "Python 3 (ipykernel)",
   "language": "python",
   "name": "python3"
  },
  "language_info": {
   "codemirror_mode": {
    "name": "ipython",
    "version": 3
   },
   "file_extension": ".py",
   "mimetype": "text/x-python",
   "name": "python",
   "nbconvert_exporter": "python",
   "pygments_lexer": "ipython3",
   "version": "3.7.11"
  }
 },
 "nbformat": 4,
 "nbformat_minor": 4
}
