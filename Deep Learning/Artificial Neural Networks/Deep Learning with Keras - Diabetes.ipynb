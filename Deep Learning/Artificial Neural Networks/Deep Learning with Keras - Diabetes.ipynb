{
 "cells": [
  {
   "cell_type": "code",
   "execution_count": 1,
   "id": "d31b9fe1-36f9-427c-94a2-3fbde5109df0",
   "metadata": {},
   "outputs": [],
   "source": [
    "import pandas as pd\n",
    "import numpy as np"
   ]
  },
  {
   "cell_type": "code",
   "execution_count": 2,
   "id": "11fbce75-7a1f-4fba-aa86-104a3eefc3fa",
   "metadata": {},
   "outputs": [],
   "source": [
    "df_diab = pd.read_csv('diabetes.csv')"
   ]
  },
  {
   "cell_type": "code",
   "execution_count": 3,
   "id": "91639249-a006-4260-8e75-03cfd2aa55b8",
   "metadata": {},
   "outputs": [
    {
     "data": {
      "text/html": [
       "<div>\n",
       "<style scoped>\n",
       "    .dataframe tbody tr th:only-of-type {\n",
       "        vertical-align: middle;\n",
       "    }\n",
       "\n",
       "    .dataframe tbody tr th {\n",
       "        vertical-align: top;\n",
       "    }\n",
       "\n",
       "    .dataframe thead th {\n",
       "        text-align: right;\n",
       "    }\n",
       "</style>\n",
       "<table border=\"1\" class=\"dataframe\">\n",
       "  <thead>\n",
       "    <tr style=\"text-align: right;\">\n",
       "      <th></th>\n",
       "      <th>Pregnancies</th>\n",
       "      <th>Glucose</th>\n",
       "      <th>BloodPressure</th>\n",
       "      <th>SkinThickness</th>\n",
       "      <th>Insulin</th>\n",
       "      <th>BMI</th>\n",
       "      <th>DiabetesPedigreeFunction</th>\n",
       "      <th>Age</th>\n",
       "      <th>Outcome</th>\n",
       "    </tr>\n",
       "  </thead>\n",
       "  <tbody>\n",
       "    <tr>\n",
       "      <th>0</th>\n",
       "      <td>6</td>\n",
       "      <td>148</td>\n",
       "      <td>72</td>\n",
       "      <td>35</td>\n",
       "      <td>0</td>\n",
       "      <td>33.6</td>\n",
       "      <td>0.627</td>\n",
       "      <td>50</td>\n",
       "      <td>1</td>\n",
       "    </tr>\n",
       "    <tr>\n",
       "      <th>1</th>\n",
       "      <td>1</td>\n",
       "      <td>85</td>\n",
       "      <td>66</td>\n",
       "      <td>29</td>\n",
       "      <td>0</td>\n",
       "      <td>26.6</td>\n",
       "      <td>0.351</td>\n",
       "      <td>31</td>\n",
       "      <td>0</td>\n",
       "    </tr>\n",
       "    <tr>\n",
       "      <th>2</th>\n",
       "      <td>8</td>\n",
       "      <td>183</td>\n",
       "      <td>64</td>\n",
       "      <td>0</td>\n",
       "      <td>0</td>\n",
       "      <td>23.3</td>\n",
       "      <td>0.672</td>\n",
       "      <td>32</td>\n",
       "      <td>1</td>\n",
       "    </tr>\n",
       "    <tr>\n",
       "      <th>3</th>\n",
       "      <td>1</td>\n",
       "      <td>89</td>\n",
       "      <td>66</td>\n",
       "      <td>23</td>\n",
       "      <td>94</td>\n",
       "      <td>28.1</td>\n",
       "      <td>0.167</td>\n",
       "      <td>21</td>\n",
       "      <td>0</td>\n",
       "    </tr>\n",
       "    <tr>\n",
       "      <th>4</th>\n",
       "      <td>0</td>\n",
       "      <td>137</td>\n",
       "      <td>40</td>\n",
       "      <td>35</td>\n",
       "      <td>168</td>\n",
       "      <td>43.1</td>\n",
       "      <td>2.288</td>\n",
       "      <td>33</td>\n",
       "      <td>1</td>\n",
       "    </tr>\n",
       "  </tbody>\n",
       "</table>\n",
       "</div>"
      ],
      "text/plain": [
       "   Pregnancies  Glucose  BloodPressure  SkinThickness  Insulin   BMI  \\\n",
       "0            6      148             72             35        0  33.6   \n",
       "1            1       85             66             29        0  26.6   \n",
       "2            8      183             64              0        0  23.3   \n",
       "3            1       89             66             23       94  28.1   \n",
       "4            0      137             40             35      168  43.1   \n",
       "\n",
       "   DiabetesPedigreeFunction  Age  Outcome  \n",
       "0                     0.627   50        1  \n",
       "1                     0.351   31        0  \n",
       "2                     0.672   32        1  \n",
       "3                     0.167   21        0  \n",
       "4                     2.288   33        1  "
      ]
     },
     "execution_count": 3,
     "metadata": {},
     "output_type": "execute_result"
    }
   ],
   "source": [
    "df_diab.head()"
   ]
  },
  {
   "cell_type": "code",
   "execution_count": 4,
   "id": "1a6c4030-1aee-47f1-bfcb-5d30213fdb0a",
   "metadata": {},
   "outputs": [
    {
     "data": {
      "text/plain": [
       "array([1, 0])"
      ]
     },
     "execution_count": 4,
     "metadata": {},
     "output_type": "execute_result"
    }
   ],
   "source": [
    "df_diab.Outcome.unique()"
   ]
  },
  {
   "cell_type": "code",
   "execution_count": 5,
   "id": "3c0c67d7-fec6-44c5-94c1-9a3f6660d87f",
   "metadata": {},
   "outputs": [
    {
     "data": {
      "text/plain": [
       "Pregnancies                 0\n",
       "Glucose                     0\n",
       "BloodPressure               0\n",
       "SkinThickness               0\n",
       "Insulin                     0\n",
       "BMI                         0\n",
       "DiabetesPedigreeFunction    0\n",
       "Age                         0\n",
       "Outcome                     0\n",
       "dtype: int64"
      ]
     },
     "execution_count": 5,
     "metadata": {},
     "output_type": "execute_result"
    }
   ],
   "source": [
    "df_diab.isna().sum()"
   ]
  },
  {
   "cell_type": "code",
   "execution_count": 6,
   "id": "4f262828-179a-4f3c-8f84-f6d720b8ef05",
   "metadata": {},
   "outputs": [
    {
     "data": {
      "text/plain": [
       "(768, 9)"
      ]
     },
     "execution_count": 6,
     "metadata": {},
     "output_type": "execute_result"
    }
   ],
   "source": [
    "df_diab.shape"
   ]
  },
  {
   "cell_type": "code",
   "execution_count": 7,
   "id": "9bb6fc82-c903-4440-bbfc-9d7ca87465ca",
   "metadata": {},
   "outputs": [],
   "source": [
    "X = df_diab.drop(['Outcome'],axis=1)\n",
    "y = df_diab[['Outcome']]"
   ]
  },
  {
   "cell_type": "code",
   "execution_count": 9,
   "id": "b390e395-80e8-4903-91e1-c9a1b9946432",
   "metadata": {},
   "outputs": [],
   "source": [
    "np.random.seed(12345)"
   ]
  },
  {
   "cell_type": "code",
   "execution_count": 8,
   "id": "17b06800-3437-4f35-96f8-13fbcc67628f",
   "metadata": {},
   "outputs": [],
   "source": [
    "from sklearn.model_selection import train_test_split"
   ]
  },
  {
   "cell_type": "code",
   "execution_count": 10,
   "id": "4750bdbe-c8c4-4ec2-9424-377492df3e93",
   "metadata": {},
   "outputs": [],
   "source": [
    "X_train, X_test, y_train,y_test = train_test_split(X,\n",
    "                                                   y,\n",
    "                                                   stratify = y,\n",
    "                                                   test_size=0.2,\n",
    "                                                   random_state=12345)"
   ]
  },
  {
   "cell_type": "code",
   "execution_count": 11,
   "id": "06496bb0-5fda-466c-b58f-ad2f1b88785a",
   "metadata": {},
   "outputs": [
    {
     "data": {
      "text/plain": [
       "(614, 8)"
      ]
     },
     "execution_count": 11,
     "metadata": {},
     "output_type": "execute_result"
    }
   ],
   "source": [
    "X_train.shape"
   ]
  },
  {
   "cell_type": "code",
   "execution_count": 12,
   "id": "5ca2c389-5256-4455-9b4d-c0fd3fc9d166",
   "metadata": {},
   "outputs": [
    {
     "data": {
      "text/plain": [
       "(154, 8)"
      ]
     },
     "execution_count": 12,
     "metadata": {},
     "output_type": "execute_result"
    }
   ],
   "source": [
    "X_test.shape"
   ]
  },
  {
   "cell_type": "code",
   "execution_count": 13,
   "id": "c49ec3ef-1f00-475d-ac24-43cffb4974b2",
   "metadata": {},
   "outputs": [],
   "source": [
    "from sklearn.preprocessing import StandardScaler"
   ]
  },
  {
   "cell_type": "code",
   "execution_count": 14,
   "id": "b2619fcb-0182-4fbe-bc3f-eea81a9d9e1a",
   "metadata": {},
   "outputs": [],
   "source": [
    "scaler = StandardScaler()\n",
    "X_train_scaled = scaler.fit_transform(X_train)\n",
    "X_test_scaled = scaler.transform(X_test)"
   ]
  },
  {
   "cell_type": "code",
   "execution_count": 15,
   "id": "d408f475-5c67-4f1d-ba17-b11ed7505396",
   "metadata": {},
   "outputs": [],
   "source": [
    "import tensorflow as tf"
   ]
  },
  {
   "cell_type": "code",
   "execution_count": 16,
   "id": "200df40a-fccf-43dd-9393-302c44f9935b",
   "metadata": {},
   "outputs": [],
   "source": [
    "from tensorflow.keras.models import Sequential"
   ]
  },
  {
   "cell_type": "code",
   "execution_count": 17,
   "id": "8ccb2549-8af0-42ec-b077-4ebdd764c162",
   "metadata": {},
   "outputs": [],
   "source": [
    "from tensorflow.keras.layers import Dense, Dropout, Input"
   ]
  },
  {
   "cell_type": "code",
   "execution_count": 63,
   "id": "5fede699-aebf-4753-897a-6faf3cbad9c0",
   "metadata": {},
   "outputs": [],
   "source": [
    "model = Sequential()"
   ]
  },
  {
   "cell_type": "code",
   "execution_count": 64,
   "id": "4dd59932-4b7c-43ae-afee-680ddf2039dc",
   "metadata": {},
   "outputs": [
    {
     "data": {
      "text/plain": [
       "8"
      ]
     },
     "execution_count": 64,
     "metadata": {},
     "output_type": "execute_result"
    }
   ],
   "source": [
    "X_train_scaled.shape[1]"
   ]
  },
  {
   "cell_type": "code",
   "execution_count": 65,
   "id": "ee925079-e57f-4cdb-9adb-659a0cde45f1",
   "metadata": {},
   "outputs": [],
   "source": [
    "model.add(Input(shape = (X_train_scaled.shape[1],)))"
   ]
  },
  {
   "cell_type": "code",
   "execution_count": 66,
   "id": "a9bf1882-dc8e-431f-aae3-a6310be02a04",
   "metadata": {},
   "outputs": [],
   "source": [
    "# First Hidden Layer - 128 neurons, Relu activation\n",
    "model.add(Dense(units=128,\n",
    "                activation='relu'\n",
    "         ))"
   ]
  },
  {
   "cell_type": "code",
   "execution_count": 67,
   "id": "abdee2a8-4227-435e-9988-8818297124f0",
   "metadata": {},
   "outputs": [],
   "source": [
    "# Second Hidden Layer - 64 neurons, Relu activation\n",
    "model.add(Dense(units=64, activation='relu'))\n",
    "\n",
    "# Third Hidden Layer 32, relu\n",
    "model.add(Dense(units=32, activation='relu'))\n",
    "\n",
    "# Output layer - Sigmoid\n",
    "model.add(Dense(units=1, activation='sigmoid'))"
   ]
  },
  {
   "cell_type": "code",
   "execution_count": 68,
   "id": "9c3805bb-745c-4770-a588-e9ee219aedba",
   "metadata": {},
   "outputs": [
    {
     "name": "stdout",
     "output_type": "stream",
     "text": [
      "Model: \"sequential_3\"\n",
      "_________________________________________________________________\n",
      " Layer (type)                Output Shape              Param #   \n",
      "=================================================================\n",
      " dense_8 (Dense)             (None, 128)               1152      \n",
      "                                                                 \n",
      " dense_9 (Dense)             (None, 64)                8256      \n",
      "                                                                 \n",
      " dense_10 (Dense)            (None, 32)                2080      \n",
      "                                                                 \n",
      " dense_11 (Dense)            (None, 1)                 33        \n",
      "                                                                 \n",
      "=================================================================\n",
      "Total params: 11,521\n",
      "Trainable params: 11,521\n",
      "Non-trainable params: 0\n",
      "_________________________________________________________________\n"
     ]
    }
   ],
   "source": [
    "model.summary()"
   ]
  },
  {
   "cell_type": "code",
   "execution_count": 54,
   "id": "c2ac887f-7592-47a3-864e-50dac89ebefe",
   "metadata": {},
   "outputs": [
    {
     "data": {
      "text/plain": [
       "1152"
      ]
     },
     "execution_count": 54,
     "metadata": {},
     "output_type": "execute_result"
    }
   ],
   "source": [
    "(8+1)*128"
   ]
  },
  {
   "cell_type": "code",
   "execution_count": 55,
   "id": "058d2328-98f3-41fc-a4f2-7010e8a7b884",
   "metadata": {},
   "outputs": [
    {
     "data": {
      "text/plain": [
       "2080"
      ]
     },
     "execution_count": 55,
     "metadata": {},
     "output_type": "execute_result"
    }
   ],
   "source": [
    "(64+1)*32"
   ]
  },
  {
   "cell_type": "code",
   "execution_count": 56,
   "id": "e31caf97-dac9-46e0-b0b6-e9336fd4eb07",
   "metadata": {},
   "outputs": [
    {
     "data": {
      "text/plain": [
       "33"
      ]
     },
     "execution_count": 56,
     "metadata": {},
     "output_type": "execute_result"
    }
   ],
   "source": [
    "(32+1)*1"
   ]
  },
  {
   "cell_type": "code",
   "execution_count": 69,
   "id": "c358a15e-1171-49c1-813a-562a7f2d0a24",
   "metadata": {},
   "outputs": [],
   "source": [
    "model.compile(optimizer='adam', \n",
    "              loss='binary_crossentropy', \n",
    "              metrics=['accuracy'])"
   ]
  },
  {
   "cell_type": "code",
   "execution_count": 70,
   "id": "fa21c2b4-cf58-414e-972e-a596d5483bdf",
   "metadata": {},
   "outputs": [
    {
     "name": "stdout",
     "output_type": "stream",
     "text": [
      "Epoch 1/100\n",
      "20/20 [==============================] - 1s 12ms/step - loss: 0.6122 - accuracy: 0.6971 - val_loss: 0.5291 - val_accuracy: 0.7338\n",
      "Epoch 2/100\n",
      "20/20 [==============================] - 0s 5ms/step - loss: 0.5123 - accuracy: 0.7508 - val_loss: 0.4607 - val_accuracy: 0.7662\n",
      "Epoch 3/100\n",
      "20/20 [==============================] - 0s 5ms/step - loss: 0.4803 - accuracy: 0.7687 - val_loss: 0.4386 - val_accuracy: 0.7922\n",
      "Epoch 4/100\n",
      "20/20 [==============================] - 0s 5ms/step - loss: 0.4607 - accuracy: 0.7818 - val_loss: 0.4287 - val_accuracy: 0.7922\n",
      "Epoch 5/100\n",
      "20/20 [==============================] - 0s 5ms/step - loss: 0.4476 - accuracy: 0.7899 - val_loss: 0.4282 - val_accuracy: 0.7857\n",
      "Epoch 6/100\n",
      "20/20 [==============================] - 0s 4ms/step - loss: 0.4386 - accuracy: 0.7899 - val_loss: 0.4250 - val_accuracy: 0.7857\n",
      "Epoch 7/100\n",
      "20/20 [==============================] - 0s 4ms/step - loss: 0.4320 - accuracy: 0.7932 - val_loss: 0.4282 - val_accuracy: 0.7857\n",
      "Epoch 8/100\n",
      "20/20 [==============================] - 0s 4ms/step - loss: 0.4254 - accuracy: 0.8029 - val_loss: 0.4244 - val_accuracy: 0.7792\n",
      "Epoch 9/100\n",
      "20/20 [==============================] - 0s 4ms/step - loss: 0.4201 - accuracy: 0.7948 - val_loss: 0.4248 - val_accuracy: 0.7792\n",
      "Epoch 10/100\n",
      "20/20 [==============================] - 0s 4ms/step - loss: 0.4109 - accuracy: 0.8062 - val_loss: 0.4329 - val_accuracy: 0.7662\n",
      "Epoch 11/100\n",
      "20/20 [==============================] - 0s 4ms/step - loss: 0.4115 - accuracy: 0.8062 - val_loss: 0.4473 - val_accuracy: 0.7403\n",
      "Epoch 12/100\n",
      "20/20 [==============================] - 0s 4ms/step - loss: 0.4031 - accuracy: 0.8013 - val_loss: 0.4420 - val_accuracy: 0.7532\n",
      "Epoch 13/100\n",
      "20/20 [==============================] - 0s 5ms/step - loss: 0.4065 - accuracy: 0.8078 - val_loss: 0.4408 - val_accuracy: 0.7792\n",
      "Epoch 14/100\n",
      "20/20 [==============================] - 0s 6ms/step - loss: 0.3878 - accuracy: 0.8176 - val_loss: 0.4338 - val_accuracy: 0.7727\n",
      "Epoch 15/100\n",
      "20/20 [==============================] - 0s 5ms/step - loss: 0.3853 - accuracy: 0.8176 - val_loss: 0.4388 - val_accuracy: 0.7532\n",
      "Epoch 16/100\n",
      "20/20 [==============================] - 0s 3ms/step - loss: 0.3783 - accuracy: 0.8274 - val_loss: 0.4318 - val_accuracy: 0.7662\n",
      "Epoch 17/100\n",
      "20/20 [==============================] - 0s 4ms/step - loss: 0.3697 - accuracy: 0.8355 - val_loss: 0.4379 - val_accuracy: 0.7662\n",
      "Epoch 18/100\n",
      "20/20 [==============================] - 0s 3ms/step - loss: 0.3643 - accuracy: 0.8355 - val_loss: 0.4377 - val_accuracy: 0.7468\n",
      "Epoch 19/100\n",
      "20/20 [==============================] - 0s 3ms/step - loss: 0.3627 - accuracy: 0.8371 - val_loss: 0.4328 - val_accuracy: 0.7727\n",
      "Epoch 20/100\n",
      "20/20 [==============================] - 0s 4ms/step - loss: 0.3574 - accuracy: 0.8339 - val_loss: 0.4380 - val_accuracy: 0.7468\n",
      "Epoch 21/100\n",
      "20/20 [==============================] - 0s 5ms/step - loss: 0.3484 - accuracy: 0.8436 - val_loss: 0.4313 - val_accuracy: 0.7727\n",
      "Epoch 22/100\n",
      "20/20 [==============================] - 0s 4ms/step - loss: 0.3453 - accuracy: 0.8469 - val_loss: 0.4433 - val_accuracy: 0.7532\n",
      "Epoch 23/100\n",
      "20/20 [==============================] - 0s 4ms/step - loss: 0.3419 - accuracy: 0.8388 - val_loss: 0.4664 - val_accuracy: 0.7662\n",
      "Epoch 24/100\n",
      "20/20 [==============================] - 0s 4ms/step - loss: 0.3323 - accuracy: 0.8485 - val_loss: 0.4393 - val_accuracy: 0.7662\n",
      "Epoch 25/100\n",
      "20/20 [==============================] - 0s 6ms/step - loss: 0.3230 - accuracy: 0.8632 - val_loss: 0.4455 - val_accuracy: 0.7532\n",
      "Epoch 26/100\n",
      "20/20 [==============================] - 0s 5ms/step - loss: 0.3170 - accuracy: 0.8616 - val_loss: 0.4469 - val_accuracy: 0.7468\n",
      "Epoch 27/100\n",
      "20/20 [==============================] - 0s 5ms/step - loss: 0.3085 - accuracy: 0.8730 - val_loss: 0.4515 - val_accuracy: 0.7662\n",
      "Epoch 28/100\n",
      "20/20 [==============================] - 0s 5ms/step - loss: 0.3029 - accuracy: 0.8762 - val_loss: 0.4612 - val_accuracy: 0.7597\n",
      "Epoch 29/100\n",
      "20/20 [==============================] - 0s 8ms/step - loss: 0.3039 - accuracy: 0.8697 - val_loss: 0.4631 - val_accuracy: 0.7468\n",
      "Epoch 30/100\n",
      "20/20 [==============================] - 0s 5ms/step - loss: 0.2940 - accuracy: 0.8762 - val_loss: 0.4765 - val_accuracy: 0.7727\n",
      "Epoch 31/100\n",
      "20/20 [==============================] - 0s 4ms/step - loss: 0.2809 - accuracy: 0.8844 - val_loss: 0.4877 - val_accuracy: 0.7532\n",
      "Epoch 32/100\n",
      "20/20 [==============================] - 0s 4ms/step - loss: 0.2827 - accuracy: 0.8811 - val_loss: 0.4973 - val_accuracy: 0.7597\n",
      "Epoch 33/100\n",
      "20/20 [==============================] - 0s 4ms/step - loss: 0.2653 - accuracy: 0.8941 - val_loss: 0.4820 - val_accuracy: 0.7662\n",
      "Epoch 34/100\n",
      "20/20 [==============================] - 0s 4ms/step - loss: 0.2676 - accuracy: 0.8893 - val_loss: 0.4854 - val_accuracy: 0.7532\n",
      "Epoch 35/100\n",
      "20/20 [==============================] - 0s 5ms/step - loss: 0.2543 - accuracy: 0.9023 - val_loss: 0.5342 - val_accuracy: 0.7597\n",
      "Epoch 36/100\n",
      "20/20 [==============================] - 0s 4ms/step - loss: 0.2543 - accuracy: 0.8958 - val_loss: 0.5280 - val_accuracy: 0.7597\n",
      "Epoch 37/100\n",
      "20/20 [==============================] - 0s 4ms/step - loss: 0.2443 - accuracy: 0.9153 - val_loss: 0.5058 - val_accuracy: 0.7727\n",
      "Epoch 38/100\n",
      "20/20 [==============================] - 0s 5ms/step - loss: 0.2367 - accuracy: 0.8958 - val_loss: 0.5534 - val_accuracy: 0.7403\n",
      "Epoch 39/100\n",
      "20/20 [==============================] - 0s 4ms/step - loss: 0.2330 - accuracy: 0.9088 - val_loss: 0.5391 - val_accuracy: 0.7403\n",
      "Epoch 40/100\n",
      "20/20 [==============================] - 0s 5ms/step - loss: 0.2265 - accuracy: 0.9121 - val_loss: 0.5324 - val_accuracy: 0.7532\n",
      "Epoch 41/100\n",
      "20/20 [==============================] - 0s 4ms/step - loss: 0.2229 - accuracy: 0.9088 - val_loss: 0.5338 - val_accuracy: 0.7597\n",
      "Epoch 42/100\n",
      "20/20 [==============================] - 0s 4ms/step - loss: 0.2081 - accuracy: 0.9153 - val_loss: 0.5364 - val_accuracy: 0.7532\n",
      "Epoch 43/100\n",
      "20/20 [==============================] - 0s 4ms/step - loss: 0.2139 - accuracy: 0.9104 - val_loss: 0.5947 - val_accuracy: 0.7468\n",
      "Epoch 44/100\n",
      "20/20 [==============================] - 0s 5ms/step - loss: 0.2337 - accuracy: 0.9023 - val_loss: 0.5850 - val_accuracy: 0.7597\n",
      "Epoch 45/100\n",
      "20/20 [==============================] - 0s 4ms/step - loss: 0.2132 - accuracy: 0.9169 - val_loss: 0.5739 - val_accuracy: 0.7532\n",
      "Epoch 46/100\n",
      "20/20 [==============================] - 0s 4ms/step - loss: 0.1901 - accuracy: 0.9283 - val_loss: 0.5717 - val_accuracy: 0.7403\n",
      "Epoch 47/100\n",
      "20/20 [==============================] - 0s 3ms/step - loss: 0.1793 - accuracy: 0.9365 - val_loss: 0.5909 - val_accuracy: 0.7532\n",
      "Epoch 48/100\n",
      "20/20 [==============================] - 0s 6ms/step - loss: 0.1770 - accuracy: 0.9283 - val_loss: 0.5991 - val_accuracy: 0.7468\n",
      "Epoch 49/100\n",
      "20/20 [==============================] - 0s 5ms/step - loss: 0.1659 - accuracy: 0.9479 - val_loss: 0.6035 - val_accuracy: 0.7468\n",
      "Epoch 50/100\n",
      "20/20 [==============================] - 0s 7ms/step - loss: 0.1582 - accuracy: 0.9463 - val_loss: 0.6667 - val_accuracy: 0.7468\n",
      "Epoch 51/100\n",
      "20/20 [==============================] - 0s 5ms/step - loss: 0.1877 - accuracy: 0.9251 - val_loss: 0.6716 - val_accuracy: 0.7338\n",
      "Epoch 52/100\n",
      "20/20 [==============================] - 0s 5ms/step - loss: 0.1577 - accuracy: 0.9381 - val_loss: 0.6272 - val_accuracy: 0.7662\n",
      "Epoch 53/100\n",
      "20/20 [==============================] - 0s 5ms/step - loss: 0.1438 - accuracy: 0.9528 - val_loss: 0.6312 - val_accuracy: 0.7468\n",
      "Epoch 54/100\n",
      "20/20 [==============================] - 0s 5ms/step - loss: 0.1514 - accuracy: 0.9446 - val_loss: 0.6464 - val_accuracy: 0.7403\n",
      "Epoch 55/100\n",
      "20/20 [==============================] - 0s 4ms/step - loss: 0.1369 - accuracy: 0.9625 - val_loss: 0.6397 - val_accuracy: 0.7468\n",
      "Epoch 56/100\n",
      "20/20 [==============================] - 0s 4ms/step - loss: 0.1391 - accuracy: 0.9511 - val_loss: 0.7150 - val_accuracy: 0.7403\n",
      "Epoch 57/100\n",
      "20/20 [==============================] - 0s 4ms/step - loss: 0.1288 - accuracy: 0.9560 - val_loss: 0.6645 - val_accuracy: 0.7208\n",
      "Epoch 58/100\n",
      "20/20 [==============================] - 0s 4ms/step - loss: 0.1226 - accuracy: 0.9625 - val_loss: 0.7574 - val_accuracy: 0.7273\n",
      "Epoch 59/100\n",
      "20/20 [==============================] - 0s 4ms/step - loss: 0.1264 - accuracy: 0.9625 - val_loss: 0.6845 - val_accuracy: 0.7532\n",
      "Epoch 60/100\n",
      "20/20 [==============================] - 0s 4ms/step - loss: 0.1152 - accuracy: 0.9658 - val_loss: 0.7192 - val_accuracy: 0.7403\n",
      "Epoch 61/100\n",
      "20/20 [==============================] - 0s 4ms/step - loss: 0.1162 - accuracy: 0.9691 - val_loss: 0.7830 - val_accuracy: 0.7273\n",
      "Epoch 62/100\n",
      "20/20 [==============================] - 0s 5ms/step - loss: 0.1254 - accuracy: 0.9544 - val_loss: 0.7068 - val_accuracy: 0.7468\n",
      "Epoch 63/100\n",
      "20/20 [==============================] - 0s 5ms/step - loss: 0.1037 - accuracy: 0.9723 - val_loss: 0.7576 - val_accuracy: 0.7468\n",
      "Epoch 64/100\n",
      "20/20 [==============================] - 0s 6ms/step - loss: 0.0924 - accuracy: 0.9756 - val_loss: 0.7616 - val_accuracy: 0.7597\n",
      "Epoch 65/100\n",
      "20/20 [==============================] - 0s 6ms/step - loss: 0.0964 - accuracy: 0.9739 - val_loss: 0.8324 - val_accuracy: 0.7468\n",
      "Epoch 66/100\n",
      "20/20 [==============================] - 0s 6ms/step - loss: 0.0965 - accuracy: 0.9739 - val_loss: 0.7912 - val_accuracy: 0.7208\n",
      "Epoch 67/100\n",
      "20/20 [==============================] - 0s 5ms/step - loss: 0.0878 - accuracy: 0.9739 - val_loss: 0.8118 - val_accuracy: 0.7208\n",
      "Epoch 68/100\n",
      "20/20 [==============================] - 0s 5ms/step - loss: 0.0819 - accuracy: 0.9756 - val_loss: 0.8070 - val_accuracy: 0.7403\n",
      "Epoch 69/100\n",
      "20/20 [==============================] - 0s 5ms/step - loss: 0.0779 - accuracy: 0.9772 - val_loss: 0.8137 - val_accuracy: 0.7597\n",
      "Epoch 70/100\n",
      "20/20 [==============================] - 0s 5ms/step - loss: 0.0852 - accuracy: 0.9788 - val_loss: 0.8543 - val_accuracy: 0.7403\n",
      "Epoch 71/100\n",
      "20/20 [==============================] - 0s 5ms/step - loss: 0.0741 - accuracy: 0.9837 - val_loss: 0.8698 - val_accuracy: 0.7468\n",
      "Epoch 72/100\n",
      "20/20 [==============================] - 0s 4ms/step - loss: 0.0675 - accuracy: 0.9837 - val_loss: 0.8589 - val_accuracy: 0.7403\n",
      "Epoch 73/100\n",
      "20/20 [==============================] - 0s 4ms/step - loss: 0.0647 - accuracy: 0.9821 - val_loss: 0.8696 - val_accuracy: 0.7468\n",
      "Epoch 74/100\n",
      "20/20 [==============================] - 0s 4ms/step - loss: 0.0663 - accuracy: 0.9821 - val_loss: 0.8763 - val_accuracy: 0.7143\n",
      "Epoch 75/100\n",
      "20/20 [==============================] - 0s 4ms/step - loss: 0.1038 - accuracy: 0.9625 - val_loss: 0.9193 - val_accuracy: 0.7338\n",
      "Epoch 76/100\n",
      "20/20 [==============================] - 0s 4ms/step - loss: 0.0727 - accuracy: 0.9837 - val_loss: 0.9781 - val_accuracy: 0.7273\n",
      "Epoch 77/100\n",
      "20/20 [==============================] - 0s 4ms/step - loss: 0.0669 - accuracy: 0.9805 - val_loss: 0.9519 - val_accuracy: 0.7468\n",
      "Epoch 78/100\n",
      "20/20 [==============================] - 0s 5ms/step - loss: 0.0671 - accuracy: 0.9821 - val_loss: 0.9706 - val_accuracy: 0.7468\n",
      "Epoch 79/100\n",
      "20/20 [==============================] - 0s 4ms/step - loss: 0.0693 - accuracy: 0.9739 - val_loss: 0.9103 - val_accuracy: 0.7273\n",
      "Epoch 80/100\n",
      "20/20 [==============================] - 0s 4ms/step - loss: 0.0661 - accuracy: 0.9805 - val_loss: 0.9403 - val_accuracy: 0.7273\n",
      "Epoch 81/100\n",
      "20/20 [==============================] - 0s 4ms/step - loss: 0.0517 - accuracy: 0.9870 - val_loss: 0.9367 - val_accuracy: 0.7597\n",
      "Epoch 82/100\n",
      "20/20 [==============================] - 0s 4ms/step - loss: 0.0611 - accuracy: 0.9837 - val_loss: 0.9020 - val_accuracy: 0.7403\n",
      "Epoch 83/100\n",
      "20/20 [==============================] - 0s 4ms/step - loss: 0.0456 - accuracy: 0.9886 - val_loss: 0.9958 - val_accuracy: 0.7468\n",
      "Epoch 84/100\n",
      "20/20 [==============================] - 0s 4ms/step - loss: 0.0412 - accuracy: 0.9919 - val_loss: 1.0142 - val_accuracy: 0.7403\n",
      "Epoch 85/100\n",
      "20/20 [==============================] - 0s 4ms/step - loss: 0.0400 - accuracy: 0.9967 - val_loss: 1.0128 - val_accuracy: 0.7273\n",
      "Epoch 86/100\n",
      "20/20 [==============================] - 0s 4ms/step - loss: 0.0442 - accuracy: 0.9935 - val_loss: 1.0934 - val_accuracy: 0.7403\n",
      "Epoch 87/100\n",
      "20/20 [==============================] - 0s 5ms/step - loss: 0.0451 - accuracy: 0.9902 - val_loss: 1.0218 - val_accuracy: 0.7532\n",
      "Epoch 88/100\n",
      "20/20 [==============================] - 0s 5ms/step - loss: 0.0463 - accuracy: 0.9935 - val_loss: 0.9908 - val_accuracy: 0.7273\n",
      "Epoch 89/100\n",
      "20/20 [==============================] - 0s 4ms/step - loss: 0.0367 - accuracy: 0.9919 - val_loss: 1.1238 - val_accuracy: 0.7403\n",
      "Epoch 90/100\n",
      "20/20 [==============================] - 0s 4ms/step - loss: 0.0480 - accuracy: 0.9935 - val_loss: 1.0072 - val_accuracy: 0.7532\n",
      "Epoch 91/100\n",
      "20/20 [==============================] - 0s 4ms/step - loss: 0.0387 - accuracy: 0.9919 - val_loss: 1.1483 - val_accuracy: 0.7338\n",
      "Epoch 92/100\n",
      "20/20 [==============================] - 0s 4ms/step - loss: 0.0502 - accuracy: 0.9837 - val_loss: 1.0756 - val_accuracy: 0.7338\n",
      "Epoch 93/100\n",
      "20/20 [==============================] - 0s 5ms/step - loss: 0.0359 - accuracy: 0.9935 - val_loss: 1.0835 - val_accuracy: 0.7597\n",
      "Epoch 94/100\n",
      "20/20 [==============================] - 0s 5ms/step - loss: 0.0343 - accuracy: 0.9967 - val_loss: 1.0322 - val_accuracy: 0.7403\n",
      "Epoch 95/100\n",
      "20/20 [==============================] - 0s 5ms/step - loss: 0.0374 - accuracy: 0.9919 - val_loss: 1.2749 - val_accuracy: 0.6948\n",
      "Epoch 96/100\n",
      "20/20 [==============================] - 0s 5ms/step - loss: 0.0515 - accuracy: 0.9935 - val_loss: 1.1247 - val_accuracy: 0.7143\n",
      "Epoch 97/100\n",
      "20/20 [==============================] - 0s 4ms/step - loss: 0.0580 - accuracy: 0.9805 - val_loss: 1.2962 - val_accuracy: 0.7143\n",
      "Epoch 98/100\n",
      "20/20 [==============================] - 0s 4ms/step - loss: 0.0324 - accuracy: 0.9967 - val_loss: 1.0323 - val_accuracy: 0.7532\n",
      "Epoch 99/100\n",
      "20/20 [==============================] - 0s 4ms/step - loss: 0.0266 - accuracy: 0.9984 - val_loss: 1.1311 - val_accuracy: 0.7208\n",
      "Epoch 100/100\n",
      "20/20 [==============================] - 0s 5ms/step - loss: 0.0234 - accuracy: 0.9984 - val_loss: 1.1145 - val_accuracy: 0.7532\n"
     ]
    }
   ],
   "source": [
    "result = model.fit(X_train_scaled, \n",
    "                   y_train,\n",
    "                   validation_data = (X_test_scaled, y_test),\n",
    "                   epochs=100)"
   ]
  },
  {
   "cell_type": "code",
   "execution_count": 34,
   "id": "e3551df5-c612-4084-b258-e43e03fd1c01",
   "metadata": {},
   "outputs": [],
   "source": [
    "y_train_pred = model.predict(X_train_scaled)\n",
    "y_test_pred = model.predict(X_test_scaled)"
   ]
  },
  {
   "cell_type": "code",
   "execution_count": 35,
   "id": "e1f74d2e-3ec4-4b86-8975-bacdaf8cc79b",
   "metadata": {},
   "outputs": [],
   "source": [
    "from sklearn.metrics import confusion_matrix, accuracy_score"
   ]
  },
  {
   "cell_type": "code",
   "execution_count": 36,
   "id": "c4edecff-1137-418f-8d39-21374a68f2cb",
   "metadata": {},
   "outputs": [
    {
     "data": {
      "text/plain": [
       "array([[400,   0],\n",
       "       [  0, 214]])"
      ]
     },
     "execution_count": 36,
     "metadata": {},
     "output_type": "execute_result"
    }
   ],
   "source": [
    "confusion_matrix(y_pred=y_train_pred >= 0.5, \n",
    "                 y_true = y_train)"
   ]
  },
  {
   "cell_type": "code",
   "execution_count": 38,
   "id": "39661898-157a-4eda-9c86-4da7e8a784de",
   "metadata": {},
   "outputs": [
    {
     "data": {
      "text/plain": [
       "'2.8.0'"
      ]
     },
     "execution_count": 38,
     "metadata": {},
     "output_type": "execute_result"
    }
   ],
   "source": [
    "tf.__version__"
   ]
  },
  {
   "cell_type": "code",
   "execution_count": 37,
   "id": "ee5a513d-8de5-4b3a-9bb5-2f16a1641c50",
   "metadata": {},
   "outputs": [
    {
     "data": {
      "text/plain": [
       "1.0"
      ]
     },
     "execution_count": 37,
     "metadata": {},
     "output_type": "execute_result"
    }
   ],
   "source": [
    "accuracy_score(y_pred=y_train_pred >= 0.5, \n",
    "               y_true = y_train)"
   ]
  },
  {
   "cell_type": "code",
   "execution_count": 42,
   "id": "83c9c1c1-4b5f-4d17-9a1f-05d920609e65",
   "metadata": {},
   "outputs": [
    {
     "data": {
      "text/plain": [
       "array([[76, 24],\n",
       "       [17, 37]])"
      ]
     },
     "execution_count": 42,
     "metadata": {},
     "output_type": "execute_result"
    }
   ],
   "source": [
    "confusion_matrix(y_pred=y_test_pred >= 0.5, \n",
    "                 y_true = y_test)"
   ]
  },
  {
   "cell_type": "code",
   "execution_count": 43,
   "id": "e5c155ae-c1ab-4afb-bd8b-edc619be4cdf",
   "metadata": {},
   "outputs": [
    {
     "data": {
      "text/plain": [
       "0.7337662337662337"
      ]
     },
     "execution_count": 43,
     "metadata": {},
     "output_type": "execute_result"
    }
   ],
   "source": [
    "accuracy_score(y_pred=y_test_pred >= 0.5, \n",
    "               y_true = y_test)"
   ]
  },
  {
   "cell_type": "code",
   "execution_count": 71,
   "id": "88a8ed66-80cd-4545-812f-66e5dcd72333",
   "metadata": {},
   "outputs": [],
   "source": [
    "history = pd.DataFrame(result.history)"
   ]
  },
  {
   "cell_type": "code",
   "execution_count": 72,
   "id": "7591d6f3-113e-4751-bc90-d815427fd3d1",
   "metadata": {},
   "outputs": [
    {
     "data": {
      "text/html": [
       "<div>\n",
       "<style scoped>\n",
       "    .dataframe tbody tr th:only-of-type {\n",
       "        vertical-align: middle;\n",
       "    }\n",
       "\n",
       "    .dataframe tbody tr th {\n",
       "        vertical-align: top;\n",
       "    }\n",
       "\n",
       "    .dataframe thead th {\n",
       "        text-align: right;\n",
       "    }\n",
       "</style>\n",
       "<table border=\"1\" class=\"dataframe\">\n",
       "  <thead>\n",
       "    <tr style=\"text-align: right;\">\n",
       "      <th></th>\n",
       "      <th>loss</th>\n",
       "      <th>accuracy</th>\n",
       "      <th>val_loss</th>\n",
       "      <th>val_accuracy</th>\n",
       "    </tr>\n",
       "  </thead>\n",
       "  <tbody>\n",
       "    <tr>\n",
       "      <th>0</th>\n",
       "      <td>0.612175</td>\n",
       "      <td>0.697068</td>\n",
       "      <td>0.529127</td>\n",
       "      <td>0.733766</td>\n",
       "    </tr>\n",
       "    <tr>\n",
       "      <th>1</th>\n",
       "      <td>0.512306</td>\n",
       "      <td>0.750814</td>\n",
       "      <td>0.460677</td>\n",
       "      <td>0.766234</td>\n",
       "    </tr>\n",
       "    <tr>\n",
       "      <th>2</th>\n",
       "      <td>0.480342</td>\n",
       "      <td>0.768730</td>\n",
       "      <td>0.438552</td>\n",
       "      <td>0.792208</td>\n",
       "    </tr>\n",
       "    <tr>\n",
       "      <th>3</th>\n",
       "      <td>0.460723</td>\n",
       "      <td>0.781759</td>\n",
       "      <td>0.428744</td>\n",
       "      <td>0.792208</td>\n",
       "    </tr>\n",
       "    <tr>\n",
       "      <th>4</th>\n",
       "      <td>0.447622</td>\n",
       "      <td>0.789902</td>\n",
       "      <td>0.428214</td>\n",
       "      <td>0.785714</td>\n",
       "    </tr>\n",
       "  </tbody>\n",
       "</table>\n",
       "</div>"
      ],
      "text/plain": [
       "       loss  accuracy  val_loss  val_accuracy\n",
       "0  0.612175  0.697068  0.529127      0.733766\n",
       "1  0.512306  0.750814  0.460677      0.766234\n",
       "2  0.480342  0.768730  0.438552      0.792208\n",
       "3  0.460723  0.781759  0.428744      0.792208\n",
       "4  0.447622  0.789902  0.428214      0.785714"
      ]
     },
     "execution_count": 72,
     "metadata": {},
     "output_type": "execute_result"
    }
   ],
   "source": [
    "history.head()"
   ]
  },
  {
   "cell_type": "code",
   "execution_count": 46,
   "id": "5bc6b994-3a44-49b0-b05f-1bff291eb317",
   "metadata": {},
   "outputs": [],
   "source": [
    "import matplotlib.pyplot as plt"
   ]
  },
  {
   "cell_type": "code",
   "execution_count": 74,
   "id": "ad6b437b-a492-4ae2-b2d3-c463bbfc53e6",
   "metadata": {},
   "outputs": [
    {
     "data": {
      "image/png": "[encoded data removed]",
      "text/plain": [
       "<Figure size 1080x432 with 1 Axes>"
      ]
     },
     "metadata": {
      "needs_background": "light"
     },
     "output_type": "display_data"
    }
   ],
   "source": [
    "plt.figure(figsize = (15,6))\n",
    "plt.plot(history.val_loss, label='Test Set Loss')\n",
    "plt.plot(history.loss, label='Training Set Loss')\n",
    "plt.title('Epochs vs Loss')\n",
    "plt.xlabel('Epochs')\n",
    "plt.ylabel('Loss')\n",
    "plt.legend()\n",
    "plt.show()"
   ]
  },
  {
   "cell_type": "code",
   "execution_count": 75,
   "id": "88b30dc0-5cc8-4423-b100-46bb7b8f8497",
   "metadata": {},
   "outputs": [
    {
     "data": {
      "image/png": "[encoded data removed]",
      "text/plain": [
       "<Figure size 1080x432 with 1 Axes>"
      ]
     },
     "metadata": {
      "needs_background": "light"
     },
     "output_type": "display_data"
    }
   ],
   "source": [
    "plt.figure(figsize = (15,6))\n",
    "plt.plot(history.val_accuracy, label='Test Set Accuracy')\n",
    "plt.plot(history.accuracy, label='Training Set Accuracy')\n",
    "plt.title('Epochs vs Accuracy')\n",
    "plt.xlabel('Epochs')\n",
    "plt.ylabel('Accuracy')\n",
    "plt.legend()\n",
    "plt.show()"
   ]
  },
  {
   "cell_type": "code",
   "execution_count": null,
   "id": "4dab7eab-9549-4e31-a9bf-6f7dd36dc77b",
   "metadata": {},
   "outputs": [],
   "source": []
  }
 ],
 "metadata": {
  "kernelspec": {
   "display_name": "Python 3",
   "language": "python",
   "name": "python3"
  },
  "language_info": {
   "codemirror_mode": {
    "name": "ipython",
    "version": 3
   },
   "file_extension": ".py",
   "mimetype": "text/x-python",
   "name": "python",
   "nbconvert_exporter": "python",
   "pygments_lexer": "ipython3",
   "version": "3.7.6"
  }
 },
 "nbformat": 4,
 "nbformat_minor": 5
}
